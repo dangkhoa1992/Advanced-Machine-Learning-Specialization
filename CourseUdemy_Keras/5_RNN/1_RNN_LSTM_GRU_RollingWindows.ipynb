{
 "cells": [
  {
   "cell_type": "markdown",
   "metadata": {},
   "source": [
    "## Recurrent Neural Networks\n",
    "#### Recurrent Neuron\n",
    "<img src=\"./Figs/1.jpg\" alt=\"Drawing\" style=\"width: 500px;\"/>\n",
    "\n",
    "#### Simple RNN\n",
    "- Output as an input for the next state\n",
    "<img src=\"./Figs/9.jpg\" alt=\"Drawing\" style=\"width: 500px;\"/>\n",
    "\n",
    "- Unroll time RNN\n",
    "- Weights: (w,v) not depend on t\n",
    "<img src=\"./Figs/10.jpg\" alt=\"Drawing\" style=\"width: 500px;\"/>\n",
    "\n",
    "#### Deep RNN\n",
    "<img src=\"./Figs/11.jpg\" alt=\"Drawing\" style=\"width: 500px;\"/>"
   ]
  },
  {
   "cell_type": "markdown",
   "metadata": {},
   "source": [
    "## Sequence Problems in ML\n",
    "#### One to One\n",
    "<img src=\"./Figs/4.jpg\" alt=\"Drawing\" style=\"width: 500px;\"/>\n",
    "\n",
    "#### One to Many (Vector to sequence)\n",
    "<img src=\"./Figs/5.jpg\" alt=\"Drawing\" style=\"width: 500px;\"/>\n",
    "\n",
    "#### Many to One (sequence to vector)\n",
    "<img src=\"./Figs/6.jpg\" alt=\"Drawing\" style=\"width: 500px;\"/>\n",
    "\n",
    "#### Many to Many\n",
    "<img src=\"./Figs/7.jpg\" alt=\"Drawing\" style=\"width: 500px;\"/>\n",
    "\n",
    "#### Synchronous Many to Many (Sequence to sequence)\n",
    "<img src=\"./Figs/8.jpg\" alt=\"Drawing\" style=\"width: 500px;\"/>\n",
    "<img src=\"./Figs/2.jpg\" alt=\"Drawing\" style=\"width: 500px;\"/>"
   ]
  },
  {
   "cell_type": "markdown",
   "metadata": {},
   "source": [
    "## Vanishing gradient problem\n",
    "<img src=\"./Figs/12.jpg\" alt=\"Drawing\" style=\"width: 500px;\"/>\n",
    "\n",
    "- Backpropagation: Error Gradient from output layer -> input layer\n",
    "- Deep network issues: Vanishing and Exploding Gradient\n",
    "    + sigmoid function cause gradient vanishing\n",
    "- Solutions:\n",
    "    + Use Relu, leaky Relu, Elu...\n",
    "    + Batch normalization\n",
    "    + Gradient Clipping (for Gradient Exploding): Cutoff Gradient to be between [-1,1]\n",
    "    + For RNN: GRU, LSTM"
   ]
  },
  {
   "cell_type": "markdown",
   "metadata": {},
   "source": [
    "## LSTM - Long Short Term Memory\n",
    "- Vanilla RNN cell vs LSTM cell\n",
    "    <img src=\"./Figs/13.jpg\" alt=\"Drawing\" style=\"width: 1800px;\"/>\n",
    "- Cell state\n",
    "    + Definitions:\n",
    "        + $x_t$: input\n",
    "        + $h_t$: output\n",
    "        + $C_t$: cell state\n",
    "        + $\\sigma$, tanh: activation functions\n",
    "    + Structure:\n",
    "        - 3 cells: past, current, future\n",
    "        - Network learn how much past and current input to be kept to produce the output\n",
    "        - Solved the vanishing gradient problem \n",
    "    <img src=\"./Figs/14.jpg\" alt=\"Drawing\" style=\"width: 500px;\"/>\n",
    "- Forget gate\n",
    "    + [$h_{t-1}$, $x_t$]: concate 2 signal\n",
    "    + $f_t$ = 0: completely forget\n",
    "    <img src=\"./Figs/15.jpg\" alt=\"Drawing\" style=\"width: 500px;\"/>\n",
    "- Input gate\n",
    "    + Contains the features \n",
    "        <img src=\"./Figs/16.jpg\" alt=\"Drawing\" style=\"width: 500px;\"/>\n",
    "- State update\n",
    "    + combine forget gate and input gate to produce current state\n",
    "    <img src=\"./Figs/17.jpg\" alt=\"Drawing\" style=\"width: 500px;\"/>\n",
    "- Output gate\n",
    "    <img src=\"./Figs/18.jpg\" alt=\"Drawing\" style=\"width: 500px;\"/>"
   ]
  },
  {
   "cell_type": "markdown",
   "metadata": {},
   "source": [
    "## GRU - Gated Recurrent Unit\n",
    "- Simple version of LSTM\n",
    "<img src=\"./Figs/19.jpg\" alt=\"Drawing\" style=\"width: 500px;\"/>"
   ]
  }
 ],
 "metadata": {
  "kernelspec": {
   "display_name": "Python 3",
   "language": "python",
   "name": "python3"
  },
  "language_info": {
   "codemirror_mode": {
    "name": "ipython",
    "version": 3
   },
   "file_extension": ".py",
   "mimetype": "text/x-python",
   "name": "python",
   "nbconvert_exporter": "python",
   "pygments_lexer": "ipython3",
   "version": "3.7.7"
  }
 },
 "nbformat": 4,
 "nbformat_minor": 2
}
