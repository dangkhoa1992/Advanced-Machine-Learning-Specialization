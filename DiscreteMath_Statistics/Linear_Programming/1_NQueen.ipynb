{
 "cells": [
  {
   "cell_type": "markdown",
   "metadata": {},
   "source": [
    "# 0. Tools"
   ]
  },
  {
   "cell_type": "markdown",
   "metadata": {},
   "source": [
    "#### permutation"
   ]
  },
  {
   "cell_type": "code",
   "execution_count": 1,
   "metadata": {},
   "outputs": [
    {
     "name": "stdout",
     "output_type": "stream",
     "text": [
      "(1, 2, 3)\n",
      "(1, 3, 2)\n",
      "(2, 1, 3)\n",
      "(2, 3, 1)\n",
      "(3, 1, 2)\n",
      "(3, 2, 1)\n"
     ]
    }
   ],
   "source": [
    "from itertools import permutations\n",
    "\n",
    "# 3!\n",
    "for perm in permutations([1,2,3]):\n",
    "    print(perm)"
   ]
  },
  {
   "cell_type": "markdown",
   "metadata": {},
   "source": [
    "#### combination"
   ]
  },
  {
   "cell_type": "code",
   "execution_count": 2,
   "metadata": {},
   "outputs": [
    {
     "name": "stdout",
     "output_type": "stream",
     "text": [
      "(1, 2)\n",
      "(1, 3)\n",
      "(1, 4)\n",
      "(2, 3)\n",
      "(2, 4)\n",
      "(3, 4)\n"
     ]
    }
   ],
   "source": [
    "from itertools import combinations\n",
    "\n",
    "# 4C2\n",
    "for comb in combinations([1,2,3,4], 2):\n",
    "    print(comb)"
   ]
  },
  {
   "cell_type": "markdown",
   "metadata": {},
   "source": [
    "#### product"
   ]
  },
  {
   "cell_type": "code",
   "execution_count": 3,
   "metadata": {},
   "outputs": [
    {
     "name": "stdout",
     "output_type": "stream",
     "text": [
      "1 a xx\n",
      "1 a yy\n",
      "1 a zz\n",
      "1 b xx\n",
      "1 b yy\n",
      "1 b zz\n",
      "2 a xx\n",
      "2 a yy\n",
      "2 a zz\n",
      "2 b xx\n",
      "2 b yy\n",
      "2 b zz\n"
     ]
    }
   ],
   "source": [
    "from itertools import product\n",
    "\n",
    "# 2*2*3\n",
    "for x1, x2, x3 in product([1,2], ['a', 'b'], ['xx', 'yy', 'zz']):\n",
    "    print(x1, x2, x3)"
   ]
  },
  {
   "cell_type": "code",
   "execution_count": 4,
   "metadata": {},
   "outputs": [
    {
     "name": "stdout",
     "output_type": "stream",
     "text": [
      "1 1 1 1\n",
      "1 1 1 2\n",
      "1 1 2 1\n",
      "1 1 2 2\n",
      "1 2 1 1\n",
      "1 2 1 2\n",
      "1 2 2 1\n",
      "1 2 2 2\n",
      "2 1 1 1\n",
      "2 1 1 2\n",
      "2 1 2 1\n",
      "2 1 2 2\n",
      "2 2 1 1\n",
      "2 2 1 2\n",
      "2 2 2 1\n",
      "2 2 2 2\n"
     ]
    }
   ],
   "source": [
    "from itertools import product\n",
    "\n",
    "# 2*2*2*2\n",
    "for x1, x2, x3, x4 in product([1,2], repeat=4):\n",
    "    print(x1, x2, x3, x4)"
   ]
  },
  {
   "cell_type": "markdown",
   "metadata": {},
   "source": [
    "#### SAT-solver\n",
    "[https://pypi.org/project/pycosat/](https://pypi.org/project/pycosat/)\n",
    "\n",
    "- Example 1: Solve the SAT\n",
    "    + ($x_1 = 0$ or $x_2 = 1$)($x_1 = 1$ or $x_2 = 1$)($x_1 = 1$ or $x_2 = 0$)\n",
    "    + $(\\bar{x_1} + x_2)(x_1 + x_2)(x_1 + \\bar{x_2})$"
   ]
  },
  {
   "cell_type": "code",
   "execution_count": 5,
   "metadata": {},
   "outputs": [
    {
     "name": "stdout",
     "output_type": "stream",
     "text": [
      "[1, 2]\n"
     ]
    }
   ],
   "source": [
    "from pycosat import solve\n",
    "\n",
    "# Solution: x1 = 1, x2 = 1\n",
    "print(solve([[-1, 2], [1,2], [1, -2]]))"
   ]
  },
  {
   "cell_type": "markdown",
   "metadata": {},
   "source": [
    "- Example 2: Solve the SAT\n",
    "    + ($x_1 = 1$ or $x_2 = 0$ or $x_3 = 0$)($x_3 = 1$ or $x_1 = 0$)($x_2 = 1$ or $x_3 = 1$)\n",
    "    + $(x_1 + \\bar{x_2} + \\bar{x_3})(x_3 + \\bar{x_1})(x_2 + x_3)$"
   ]
  },
  {
   "cell_type": "code",
   "execution_count": 6,
   "metadata": {},
   "outputs": [
    {
     "name": "stdout",
     "output_type": "stream",
     "text": [
      "[-1, 2, -3]\n"
     ]
    }
   ],
   "source": [
    "# Solution: x1=0, x2=1, x3=0\n",
    "print(solve([[1, -2, -3], [3, -1], [2, 3]]))"
   ]
  },
  {
   "cell_type": "markdown",
   "metadata": {},
   "source": [
    "- Example 3: Solve the SAT\n",
    "    + ($x_2 = 0$ or $x_3 = 1$)($x_2=1$ or $x_1=1$)($x_3=0$)($x_3=1$ or $x_1=0$)\n",
    "    + $(\\bar{x_2} + x_3)(x_2 + x_1)(\\bar{x_3})(x_3 + \\bar{x_1})$"
   ]
  },
  {
   "cell_type": "code",
   "execution_count": 7,
   "metadata": {},
   "outputs": [
    {
     "name": "stdout",
     "output_type": "stream",
     "text": [
      "UNSAT\n"
     ]
    }
   ],
   "source": [
    "print(solve([[-2, 3], [2, 1], [-3], [3, -1]]))"
   ]
  },
  {
   "cell_type": "markdown",
   "metadata": {},
   "source": [
    "# 1. Bruteforce\n",
    "#### Models\n",
    "- Chessboard: N*N\n",
    "- Represent the all Queen(q0,q1, ...,qN-1) positions by an array A\n",
    "    + qi at (i,j)\n",
    "    + `index = i`: col\n",
    "    + `A[index] = j`: row\n",
    "\n",
    "<img src=\"assets/1.png\" width=\"600\"/>\n",
    "\n",
    "#### Constraints\n",
    "- If array A is a permutation of N (permute(0,1,...N_1)) then N queens will not attack each other by row, col\n",
    "- Only has to check if each pair of queen is on the same diag\n",
    "    + Consider 2 queens: `q1 = (i1, j1)`, `q2 = (i2, j2)`\n",
    "    + q1, q2 are on the same diag if the horizontal shift is the same as the vertical shift: $|i_1 -i_2| = |j_1 - j_2|$\n",
    "\n",
    "<img src=\"assets/2.png\" width=\"200\"/>\n"
   ]
  },
  {
   "cell_type": "code",
   "execution_count": 8,
   "metadata": {},
   "outputs": [],
   "source": [
    "def is_same_diag(i1, j1, i2, j2):\n",
    "    '''\n",
    "    q1 = (i1, j1)\n",
    "    q2 = (i2, j2)\n",
    "    is in the same diag if abs(i1-i2) = abs(j1-j2)  \n",
    "    '''\n",
    "    return abs(i1-i2) == abs(j1-j2)\n",
    "\n",
    "def is_solution(A):\n",
    "    '''Check if a permuted config (array A) has all pairs not on the same diag - O(N C2)'''\n",
    "    # Generate all pairs of q1, q2\n",
    "    pairs = combinations(range(len(A)), 2)\n",
    "\n",
    "    # q1 = (i1, A[i1]), q2 = (i2, A[i2])\n",
    "    return all(not is_same_diag(i1, A[i1], i2, A[i2]) for i1, i2 in pairs)"
   ]
  },
  {
   "cell_type": "code",
   "execution_count": 9,
   "metadata": {},
   "outputs": [
    {
     "name": "stdout",
     "output_type": "stream",
     "text": [
      "(1, 3, 0, 2)\n",
      "(2, 0, 3, 1)\n",
      "CPU times: user 78 µs, sys: 4 µs, total: 82 µs\n",
      "Wall time: 75.6 µs\n"
     ]
    }
   ],
   "source": [
    "%%time\n",
    "# Solve N = 4\n",
    "N = 4\n",
    "for perm in permutations(range(N)):\n",
    "    if is_solution(perm):\n",
    "        print(perm)"
   ]
  },
  {
   "cell_type": "code",
   "execution_count": 10,
   "metadata": {},
   "outputs": [
    {
     "name": "stdout",
     "output_type": "stream",
     "text": [
      "(0, 4, 7, 5, 2, 6, 1, 3)\n",
      "(0, 5, 7, 2, 6, 3, 1, 4)\n",
      "(0, 6, 3, 5, 7, 1, 4, 2)\n",
      "(0, 6, 4, 7, 1, 3, 5, 2)\n",
      "(1, 3, 5, 7, 2, 0, 6, 4)\n",
      "(1, 4, 6, 0, 2, 7, 5, 3)\n",
      "(1, 4, 6, 3, 0, 7, 5, 2)\n",
      "(1, 5, 0, 6, 3, 7, 2, 4)\n",
      "(1, 5, 7, 2, 0, 3, 6, 4)\n",
      "(1, 6, 2, 5, 7, 4, 0, 3)\n",
      "(1, 6, 4, 7, 0, 3, 5, 2)\n",
      "(1, 7, 5, 0, 2, 4, 6, 3)\n",
      "(2, 0, 6, 4, 7, 1, 3, 5)\n",
      "(2, 4, 1, 7, 0, 6, 3, 5)\n",
      "(2, 4, 1, 7, 5, 3, 6, 0)\n",
      "(2, 4, 6, 0, 3, 1, 7, 5)\n",
      "(2, 4, 7, 3, 0, 6, 1, 5)\n",
      "(2, 5, 1, 4, 7, 0, 6, 3)\n",
      "(2, 5, 1, 6, 0, 3, 7, 4)\n",
      "(2, 5, 1, 6, 4, 0, 7, 3)\n",
      "(2, 5, 3, 0, 7, 4, 6, 1)\n",
      "(2, 5, 3, 1, 7, 4, 6, 0)\n",
      "(2, 5, 7, 0, 3, 6, 4, 1)\n",
      "(2, 5, 7, 0, 4, 6, 1, 3)\n",
      "(2, 5, 7, 1, 3, 0, 6, 4)\n",
      "(2, 6, 1, 7, 4, 0, 3, 5)\n",
      "(2, 6, 1, 7, 5, 3, 0, 4)\n",
      "(2, 7, 3, 6, 0, 5, 1, 4)\n",
      "(3, 0, 4, 7, 1, 6, 2, 5)\n",
      "(3, 0, 4, 7, 5, 2, 6, 1)\n",
      "(3, 1, 4, 7, 5, 0, 2, 6)\n",
      "(3, 1, 6, 2, 5, 7, 0, 4)\n",
      "(3, 1, 6, 2, 5, 7, 4, 0)\n",
      "(3, 1, 6, 4, 0, 7, 5, 2)\n",
      "(3, 1, 7, 4, 6, 0, 2, 5)\n",
      "(3, 1, 7, 5, 0, 2, 4, 6)\n",
      "(3, 5, 0, 4, 1, 7, 2, 6)\n",
      "(3, 5, 7, 1, 6, 0, 2, 4)\n",
      "(3, 5, 7, 2, 0, 6, 4, 1)\n",
      "(3, 6, 0, 7, 4, 1, 5, 2)\n",
      "(3, 6, 2, 7, 1, 4, 0, 5)\n",
      "(3, 6, 4, 1, 5, 0, 2, 7)\n",
      "(3, 6, 4, 2, 0, 5, 7, 1)\n",
      "(3, 7, 0, 2, 5, 1, 6, 4)\n",
      "(3, 7, 0, 4, 6, 1, 5, 2)\n",
      "(3, 7, 4, 2, 0, 6, 1, 5)\n",
      "(4, 0, 3, 5, 7, 1, 6, 2)\n",
      "(4, 0, 7, 3, 1, 6, 2, 5)\n",
      "(4, 0, 7, 5, 2, 6, 1, 3)\n",
      "(4, 1, 3, 5, 7, 2, 0, 6)\n",
      "(4, 1, 3, 6, 2, 7, 5, 0)\n",
      "(4, 1, 5, 0, 6, 3, 7, 2)\n",
      "(4, 1, 7, 0, 3, 6, 2, 5)\n",
      "(4, 2, 0, 5, 7, 1, 3, 6)\n",
      "(4, 2, 0, 6, 1, 7, 5, 3)\n",
      "(4, 2, 7, 3, 6, 0, 5, 1)\n",
      "(4, 6, 0, 2, 7, 5, 3, 1)\n",
      "(4, 6, 0, 3, 1, 7, 5, 2)\n",
      "(4, 6, 1, 3, 7, 0, 2, 5)\n",
      "(4, 6, 1, 5, 2, 0, 3, 7)\n",
      "(4, 6, 1, 5, 2, 0, 7, 3)\n",
      "(4, 6, 3, 0, 2, 7, 5, 1)\n",
      "(4, 7, 3, 0, 2, 5, 1, 6)\n",
      "(4, 7, 3, 0, 6, 1, 5, 2)\n",
      "(5, 0, 4, 1, 7, 2, 6, 3)\n",
      "(5, 1, 6, 0, 2, 4, 7, 3)\n",
      "(5, 1, 6, 0, 3, 7, 4, 2)\n",
      "(5, 2, 0, 6, 4, 7, 1, 3)\n",
      "(5, 2, 0, 7, 3, 1, 6, 4)\n",
      "(5, 2, 0, 7, 4, 1, 3, 6)\n",
      "(5, 2, 4, 6, 0, 3, 1, 7)\n",
      "(5, 2, 4, 7, 0, 3, 1, 6)\n",
      "(5, 2, 6, 1, 3, 7, 0, 4)\n",
      "(5, 2, 6, 1, 7, 4, 0, 3)\n",
      "(5, 2, 6, 3, 0, 7, 1, 4)\n",
      "(5, 3, 0, 4, 7, 1, 6, 2)\n",
      "(5, 3, 1, 7, 4, 6, 0, 2)\n",
      "(5, 3, 6, 0, 2, 4, 1, 7)\n",
      "(5, 3, 6, 0, 7, 1, 4, 2)\n",
      "(5, 7, 1, 3, 0, 6, 4, 2)\n",
      "(6, 0, 2, 7, 5, 3, 1, 4)\n",
      "(6, 1, 3, 0, 7, 4, 2, 5)\n",
      "(6, 1, 5, 2, 0, 3, 7, 4)\n",
      "(6, 2, 0, 5, 7, 4, 1, 3)\n",
      "(6, 2, 7, 1, 4, 0, 5, 3)\n",
      "(6, 3, 1, 4, 7, 0, 2, 5)\n",
      "(6, 3, 1, 7, 5, 0, 2, 4)\n",
      "(6, 4, 2, 0, 5, 7, 1, 3)\n",
      "(7, 1, 3, 0, 6, 4, 2, 5)\n",
      "(7, 1, 4, 2, 0, 6, 3, 5)\n",
      "(7, 2, 0, 5, 1, 4, 6, 3)\n",
      "(7, 3, 0, 2, 5, 1, 6, 4)\n",
      "CPU times: user 86.2 ms, sys: 1.8 ms, total: 88 ms\n",
      "Wall time: 87.3 ms\n"
     ]
    }
   ],
   "source": [
    "%%time\n",
    "# Solve N = 8\n",
    "N = 8\n",
    "for perm in permutations(range(N)):\n",
    "    if is_solution(perm):\n",
    "        print(perm)"
   ]
  },
  {
   "cell_type": "markdown",
   "metadata": {},
   "source": [
    "# 2. Backtrack\n",
    "#### Ideas backtrack based on permutation generating"
   ]
  },
  {
   "cell_type": "code",
   "execution_count": 11,
   "metadata": {},
   "outputs": [],
   "source": [
    "def extend(perm, n):\n",
    "    if len(perm) == n:\n",
    "        print(perm)\n",
    "        return\n",
    "\n",
    "    for k in range(n):\n",
    "        if k not in perm:\n",
    "            extend(perm + [k], n)"
   ]
  },
  {
   "cell_type": "code",
   "execution_count": 12,
   "metadata": {},
   "outputs": [
    {
     "name": "stdout",
     "output_type": "stream",
     "text": [
      "[0, 1, 2]\n",
      "[0, 2, 1]\n",
      "[1, 0, 2]\n",
      "[1, 2, 0]\n",
      "[2, 0, 1]\n",
      "[2, 1, 0]\n"
     ]
    }
   ],
   "source": [
    "extend(perm=[], n=3)"
   ]
  },
  {
   "cell_type": "markdown",
   "metadata": {},
   "source": [
    "#### Optimized\n",
    "- Now check only the last added queen (`k`) has the same diag with all prev queen (`[0,k-1]`)\n",
    "- Time Complexity reduce from `NC2` to `N`"
   ]
  },
  {
   "cell_type": "code",
   "execution_count": 13,
   "metadata": {},
   "outputs": [],
   "source": [
    "def is_same_diag(i1, j1, i2, j2):\n",
    "    '''\n",
    "    q1 = (i1, j1)\n",
    "    q2 = (i2, j2)\n",
    "    is in the same diag if abs(i1-i2) = abs(j1-j2)\n",
    "    '''\n",
    "    return abs(i1-i2) == abs(j1-j2)\n",
    "\n",
    "def can_be_extended(A):\n",
    "    '''Check if the last added queen (k) has not the same diag with the previous [0,k-1] - O(N)'''\n",
    "    i1 = len(A) - 1\n",
    "    return all(not is_same_diag(i1, A[i1], i2, A[i2]) for i2 in range(i1))\n",
    "\n",
    "def extend(perm, n):\n",
    "    if len(perm) == n:\n",
    "        print(perm)\n",
    "        return\n",
    "\n",
    "    for k in range(n):\n",
    "        if k not in perm:\n",
    "            if can_be_extended(perm + [k]):\n",
    "                extend(perm + [k], n)"
   ]
  },
  {
   "cell_type": "code",
   "execution_count": 14,
   "metadata": {},
   "outputs": [
    {
     "name": "stdout",
     "output_type": "stream",
     "text": [
      "[1, 3, 0, 2]\n",
      "[2, 0, 3, 1]\n",
      "CPU times: user 93 µs, sys: 0 ns, total: 93 µs\n",
      "Wall time: 80.1 µs\n"
     ]
    }
   ],
   "source": [
    "%%time\n",
    "# Solve N = 4\n",
    "extend(perm=[], n=4)"
   ]
  },
  {
   "cell_type": "code",
   "execution_count": 15,
   "metadata": {},
   "outputs": [
    {
     "name": "stdout",
     "output_type": "stream",
     "text": [
      "[0, 4, 7, 5, 2, 6, 1, 3]\n",
      "[0, 5, 7, 2, 6, 3, 1, 4]\n",
      "[0, 6, 3, 5, 7, 1, 4, 2]\n",
      "[0, 6, 4, 7, 1, 3, 5, 2]\n",
      "[1, 3, 5, 7, 2, 0, 6, 4]\n",
      "[1, 4, 6, 0, 2, 7, 5, 3]\n",
      "[1, 4, 6, 3, 0, 7, 5, 2]\n",
      "[1, 5, 0, 6, 3, 7, 2, 4]\n",
      "[1, 5, 7, 2, 0, 3, 6, 4]\n",
      "[1, 6, 2, 5, 7, 4, 0, 3]\n",
      "[1, 6, 4, 7, 0, 3, 5, 2]\n",
      "[1, 7, 5, 0, 2, 4, 6, 3]\n",
      "[2, 0, 6, 4, 7, 1, 3, 5]\n",
      "[2, 4, 1, 7, 0, 6, 3, 5]\n",
      "[2, 4, 1, 7, 5, 3, 6, 0]\n",
      "[2, 4, 6, 0, 3, 1, 7, 5]\n",
      "[2, 4, 7, 3, 0, 6, 1, 5]\n",
      "[2, 5, 1, 4, 7, 0, 6, 3]\n",
      "[2, 5, 1, 6, 0, 3, 7, 4]\n",
      "[2, 5, 1, 6, 4, 0, 7, 3]\n",
      "[2, 5, 3, 0, 7, 4, 6, 1]\n",
      "[2, 5, 3, 1, 7, 4, 6, 0]\n",
      "[2, 5, 7, 0, 3, 6, 4, 1]\n",
      "[2, 5, 7, 0, 4, 6, 1, 3]\n",
      "[2, 5, 7, 1, 3, 0, 6, 4]\n",
      "[2, 6, 1, 7, 4, 0, 3, 5]\n",
      "[2, 6, 1, 7, 5, 3, 0, 4]\n",
      "[2, 7, 3, 6, 0, 5, 1, 4]\n",
      "[3, 0, 4, 7, 1, 6, 2, 5]\n",
      "[3, 0, 4, 7, 5, 2, 6, 1]\n",
      "[3, 1, 4, 7, 5, 0, 2, 6]\n",
      "[3, 1, 6, 2, 5, 7, 0, 4]\n",
      "[3, 1, 6, 2, 5, 7, 4, 0]\n",
      "[3, 1, 6, 4, 0, 7, 5, 2]\n",
      "[3, 1, 7, 4, 6, 0, 2, 5]\n",
      "[3, 1, 7, 5, 0, 2, 4, 6]\n",
      "[3, 5, 0, 4, 1, 7, 2, 6]\n",
      "[3, 5, 7, 1, 6, 0, 2, 4]\n",
      "[3, 5, 7, 2, 0, 6, 4, 1]\n",
      "[3, 6, 0, 7, 4, 1, 5, 2]\n",
      "[3, 6, 2, 7, 1, 4, 0, 5]\n",
      "[3, 6, 4, 1, 5, 0, 2, 7]\n",
      "[3, 6, 4, 2, 0, 5, 7, 1]\n",
      "[3, 7, 0, 2, 5, 1, 6, 4]\n",
      "[3, 7, 0, 4, 6, 1, 5, 2]\n",
      "[3, 7, 4, 2, 0, 6, 1, 5]\n",
      "[4, 0, 3, 5, 7, 1, 6, 2]\n",
      "[4, 0, 7, 3, 1, 6, 2, 5]\n",
      "[4, 0, 7, 5, 2, 6, 1, 3]\n",
      "[4, 1, 3, 5, 7, 2, 0, 6]\n",
      "[4, 1, 3, 6, 2, 7, 5, 0]\n",
      "[4, 1, 5, 0, 6, 3, 7, 2]\n",
      "[4, 1, 7, 0, 3, 6, 2, 5]\n",
      "[4, 2, 0, 5, 7, 1, 3, 6]\n",
      "[4, 2, 0, 6, 1, 7, 5, 3]\n",
      "[4, 2, 7, 3, 6, 0, 5, 1]\n",
      "[4, 6, 0, 2, 7, 5, 3, 1]\n",
      "[4, 6, 0, 3, 1, 7, 5, 2]\n",
      "[4, 6, 1, 3, 7, 0, 2, 5]\n",
      "[4, 6, 1, 5, 2, 0, 3, 7]\n",
      "[4, 6, 1, 5, 2, 0, 7, 3]\n",
      "[4, 6, 3, 0, 2, 7, 5, 1]\n",
      "[4, 7, 3, 0, 2, 5, 1, 6]\n",
      "[4, 7, 3, 0, 6, 1, 5, 2]\n",
      "[5, 0, 4, 1, 7, 2, 6, 3]\n",
      "[5, 1, 6, 0, 2, 4, 7, 3]\n",
      "[5, 1, 6, 0, 3, 7, 4, 2]\n",
      "[5, 2, 0, 6, 4, 7, 1, 3]\n",
      "[5, 2, 0, 7, 3, 1, 6, 4]\n",
      "[5, 2, 0, 7, 4, 1, 3, 6]\n",
      "[5, 2, 4, 6, 0, 3, 1, 7]\n",
      "[5, 2, 4, 7, 0, 3, 1, 6]\n",
      "[5, 2, 6, 1, 3, 7, 0, 4]\n",
      "[5, 2, 6, 1, 7, 4, 0, 3]\n",
      "[5, 2, 6, 3, 0, 7, 1, 4]\n",
      "[5, 3, 0, 4, 7, 1, 6, 2]\n",
      "[5, 3, 1, 7, 4, 6, 0, 2]\n",
      "[5, 3, 6, 0, 2, 4, 1, 7]\n",
      "[5, 3, 6, 0, 7, 1, 4, 2]\n",
      "[5, 7, 1, 3, 0, 6, 4, 2]\n",
      "[6, 0, 2, 7, 5, 3, 1, 4]\n",
      "[6, 1, 3, 0, 7, 4, 2, 5]\n",
      "[6, 1, 5, 2, 0, 3, 7, 4]\n",
      "[6, 2, 0, 5, 7, 4, 1, 3]\n",
      "[6, 2, 7, 1, 4, 0, 5, 3]\n",
      "[6, 3, 1, 4, 7, 0, 2, 5]\n",
      "[6, 3, 1, 7, 5, 0, 2, 4]\n",
      "[6, 4, 2, 0, 5, 7, 1, 3]\n",
      "[7, 1, 3, 0, 6, 4, 2, 5]\n",
      "[7, 1, 4, 2, 0, 6, 3, 5]\n",
      "[7, 2, 0, 5, 1, 4, 6, 3]\n",
      "[7, 3, 0, 2, 5, 1, 6, 4]\n",
      "CPU times: user 10.5 ms, sys: 3.83 ms, total: 14.4 ms\n",
      "Wall time: 13.2 ms\n"
     ]
    }
   ],
   "source": [
    "%%time\n",
    "# Solve N = 8\n",
    "extend(perm=[], n=8)"
   ]
  },
  {
   "cell_type": "markdown",
   "metadata": {},
   "source": [
    "# 3. SAT-solver\n",
    "#### Setup\n",
    "- We use $N^2$ variables: $x_{ij}, \\forall i,j$ in range `[0,N-1]` \n",
    "- $x_{ij} = 1$ iff (if and only if) a queen is placed into the cell (i, j)\n",
    "\n",
    "\n",
    "#### Constraints\n",
    "- Each row must have 1 queen: For each $0 \\leq i < N$, the i-th row contains at least one queen\n",
    "    + For all $0 \\leq i < N$: $(x_{i1} = 1$ or $x_{i2} = 1$ or $\\dots$ or $x_{i(N−1)} = 1)$\n",
    "- Row constraints: For each $0 \\leq i < N$, the i-th row contains at most one queen\n",
    "    + for all $0 \\leq j_1 \\neq j_2 < N$: $(x_{ij_1} = 0$ or $x_{ij_2} = 0)$\n",
    "\n",
    "- Column constraints: For each $0 \\leq j < N$, the j-th col contains at most one queen\n",
    "    + for all $0 \\leq i_ 1 \\neq i_2 < N$: $(x_{i_1j} = 0$ or $x_{i_2j} = 0)$\n",
    "\n",
    "- Diag constraints: no two queens stay on the same diagonal\n",
    "    + For all pair of cell $(i_1, j_1)$ - $(i_2, j_2)$, $i_1 \\neq i_2$  if $|i_1 − i_2 | = | j_1 − j_2 |$: $(x_{i_1j_1} = 0$ or $x_{i_2j_2} = 0)$"
   ]
  },
  {
   "cell_type": "code",
   "execution_count": 16,
   "metadata": {},
   "outputs": [],
   "source": [
    "from itertools import combinations, product\n",
    "from pycosat import solve\n",
    "\n",
    "class NQueens:\n",
    "    def __init__(self, N):\n",
    "        self.N = N\n",
    "\n",
    "    def varnum(self, i, j):\n",
    "        '''Convert (i,j) i,j in range [0,N-1] to varnum(x_num) in range [1, N^2]'''\n",
    "        assert i in range(self.N) and j in range(self.N)\n",
    "        return i * self.N + j + 1\n",
    "\n",
    "    def solve_board(self):\n",
    "        ## Add constraints\n",
    "        clauses = []\n",
    "        # Each row contains at least one queen\n",
    "        for i in range(self.N):\n",
    "            clauses.append([self.varnum(i, j) for j in range(self.N)])\n",
    "\n",
    "        # Row constraints: Each row contains at most one queen\n",
    "        for i in range(self.N):\n",
    "            for j1, j2 in combinations(range(self.N), 2):\n",
    "                clauses.append( [-self.varnum(i, j1), -self.varnum(i, j2)] )\n",
    "\n",
    "        # Column constraints: each column contains at most one queen\n",
    "        for j in range(self.N):\n",
    "            for i1, i2 in combinations(range(self.N), 2):\n",
    "                clauses.append( [-self.varnum(i1, j), -self.varnum(i2, j)] )\n",
    "\n",
    "        # Diag constraints: no two queens stay on the same diagonal\n",
    "        for i1, j1, i2, j2 in product(range(self.N), repeat=4):\n",
    "            if i1 != i2 and abs(i1 - i2) == abs(j1 - j2):\n",
    "                clauses.append( [-self.varnum(i1, j1), -self.varnum(i2, j2)] )\n",
    "\n",
    "        ## Solve\n",
    "        assignment = solve(clauses)\n",
    "        ans = []\n",
    "        for i, j in product(range(self.N), repeat=2):\n",
    "            if assignment[self.varnum(i, j) - 1] > 0:\n",
    "                ans.append(j)\n",
    "        print(ans)"
   ]
  },
  {
   "cell_type": "code",
   "execution_count": 17,
   "metadata": {},
   "outputs": [
    {
     "name": "stdout",
     "output_type": "stream",
     "text": [
      "[2, 0, 3, 1]\n",
      "CPU times: user 398 µs, sys: 24 µs, total: 422 µs\n",
      "Wall time: 361 µs\n"
     ]
    }
   ],
   "source": [
    "%%time\n",
    "# Solve N = 4\n",
    "four_queens = NQueens(4)\n",
    "four_queens.solve_board()"
   ]
  },
  {
   "cell_type": "code",
   "execution_count": 18,
   "metadata": {},
   "outputs": [
    {
     "name": "stdout",
     "output_type": "stream",
     "text": [
      "[7, 1, 4, 2, 0, 6, 3, 5]\n",
      "CPU times: user 2.46 ms, sys: 30 µs, total: 2.49 ms\n",
      "Wall time: 2.13 ms\n"
     ]
    }
   ],
   "source": [
    "%%time\n",
    "# Solve N = 8\n",
    "eight_queens = NQueens(8)\n",
    "eight_queens.solve_board()"
   ]
  }
 ],
 "metadata": {
  "kernelspec": {
   "display_name": "Python 3",
   "language": "python",
   "name": "python3"
  },
  "language_info": {
   "codemirror_mode": {
    "name": "ipython",
    "version": 3
   },
   "file_extension": ".py",
   "mimetype": "text/x-python",
   "name": "python",
   "nbconvert_exporter": "python",
   "pygments_lexer": "ipython3",
   "version": "3.8.3"
  }
 },
 "nbformat": 4,
 "nbformat_minor": 4
}
