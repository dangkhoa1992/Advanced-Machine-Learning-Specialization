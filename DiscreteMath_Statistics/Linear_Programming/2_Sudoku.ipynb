{
 "metadata": {
  "language_info": {
   "codemirror_mode": {
    "name": "ipython",
    "version": 3
   },
   "file_extension": ".py",
   "mimetype": "text/x-python",
   "name": "python",
   "nbconvert_exporter": "python",
   "pygments_lexer": "ipython3",
   "version": "3.8.3-final"
  },
  "orig_nbformat": 2,
  "kernelspec": {
   "name": "python3",
   "display_name": "Python 3",
   "language": "python"
  }
 },
 "nbformat": 4,
 "nbformat_minor": 2,
 "cells": [
  {
   "source": [
    "# Sudoku 9x9 - SAT\n",
    "\n",
    "| **Puzzle**   | <img src=\"./assets/3.png\" width=\"300\"/> |\n",
    "|--------------|-----------------------------------------|\n",
    "| **Solution** | <img src=\"./assets/4.png\" width=\"300\"/> |"
   ],
   "cell_type": "markdown",
   "metadata": {}
  },
  {
   "cell_type": "code",
   "execution_count": 1,
   "metadata": {},
   "outputs": [],
   "source": [
    "from itertools import combinations, product\n",
    "from pycosat import solve as sat_solve\n",
    "\n",
    "class Sudoku:\n",
    "    '''\n",
    "        SAT solver for sudoku 9x9\n",
    "        x_ijk = 1 iff cell(i,j) contains digit k\n",
    "    '''\n",
    "    def __init__(self):\n",
    "        pass\n",
    "\n",
    "    ## Helpers\n",
    "    def varnum(self, row, col, digit):\n",
    "        '''Convert (row,col,digit) each in range [0,9] to varnum(x_num) in range [1, 999]'''\n",
    "        assert row in range(1, 10) and col in range(1, 10)\n",
    "        assert digit in range(1, 10)\n",
    "        return 100 * row + 10 * col + digit\n",
    "    def exactly_one_of(self, literals:list):\n",
    "        clauses = [[l for l in literals]]\n",
    "        for pair in combinations(literals, 2):\n",
    "            clauses.append([-l for l in pair])\n",
    "        return clauses\n",
    "\n",
    "    ## Constraints\n",
    "    def one_digit_in_every_cell(self):\n",
    "        '''Exactly 1 digit in 1 cell'''\n",
    "        clauses = []\n",
    "        for row, col in product(range(1, 10), repeat=2):\n",
    "            clauses += self.exactly_one_of([self.varnum(row, col, digit) for digit in range(1, 10)])\n",
    "        return clauses\n",
    "    def one_digit_in_every_row(self):\n",
    "        '''Exactly 1 type of digit in 1 row'''\n",
    "        clauses = []\n",
    "        for row, digit in product(range(1, 10), repeat=2):\n",
    "            clauses += self.exactly_one_of([self.varnum(row, col, digit) for col in range(1, 10)])\n",
    "        return clauses\n",
    "    def one_digit_in_every_col(self):\n",
    "        '''Exactly 1 type of digit in 1 col'''\n",
    "        clauses = []\n",
    "        for column, digit in product(range(1, 10), repeat=2):\n",
    "            clauses += self.exactly_one_of([self.varnum(row, column, digit) for row in range(1, 10)])\n",
    "        return clauses\n",
    "    def one_digit_in_every_block(self):\n",
    "        '''Exactly 1 type of digit in 1 3x3 block'''\n",
    "        clauses = []\n",
    "        for row, col in product([1, 4, 7], repeat=2):\n",
    "            for digit in range(1, 10):\n",
    "                clauses += self.exactly_one_of([self.varnum(row+a, col+b, digit) for (a, b) in product(range(3), repeat=2)])\n",
    "        return clauses\n",
    "\n",
    "    ## Solver\n",
    "    def solve_puzzle(self, puzzle):\n",
    "        assert len(puzzle) == 9\n",
    "        assert all(len(row) == 9 for row in puzzle)\n",
    "\n",
    "        # Add constraints\n",
    "        clauses = []\n",
    "        clauses += self.one_digit_in_every_cell()\n",
    "        clauses += self.one_digit_in_every_row()\n",
    "        clauses += self.one_digit_in_every_col()\n",
    "        clauses += self.one_digit_in_every_block()\n",
    "\n",
    "        # Add puzzle constraints (preset ditgits)\n",
    "        for row, col in product(range(1, 10), repeat=2):\n",
    "            if puzzle[row - 1][col - 1] != \"*\":\n",
    "                digit = int(puzzle[row - 1][col - 1])\n",
    "                assert digit in range(1, 10)\n",
    "                clauses += [[self.varnum(row, col, digit)]]\n",
    "\n",
    "        # Solve\n",
    "        solution = sat_solve(clauses)\n",
    "        if isinstance(solution, str):\n",
    "            print(\"No solution\")\n",
    "            return\n",
    "\n",
    "        # Print ans\n",
    "        solution = set(solution)\n",
    "        for row in range(1, 10):\n",
    "            if (row)%3 == 1: print('+---+---+---+')\n",
    "            for col in range(1, 10):\n",
    "                if (col)%3 == 1: print('|', end=\"\")\n",
    "                for digit in range(1, 10):\n",
    "                    if self.varnum(row, col, digit) in solution:\n",
    "                        print(digit, end=\"\")\n",
    "            print('|')\n",
    "        print('+---+---+---+')"
   ]
  },
  {
   "cell_type": "code",
   "execution_count": 2,
   "metadata": {},
   "outputs": [],
   "source": [
    "sudoku_solver = Sudoku()"
   ]
  },
  {
   "cell_type": "code",
   "execution_count": 3,
   "metadata": {},
   "outputs": [
    {
     "output_type": "stream",
     "name": "stdout",
     "text": [
      "+---+---+---+\n|534|678|912|\n|672|195|348|\n|198|342|567|\n+---+---+---+\n|859|761|423|\n|426|853|791|\n|713|924|856|\n+---+---+---+\n|961|537|284|\n|287|419|635|\n|345|286|179|\n+---+---+---+\n"
     ]
    }
   ],
   "source": [
    "sample_puzzle = [\n",
    "    \"53**7****\",\n",
    "    \"6**195***\",\n",
    "    \"*98****6*\",\n",
    "    \"8***6***3\",\n",
    "    \"4**8*3**1\",\n",
    "    \"7***2***6\",\n",
    "    \"*6****28*\",\n",
    "    \"***419**5\",\n",
    "    \"****8**79\"\n",
    "]\n",
    "sudoku_solver.solve_puzzle(sample_puzzle)"
   ]
  },
  {
   "cell_type": "code",
   "execution_count": 4,
   "metadata": {},
   "outputs": [
    {
     "output_type": "stream",
     "name": "stdout",
     "text": [
      "+---+---+---+\n|812|753|649|\n|943|682|175|\n|675|491|283|\n+---+---+---+\n|154|237|896|\n|369|845|721|\n|287|169|534|\n+---+---+---+\n|521|974|368|\n|438|526|917|\n|796|318|452|\n+---+---+---+\n"
     ]
    }
   ],
   "source": [
    "difficult_puzzle = [\n",
    "    \"8********\",\n",
    "    \"**36*****\",\n",
    "    \"*7**9*2**\",\n",
    "    \"*5***7***\",\n",
    "    \"****457**\",\n",
    "    \"***1***3*\",\n",
    "    \"**1****68\",\n",
    "    \"**85***1*\",\n",
    "    \"*9****4**\"\n",
    "]\n",
    "sudoku_solver.solve_puzzle(difficult_puzzle)"
   ]
  }
 ]
}