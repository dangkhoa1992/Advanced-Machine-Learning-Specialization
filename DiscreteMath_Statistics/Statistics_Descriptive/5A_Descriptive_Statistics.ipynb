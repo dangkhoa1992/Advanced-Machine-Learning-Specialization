{
 "cells": [
  {
   "cell_type": "markdown",
   "metadata": {},
   "source": [
    "# 1. Basic statistical model\n",
    "\n",
    "## Example\n",
    "\n",
    "| **Name**         | **Age** | **Income** | ... | d-th feature |\n",
    "|------------------|---------|------------|-----|--------------|\n",
    "| John             | 17      | 1500       | ... | ...          |\n",
    "| Peter            | 20      | 2000       | ... | ...          |\n",
    "| ...              | ...     | ...        | ... | ...          |\n",
    "| n-th observation | ...     | ...        | ... | ...          |\n",
    "\n",
    "- Column: represent a feature\n",
    "    + `d`: features\n",
    "    + Each feature represent a random variable: $(X_1,X_2,\\dots,X_d)$\n",
    "\n",
    "- Row: represent an obersavation or sample\n",
    "    + `n`: obersavations\n",
    "    + $(x_1,x_2,\\dots,x_n)$\n",
    "\n",
    "#### Main assumption\n",
    "- $x_1,x_2,\\dots,x_n$ are `independent`\n",
    "- $X_1,X_2,\\dots,X_d$ can be dependent/independent from each other\n",
    "\n",
    "#### Main Goal\n",
    "- Make a conclusions on $X_1,X_2,\\dots,X_d$"
   ]
  },
  {
   "cell_type": "markdown",
   "metadata": {},
   "source": [
    "# 2. Variable types\n",
    "## 2.1 Variable types\n",
    "- `Numeric`\n",
    "    + Real numbers: e.g. Income, weight\n",
    "    + Integer number: e.g. Number of children\n",
    "- `Category`\n",
    "    + Ordered: e.g. level of education\n",
    "    + Not ordered: e.g. country of origin\n",
    "\n",
    "## 2.2 Variable transformation\n",
    "- Transform categorical variables to numeric values\n",
    "- Example: City = {Moscow, New York, London}\n",
    "\n",
    "| **Observation** | **City** |\n",
    "|-----------------|----------|\n",
    "| $x_1$           | Moscow   |\n",
    "| $x_2$           | New York |\n",
    "| $x_3$           | London   |\n",
    "\n",
    "#### Label encoder\n",
    "- City = {0, 1, 2}\n",
    "    + 0 = Moscow\n",
    "    + 1 = New York\n",
    "    + 2 = London\n",
    "    \n",
    "| **Observation** | **City** |\n",
    "|-----------------|----------|\n",
    "| $x_1$           | 0        |\n",
    "| $x_2$           | 1        |\n",
    "| $x_3$           | 2        |\n",
    "\n",
    "#### One-hot encoding\n",
    "- Popular in machine learning\n",
    "\n",
    "| **Observation** | **Moscow** | **New York** | **London** |\n",
    "|----------------------|------------|--------------|------------|\n",
    "| $x_1$                | 1          | 0            | 0          |\n",
    "| $x_2$                | 0          | 1            | 0          |\n",
    "| $x_3$                | 0          | 0            | 1          |\n",
    "\n",
    "#### Dummy encoding\n",
    "- = One-hot encoding remove 1 column\n",
    "\n",
    "| **Observation** | **Moscow** | **New York** | \n",
    "|----------------------|------------|--------------|\n",
    "| $x_1$                | 1          | 0            |\n",
    "| $x_2$                | 0          | 1            |\n",
    "| $x_3$                | 0          | 0            |\n",
    "\n",
    "#### Others\n",
    "- Vector embedding"
   ]
  },
  {
   "cell_type": "markdown",
   "metadata": {},
   "source": [
    "# 3. Central tendency: Sample average, median and mode\n",
    "- Data: n observations: $(x_1,x_2,\\dots,x_n)$\n",
    "\n",
    "## 3.1 Sample average\n",
    "\n",
    "$$\\bar{x} = \\frac{x_1 + x_2 + \\dots + x_n}{n}$$\n",
    "\n",
    "## 3.2 Median\n",
    "- (17, 2, 5, 3, 2) --sort--> (2,2,3,5,17) --> median = 3\n",
    "\n",
    "- Median is a more robust measure of central tendency\n",
    "    + Not sensitive to values that are too large or are too small if we don't have many of these elements\n",
    "- Example: incomes in some country\n",
    "    + Most of people doesn't have such large incomes.\n",
    "    + Those people with very large incomes can affect average significantly\n",
    "- Median not only apply to numeric data but also to other categorical data.\n",
    "\n",
    "\n",
    "## 3.3 Mode\n",
    "- Mode = Most frequent value\n",
    "- Can be used for any types of variables. Mostly useful for `categorical` and `ordered` variables"
   ]
  },
  {
   "cell_type": "markdown",
   "metadata": {},
   "source": [
    "# 4. Statistical dispersion: sample variance, quartiles and interquartile range\n",
    "- Data: n observations: $(x_1,x_2,\\dots,x_n)$\n",
    "\n",
    "\n",
    "## 4.1 Sample variance and standard deviation\n",
    "- Biased sample variance\n",
    "\n",
    "$$Var(x) = \\frac{1}{n} \\sum\\limits_{i=1}^n (x_i - \\bar{x})^2$$\n",
    "\n",
    "- Unbiased sample variance (practically better than biased version)\n",
    "\n",
    "$$Var_+(x) = \\frac{1}{n-1} \\sum\\limits_{i=1}^n (x_i - \\bar{x})^2$$\n",
    "\n",
    "- Standard deviation\n",
    "\n",
    "$$std(x) = \\sqrt{Var_+(x)}$$\n",
    "\n",
    "## 4.2 Quartiles and interquartile range\n",
    "- Can be applied to Categorical data\n",
    "\n",
    "<img src=\"assets/20.png\" width=\"400\"/>\n",
    "\n",
    "- Q1: first quartile\n",
    "- Q2: second quartile = `median`\n",
    "- Q3: third quartile\n",
    "- IQR = Q3 - Q1: interquartile range"
   ]
  },
  {
   "cell_type": "markdown",
   "metadata": {},
   "source": [
    "# 5. Distribution visualization\n",
    "-  Distribution  = to understand which values are more frequent and which values are less frequent\n",
    "\n",
    "## 5.1 Histogram\n",
    "- For `real numberic` data\n",
    "- Ideas\n",
    "    + Divide x axis \n",
    "    into various numbers of bins\n",
    "    + Count the frequency of values that fall into each bin"
   ]
  },
  {
   "cell_type": "code",
   "execution_count": 1,
   "metadata": {},
   "outputs": [
    {
     "data": {
      "image/png": "[encoded data removed]",
      "text/plain": [
       "<Figure size 432x288 with 1 Axes>"
      ]
     },
     "metadata": {
      "needs_background": "light"
     },
     "output_type": "display_data"
    }
   ],
   "source": [
    "from matplotlib import pyplot as plt\n",
    "\n",
    "\n",
    "data = [1,1.2,4.1,4.2,4.3,5]\n",
    "\n",
    "# Plot hist in 3 bins\n",
    "#     1st bin [1,2.33): [1, 1.2] -> count = 2\n",
    "#     2nd bin [2.33,3.66): [] -> count = 0\n",
    "#     3rd bin [3.66,5.0]: [4.1,4.2,4.3,5] -> count = 3\n",
    "plt.hist(x=data, bins=3)\n",
    "plt.plot(data, len(data)*[1], 'o' )\n",
    "plt.show()"
   ]
  },
  {
   "cell_type": "markdown",
   "metadata": {},
   "source": [
    "## 5.2 Bar plot\n",
    "- For `categorical` data"
   ]
  },
  {
   "cell_type": "code",
   "execution_count": 2,
   "metadata": {},
   "outputs": [
    {
     "data": {
      "image/png": "[encoded data removed]",
      "text/plain": [
       "<Figure size 432x288 with 1 Axes>"
      ]
     },
     "metadata": {
      "needs_background": "light"
     },
     "output_type": "display_data"
    }
   ],
   "source": [
    "cities = ['Moscow', 'New York', 'New York', 'London', 'New York', 'Moscow']\n",
    "\n",
    "\n",
    "from collections import Counter\n",
    "freq_cities = Counter(cities)\n",
    "\n",
    "# Bar\n",
    "plt.bar(\n",
    "    x=range(len(freq_cities)), height=list(freq_cities.values()),\n",
    "    width=1, align='center', edgecolor='black')\n",
    "\n",
    "# x-axis labels\n",
    "plt.xticks(\n",
    "    ticks=range(len(freq_cities)),\n",
    "    labels=list(freq_cities.keys()))\n",
    "plt.xticks(\n",
    "    rotation=40)\n",
    "\n",
    "plt.show()"
   ]
  },
  {
   "cell_type": "markdown",
   "metadata": {},
   "source": [
    "# 6. Descriptive statistics\n",
    "- Asumption: Our data is a sample from some random variables (population)\n",
    "- `Descriptive statistics`:  discuss the relation between properties of samples vs the corresponding properties of random variables.\n",
    "\n",
    "## 6.1 sample vs population - mean/variance\n",
    "- Let us define\n",
    "    + data (sample): $x = (x_1, x_2, \\dots, x_n)$\n",
    "    + random variable (population): $X$\n",
    "- Assume x ~ X\n",
    "\n",
    "\n",
    "| **Properties of X (population)**                         | **Properties of x (sample)**                          |\n",
    "|----------------------------------------------------------|-------------------------------------------------------|\n",
    "| $E(X)$: Expected value                                   | $\\bar{x}$: Sample average                             |\n",
    "| $Var(X)$: Variance                                       | $Var(x), Var_+(x)$: Sample variance                   |\n",
    "| $std(X) = \\sqrt{Var(X)} = \\sigma_X$: standard deviation  | $std(x) = \\sqrt{Var_+(x)}$: sample standard deviation |\n",
    "\n",
    "## 6.2 sample vs population - median/quartile\n",
    "\n",
    "| **Properties of X (population)** | **Properties of x (sample)** |\n",
    "|----------------------------------|------------------------------|\n",
    "| median X                         | median x                     |\n",
    "| p-quantile of X                  | p-quantile of x              |\n",
    "\n",
    "#### Population X\n",
    "\n",
    "- `median X`  is defined as: a number `m` that $P(X>m) = P(X < m) = \\frac{1}{2}$\n",
    "\n",
    "<img src=\"assets/21.png\" width=\"400\"/>\n",
    "\n",
    "- `p-quantile of X` defined as: `p`, that $P(X < x_p) = p$\n",
    "    + $p \\in (0,1)$\n",
    "    + Eg:\n",
    "    \n",
    "<img src=\"assets/22.png\" width=\"400\"/>\n",
    "\n",
    "#### sample x\n",
    "- `median x`\n",
    "\n",
    "- `p-quantile of x` is defined as $\\widetilde{x_p}$, that\n",
    "    + the number of $x_i, that \\forall x_i < \\tilde{x_p}$, ~ $p*n$ \n"
   ]
  }
 ],
 "metadata": {
  "kernelspec": {
   "display_name": "Python 3.7",
   "language": "python",
   "name": "py37"
  },
  "language_info": {
   "codemirror_mode": {
    "name": "ipython",
    "version": 3
   },
   "file_extension": ".py",
   "mimetype": "text/x-python",
   "name": "python",
   "nbconvert_exporter": "python",
   "pygments_lexer": "ipython3",
   "version": "3.7.9"
  }
 },
 "nbformat": 4,
 "nbformat_minor": 4
}
