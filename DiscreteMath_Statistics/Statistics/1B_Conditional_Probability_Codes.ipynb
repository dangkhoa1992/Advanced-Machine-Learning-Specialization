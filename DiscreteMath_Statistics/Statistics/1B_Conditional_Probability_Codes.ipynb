{
 "metadata": {
  "language_info": {
   "codemirror_mode": {
    "name": "ipython",
    "version": 3
   },
   "file_extension": ".py",
   "mimetype": "text/x-python",
   "name": "python",
   "nbconvert_exporter": "python",
   "pygments_lexer": "ipython3",
   "version": "3.7.9-final"
  },
  "orig_nbformat": 2,
  "kernelspec": {
   "name": "python3",
   "display_name": "Python 3",
   "language": "python"
  }
 },
 "nbformat": 4,
 "nbformat_minor": 2,
 "cells": [
  {
   "cell_type": "code",
   "execution_count": 1,
   "metadata": {},
   "outputs": [],
   "source": [
    "from itertools import product\n",
    "from IPython.display import display, Math"
   ]
  },
  {
   "source": [
    "# Coin Tossing"
   ],
   "cell_type": "markdown",
   "metadata": {}
  },
  {
   "source": [
    "#### Experiment"
   ],
   "cell_type": "markdown",
   "metadata": {}
  },
  {
   "cell_type": "code",
   "execution_count": 2,
   "metadata": {},
   "outputs": [
    {
     "output_type": "stream",
     "name": "stdout",
     "text": [
      "{('H', 'T', 'T'), ('T', 'H', 'H'), ('H', 'H', 'T'), ('T', 'T', 'H'), ('T', 'T', 'T'), ('H', 'T', 'H'), ('H', 'H', 'H'), ('T', 'H', 'T')}\n8\n"
     ]
    }
   ],
   "source": [
    "n = 3\n",
    "omega = set(product(['H', 'T'], repeat=n))\n",
    "\n",
    "print(omega)\n",
    "print(len(omega))"
   ]
  },
  {
   "source": [
    "#### Events"
   ],
   "cell_type": "markdown",
   "metadata": {}
  },
  {
   "cell_type": "code",
   "execution_count": 3,
   "metadata": {},
   "outputs": [
    {
     "output_type": "stream",
     "name": "stdout",
     "text": [
      "A:  {('T', 'H', 'T'), ('T', 'T', 'T'), ('T', 'H', 'H'), ('T', 'T', 'H')}\nB:  {('T', 'H', 'T'), ('H', 'T', 'T'), ('T', 'T', 'H')}\nC:  {('H', 'H', 'H'), ('T', 'H', 'T'), ('T', 'H', 'H'), ('H', 'H', 'T')}\n"
     ]
    }
   ],
   "source": [
    "# A: First toss is T\n",
    "A = {om for om in omega if om[0] == 'T'}\n",
    "print('A: ', A)\n",
    "\n",
    "# B: Has 2 tails\n",
    "B = {om for om in omega if om.count('T') == 2}\n",
    "print('B: ', B)\n",
    "\n",
    "# C: Second toss is H\n",
    "C = {om for om in omega if om[1] == 'H'}\n",
    "print('C: ', C)"
   ]
  },
  {
   "source": [
    "#### Probability"
   ],
   "cell_type": "markdown",
   "metadata": {}
  },
  {
   "cell_type": "code",
   "execution_count": 4,
   "metadata": {},
   "outputs": [],
   "source": [
    "def prob(X):\n",
    "    return len(X) / len(omega)\n",
    "\n",
    "def cond_prob(X, Y):\n",
    "    '''Calc P(X|Y)'''\n",
    "    return len(X & Y) / len(Y)\n",
    "\n",
    "def are_independent(X, Y):\n",
    "    return prob(X & Y) == prob(X)*prob(Y)"
   ]
  },
  {
   "cell_type": "code",
   "execution_count": 5,
   "metadata": {},
   "outputs": [
    {
     "output_type": "display_data",
     "data": {
      "text/plain": "<IPython.core.display.Math object>",
      "text/latex": "$\\displaystyle P(A) = 0.5$"
     },
     "metadata": {}
    },
    {
     "output_type": "display_data",
     "data": {
      "text/plain": "<IPython.core.display.Math object>",
      "text/latex": "$\\displaystyle P(B) = 0.375$"
     },
     "metadata": {}
    },
    {
     "output_type": "display_data",
     "data": {
      "text/plain": "<IPython.core.display.Math object>",
      "text/latex": "$\\displaystyle P(A) \\times P(B) = 0.1875$"
     },
     "metadata": {}
    },
    {
     "output_type": "display_data",
     "data": {
      "text/plain": "<IPython.core.display.Math object>",
      "text/latex": "$\\displaystyle P(A \\cap B) = 0.25$"
     },
     "metadata": {}
    },
    {
     "output_type": "display_data",
     "data": {
      "text/plain": "<IPython.core.display.Math object>",
      "text/latex": "$\\displaystyle P(A|B) = 0.6666666666666666$"
     },
     "metadata": {}
    },
    {
     "output_type": "stream",
     "name": "stdout",
     "text": [
      "Are A and B independent?  False\nAre A and C independent?  True\n"
     ]
    }
   ],
   "source": [
    "display(Math(rf'P(A) = {prob(A)}'))\n",
    "display(Math(rf'P(B) = {prob(B)}'))\n",
    "display(Math(rf'P(A) \\times P(B) = {prob(A)*prob(B)}'))\n",
    "display(Math(rf'P(A \\cap B) = {prob(A & B)}'))\n",
    "display(Math(rf'P(A|B) = {cond_prob(A, B)}'))\n",
    "print('Are A and B independent? ', are_independent(A,B))\n",
    "print('Are A and C independent? ', are_independent(A, C))"
   ]
  }
 ]
}