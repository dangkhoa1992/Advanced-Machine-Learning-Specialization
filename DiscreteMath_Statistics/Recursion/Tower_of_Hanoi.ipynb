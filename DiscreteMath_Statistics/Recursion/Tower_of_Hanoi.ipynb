{
 "cells": [
  {
   "cell_type": "markdown",
   "metadata": {},
   "source": [
    "# Tower of Hanoi\n",
    "- Config\n",
    "    + 3 rods: (1,2,3) + `n` disks at rod 1\n",
    "    + Move `n` disks from `rod 1` to `rod 3`\n",
    "- Rules\n",
    "    + Only one disk can be moved at a time.\n",
    "    + Each move consists of taking the upper disk from one of the stacks and placing it\n",
    "        + on top of another stack \n",
    "        + or on an empty rod.\n",
    "    + No larger disk may be placed on top of a smaller disk\n",
    "\n",
    "#### Example `n = 8`\n",
    "<img src=\"assets/Tower_of_Hanoi.jpeg\" width=\"600\"/>\n"
   ]
  },
  {
   "cell_type": "markdown",
   "metadata": {},
   "source": [
    "# 1. Solution\n",
    "\n",
    "| `starting rod` = 1 `destination rod` = 3 `temp rod` = 2        | <img src=\"./assets/1.png\" width=\"300\"/> |\n",
    "|----------------------------------------------------------------|-----------------------------------------|\n",
    "| Move (n-1) small disk from `starting rod` to `temp rod`        | <img src=\"./assets/2.png\" width=\"300\"/> |\n",
    "| Move the largest disk from `starting rod` to `destination rod` | <img src=\"./assets/3.png\" width=\"300\"/> |\n",
    "| Move (n-1) small disk from `temp rod` to `destination rod`     | <img src=\"./assets/4.png\" width=\"300\"/> |\n",
    "\n",
    "- Base case: If only 1 disk left\n",
    "    + Move directly from `starting rod` to `destination rod`"
   ]
  },
  {
   "cell_type": "code",
   "execution_count": 1,
   "metadata": {},
   "outputs": [],
   "source": [
    "def solve_Hanoi_tower(n, from_rod, to_rod):\n",
    "    if n == 1:\n",
    "        print(f'Move disk from {from_rod} to {to_rod}')\n",
    "        return\n",
    "\n",
    "    # Get temp rod: (1,2,3) -> tmp = (rod != from_rod and rod != to_rod)\n",
    "    tmp_rod = 6 - from_rod - to_rod\n",
    "\n",
    "    # Solve\n",
    "    solve_Hanoi_tower(n-1, from_rod, tmp_rod)\n",
    "    print(f'Move disk from {from_rod} to {to_rod}')\n",
    "    solve_Hanoi_tower(n-1, tmp_rod, to_rod)"
   ]
  },
  {
   "cell_type": "code",
   "execution_count": 2,
   "metadata": {},
   "outputs": [
    {
     "name": "stdout",
     "output_type": "stream",
     "text": [
      "Move disk from 1 to 3\n",
      "Move disk from 1 to 2\n",
      "Move disk from 3 to 2\n",
      "Move disk from 1 to 3\n",
      "Move disk from 2 to 1\n",
      "Move disk from 2 to 3\n",
      "Move disk from 1 to 3\n"
     ]
    }
   ],
   "source": [
    "solve_Hanoi_tower(n=3, from_rod=1, to_rod=3)"
   ]
  },
  {
   "cell_type": "markdown",
   "metadata": {},
   "source": [
    "# 2. Complexity Analysis\n",
    "#### Total Computations\n",
    "\n",
    "$$T_{n+1} = 2T_n + 1$$"
   ]
  }
 ],
 "metadata": {
  "kernelspec": {
   "display_name": "Python 3",
   "language": "python",
   "name": "python3"
  },
  "language_info": {
   "codemirror_mode": {
    "name": "ipython",
    "version": 3
   },
   "file_extension": ".py",
   "mimetype": "text/x-python",
   "name": "python",
   "nbconvert_exporter": "python",
   "pygments_lexer": "ipython3",
   "version": "3.8.3"
  }
 },
 "nbformat": 4,
 "nbformat_minor": 4
}
