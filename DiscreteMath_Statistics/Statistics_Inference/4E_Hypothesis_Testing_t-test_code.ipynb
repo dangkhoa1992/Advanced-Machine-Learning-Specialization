{
 "cells": [
  {
   "cell_type": "code",
   "execution_count": 1,
   "metadata": {},
   "outputs": [],
   "source": [
    "import numpy as np\n",
    "from scipy.stats import t as tdist, ttest_1samp, ttest_ind\n",
    "\n",
    "np.random.seed(2)"
   ]
  },
  {
   "cell_type": "code",
   "execution_count": 2,
   "metadata": {},
   "outputs": [],
   "source": [
    "def check_stats_significance(p_value, threshold=0.05):\n",
    "    if p_value < threshold:\n",
    "        return f'{p_value:.4f} < {threshold:.2f}: Reject the null hypothesis H0; the result statistically significant'\n",
    "    else:\n",
    "        return f'{p_value:.4f} >= {threshold:.2f}: Failed to reject the null hypothesis H0; the result not statistically significant'"
   ]
  },
  {
   "cell_type": "markdown",
   "metadata": {},
   "source": [
    "# 1. 1-sample t-test\n",
    "## 1.1 1-sample, 2-sided test\n",
    "\n",
    "- $H_0$: $\\mu = \\mu_0$\n",
    "- $H_1$: $\\mu \\neq \\mu_0$"
   ]
  },
  {
   "cell_type": "code",
   "execution_count": 3,
   "metadata": {},
   "outputs": [],
   "source": [
    "# data\n",
    "N = 100\n",
    "mu = 0.2\n",
    "sigma = 1\n",
    "\n",
    "x = np.random.randn(N)*sigma + mu\n",
    "\n",
    "# Compare to mu_0 = 0.2\n",
    "mu_0 = 0.2"
   ]
  },
  {
   "cell_type": "markdown",
   "metadata": {},
   "source": [
    "#### API"
   ]
  },
  {
   "cell_type": "code",
   "execution_count": 4,
   "metadata": {},
   "outputs": [
    {
     "name": "stdout",
     "output_type": "stream",
     "text": [
      "0.3219937839012001\n",
      "0.3220 >= 0.05: Failed to reject the null hypothesis H0; the result not statistically significant\n"
     ]
    }
   ],
   "source": [
    "test_statistic, p_value = ttest_1samp(x, popmean=mu_0)\n",
    "\n",
    "print(p_value)\n",
    "print(check_stats_significance(p_value))"
   ]
  },
  {
   "cell_type": "markdown",
   "metadata": {},
   "source": [
    "#### Implementation"
   ]
  },
  {
   "cell_type": "code",
   "execution_count": 5,
   "metadata": {},
   "outputs": [
    {
     "name": "stdout",
     "output_type": "stream",
     "text": [
      "-0.9953477389335027 0.32199378390120015\n",
      "0.3220 >= 0.05: Failed to reject the null hypothesis H0; the result not statistically significant\n"
     ]
    }
   ],
   "source": [
    "mu_hat = x.mean()\n",
    "sigma_hat = x.std(ddof=1)\n",
    "\n",
    "t = (mu_hat - mu_0) / (sigma_hat / np.sqrt(N))\n",
    "p_right = 1 - tdist.cdf(np.abs(t), df=N-1)\n",
    "p_left = tdist.cdf(-np.abs(t), df=N-1)\n",
    "p_value = p_right + p_left\n",
    "\n",
    "print(t, p_value)\n",
    "print(check_stats_significance(p_value))"
   ]
  },
  {
   "cell_type": "markdown",
   "metadata": {},
   "source": [
    "## 1.2 1-sample, 1-sided test\n",
    "- $H_0$: $\\mu \\leq \\mu_0$\n",
    "- $H_1$: $\\mu > \\mu_0$"
   ]
  },
  {
   "cell_type": "code",
   "execution_count": 6,
   "metadata": {},
   "outputs": [],
   "source": [
    "# data\n",
    "N = 100\n",
    "mu = 0.2\n",
    "sigma = 1\n",
    "\n",
    "x = np.random.randn(N)*sigma + mu\n",
    "\n",
    "# Compare to mu_0 = 0\n",
    "mu_0 = 0"
   ]
  },
  {
   "cell_type": "markdown",
   "metadata": {},
   "source": [
    "#### API"
   ]
  },
  {
   "cell_type": "code",
   "execution_count": 7,
   "metadata": {},
   "outputs": [
    {
     "name": "stdout",
     "output_type": "stream",
     "text": [
      "0.0020182811405012355\n",
      "0.0020 < 0.05: Reject the null hypothesis H0; the result statistically significant\n"
     ]
    }
   ],
   "source": [
    "test_statistic, res = ttest_1samp(x, popmean=mu_0)\n",
    "p_value = res/2\n",
    "\n",
    "print(p_value)\n",
    "print(check_stats_significance(p_value))"
   ]
  },
  {
   "cell_type": "markdown",
   "metadata": {},
   "source": [
    "#### Implementation"
   ]
  },
  {
   "cell_type": "code",
   "execution_count": 8,
   "metadata": {},
   "outputs": [
    {
     "name": "stdout",
     "output_type": "stream",
     "text": [
      "2.944060629425759 0.002018281140501177\n",
      "0.0020 < 0.05: Reject the null hypothesis H0; the result statistically significant\n"
     ]
    }
   ],
   "source": [
    "mu_hat = x.mean()\n",
    "sigma_hat = x.std(ddof=1)\n",
    "\n",
    "t = (mu_hat - mu_0) / (sigma_hat / np.sqrt(N))\n",
    "p_value = 1 - tdist.cdf(t, df=N-1)\n",
    "\n",
    "print(t, p_value)\n",
    "print(check_stats_significance(p_value))"
   ]
  },
  {
   "cell_type": "markdown",
   "metadata": {},
   "source": [
    "# 2. 2-sample z-test\n",
    "## 2.1 2-sample, 2-sided test\n",
    "\n",
    "- $H_0$: $\\mu_1 = \\mu_2$\n",
    "- $H_1$: $\\mu_1 \\neq \\mu_2$"
   ]
  },
  {
   "cell_type": "code",
   "execution_count": 9,
   "metadata": {},
   "outputs": [],
   "source": [
    "def ttest_2samp_2sides(x_1, x_2, equal_var=False):\n",
    "    N_1 = len(x_1)\n",
    "    N_2 = len(x_2)\n",
    "\n",
    "    mu_hat_1 = x_1.mean()\n",
    "    mu_hat_2 = x_2.mean()\n",
    "\n",
    "    sq_sigma_hat_1 = x_1.var(ddof=1)\n",
    "    sq_sigma_hat_2 = x_2.var(ddof=1)\n",
    "\n",
    "    if N_1 == N_2 and equal_var == True:\n",
    "        # Case 1\n",
    "        sq_sp = (sq_sigma_hat_1 + sq_sigma_hat_2) / 2\n",
    "        t = (mu_hat_1 - mu_hat_2) / (np.sqrt(sq_sp) * np.sqrt(2/N_1))\n",
    "        v = 2*N_1 - 2 \n",
    "    elif N_1 != N_2 and equal_var == True:\n",
    "        # Case 2 \n",
    "        sq_sp = ((N_1 - 1)*sq_sigma_hat_1 + (N_2 - 1)*sq_sigma_hat_2) / (N_1 + N_2 - 2)\n",
    "        t = (mu_hat_1 - mu_hat_2) / (np.sqrt(sq_sp) * np.sqrt(1/N_1 + 1/N_2))\n",
    "        v = N_1 + N_2 - 2 \n",
    "    else:\n",
    "        # Case 3\n",
    "        t = (mu_hat_1 - mu_hat_2) / (np.sqrt(sq_sigma_hat_1/N_1 + sq_sigma_hat_2/N_2))\n",
    "        v = (sq_sigma_hat_1/N_1 + sq_sigma_hat_2/N_2)**2 / ((sq_sigma_hat_1/N_1)**2 / (N_1 - 1) + (sq_sigma_hat_2/N_2)**2 / (N_2 - 1))\n",
    "\n",
    "    p_right = 1 - tdist.cdf(np.abs(t), df=v)\n",
    "    p_left = tdist.cdf(-np.abs(t), df=v)\n",
    "    p_value = p_right + p_left\n",
    "    return t, p_value"
   ]
  },
  {
   "cell_type": "markdown",
   "metadata": {},
   "source": [
    "#### dataset 1"
   ]
  },
  {
   "cell_type": "code",
   "execution_count": 10,
   "metadata": {},
   "outputs": [],
   "source": [
    "# case 1: N1 = N2, same variance\n",
    "N = 100\n",
    "sigma = 1\n",
    "\n",
    "mu_1 = 0\n",
    "x_1 = np.random.randn(N)*sigma + mu_1\n",
    "\n",
    "mu_2 = 0.5\n",
    "x_2 = np.random.randn(N)*sigma + mu_2"
   ]
  },
  {
   "cell_type": "code",
   "execution_count": 11,
   "metadata": {},
   "outputs": [
    {
     "name": "stdout",
     "output_type": "stream",
     "text": [
      "2.712072484183902e-10\n",
      "0.0000 < 0.05: Reject the null hypothesis H0; the result statistically significant\n"
     ]
    }
   ],
   "source": [
    "#### API\n",
    "test_statistic, p_value = ttest_ind(x_1, x_2, equal_var=True)\n",
    "\n",
    "print(p_value)\n",
    "print(check_stats_significance(p_value))"
   ]
  },
  {
   "cell_type": "code",
   "execution_count": 12,
   "metadata": {},
   "outputs": [
    {
     "name": "stdout",
     "output_type": "stream",
     "text": [
      "-6.655152478367741 2.712072636376339e-10\n",
      "0.0000 < 0.05: Reject the null hypothesis H0; the result statistically significant\n"
     ]
    }
   ],
   "source": [
    "#### Implementation\n",
    "t, p_value = ttest_2samp_2sides(x_1, x_2, equal_var=True)\n",
    "\n",
    "print(t, p_value)\n",
    "print(check_stats_significance(p_value))"
   ]
  },
  {
   "cell_type": "markdown",
   "metadata": {},
   "source": [
    "#### dataset 2"
   ]
  },
  {
   "cell_type": "code",
   "execution_count": 13,
   "metadata": {},
   "outputs": [],
   "source": [
    "# case 2: N1 != N2, same variance\n",
    "sigma = 1\n",
    "\n",
    "N_1 = 100\n",
    "mu_1 = 0\n",
    "x_1 = np.random.randn(N_1)*sigma + mu_1\n",
    "\n",
    "N_2 = 50\n",
    "mu_2 = 0.5\n",
    "x_2 = np.random.randn(N_2)*sigma + mu_2"
   ]
  },
  {
   "cell_type": "code",
   "execution_count": 14,
   "metadata": {},
   "outputs": [
    {
     "name": "stdout",
     "output_type": "stream",
     "text": [
      "0.025752977958207125\n",
      "0.0258 < 0.05: Reject the null hypothesis H0; the result statistically significant\n"
     ]
    }
   ],
   "source": [
    "#### API\n",
    "test_statistic, p_value = ttest_ind(x_1, x_2, equal_var=True)\n",
    "\n",
    "print(p_value)\n",
    "print(check_stats_significance(p_value))"
   ]
  },
  {
   "cell_type": "code",
   "execution_count": 15,
   "metadata": {},
   "outputs": [
    {
     "name": "stdout",
     "output_type": "stream",
     "text": [
      "-2.252633951961539 0.0257529779582071\n",
      "0.0258 < 0.05: Reject the null hypothesis H0; the result statistically significant\n"
     ]
    }
   ],
   "source": [
    "#### Implementation\n",
    "t, p_value = ttest_2samp_2sides(x_1, x_2, equal_var=True)\n",
    "\n",
    "print(t, p_value)\n",
    "print(check_stats_significance(p_value))"
   ]
  },
  {
   "cell_type": "markdown",
   "metadata": {},
   "source": [
    "#### dataset 3"
   ]
  },
  {
   "cell_type": "code",
   "execution_count": 16,
   "metadata": {},
   "outputs": [],
   "source": [
    "# case 3: N1 != N2, different variance (Welch's t-test)\n",
    "N_1 = 100\n",
    "mu_1 = 0\n",
    "sigma_1 = 1\n",
    "x1 = np.random.randn(N_1)*sigma_1 + mu_1\n",
    "\n",
    "N_2 = 50\n",
    "mu_2 = 0.5\n",
    "sigma_2 = 0.5\n",
    "x2 = np.random.randn(N_2)*sigma_2 + mu_2"
   ]
  },
  {
   "cell_type": "code",
   "execution_count": 17,
   "metadata": {},
   "outputs": [
    {
     "name": "stdout",
     "output_type": "stream",
     "text": [
      "0.03665736431958793\n",
      "0.0367 < 0.05: Reject the null hypothesis H0; the result statistically significant\n"
     ]
    }
   ],
   "source": [
    "#### API\n",
    "test_statistic, p_value = ttest_ind(x_1, x_2, equal_var=False)\n",
    "\n",
    "print(p_value)\n",
    "print(check_stats_significance(p_value))"
   ]
  },
  {
   "cell_type": "code",
   "execution_count": 18,
   "metadata": {},
   "outputs": [
    {
     "name": "stdout",
     "output_type": "stream",
     "text": [
      "-2.123358319781523 0.036657364319587965\n",
      "0.0367 < 0.05: Reject the null hypothesis H0; the result statistically significant\n"
     ]
    }
   ],
   "source": [
    "#### Implementation\n",
    "t, p_value = ttest_2samp_2sides(x_1, x_2, equal_var=False)\n",
    "\n",
    "print(t, p_value)\n",
    "print(check_stats_significance(p_value))"
   ]
  },
  {
   "cell_type": "markdown",
   "metadata": {},
   "source": [
    "## 2.2 2-sample, 1-sided test\n",
    "\n",
    "- $H_0$: $\\mu_1 \\leq \\mu_2$\n",
    "- $H_1$: $\\mu_1 > \\mu_2$"
   ]
  },
  {
   "cell_type": "code",
   "execution_count": 19,
   "metadata": {},
   "outputs": [],
   "source": [
    "def ttest_2samp_1sides_greater(x_1, x_2, equal_var=False):\n",
    "    N_1 = len(x_1)\n",
    "    N_2 = len(x_2)\n",
    "\n",
    "    mu_hat_1 = x_1.mean()\n",
    "    mu_hat_2 = x_2.mean()\n",
    "\n",
    "    sq_sigma_hat_1 = x_1.var(ddof=1)\n",
    "    sq_sigma_hat_2 = x_2.var(ddof=1)\n",
    "\n",
    "    if N_1 == N_2 and equal_var == True:\n",
    "        # Case 1\n",
    "        sq_sp = (sq_sigma_hat_1 + sq_sigma_hat_2) / 2\n",
    "        t = (mu_hat_1 - mu_hat_2) / (np.sqrt(sq_sp) * np.sqrt(2/N_1))\n",
    "        v = 2*N_1 - 2 \n",
    "    elif N_1 != N_2 and equal_var == True:\n",
    "        # Case 2 \n",
    "        sq_sp = ((N_1 - 1)*sq_sigma_hat_1 + (N_2 - 1)*sq_sigma_hat_2) / (N_1 + N_2 - 2)\n",
    "        t = (mu_hat_1 - mu_hat_2) / (np.sqrt(sq_sp) * np.sqrt(1/N_1 + 1/N_2))\n",
    "        v = N_1 + N_2 - 2 \n",
    "    else:\n",
    "        # Case 3\n",
    "        t = (mu_hat_1 - mu_hat_2) / (np.sqrt(sq_sigma_hat_1/N_1 + sq_sigma_hat_2/N_2))\n",
    "        v = (sq_sigma_hat_1/N_1 + sq_sigma_hat_2/N_2)**2 / ((sq_sigma_hat_1/N_1)**2 / (N_1 - 1) + (sq_sigma_hat_2/N_2)**2 / (N_2 - 1))\n",
    "\n",
    "    p_value = 1 - tdist.cdf(t, df=v)\n",
    "    return t, p_value"
   ]
  },
  {
   "cell_type": "markdown",
   "metadata": {},
   "source": [
    "#### dataset 1"
   ]
  },
  {
   "cell_type": "code",
   "execution_count": 20,
   "metadata": {},
   "outputs": [],
   "source": [
    "# case 1: N1 = N2, same variance\n",
    "N = 100\n",
    "sigma = 1\n",
    "\n",
    "mu_1 = 0\n",
    "x_1 = np.random.randn(N)*sigma + mu_1\n",
    "\n",
    "mu_2 = 0.5\n",
    "x_2 = np.random.randn(N)*sigma + mu_2"
   ]
  },
  {
   "cell_type": "code",
   "execution_count": 21,
   "metadata": {},
   "outputs": [
    {
     "name": "stdout",
     "output_type": "stream",
     "text": [
      "-4.753803318160059 0.9999980828482775\n",
      "1.0000 >= 0.05: Failed to reject the null hypothesis H0; the result not statistically significant\n"
     ]
    }
   ],
   "source": [
    "#### Implementation\n",
    "t, p_value = ttest_2samp_1sides_greater(x_1, x_2, equal_var=True)\n",
    "\n",
    "print(t, p_value)\n",
    "print(check_stats_significance(p_value))"
   ]
  },
  {
   "cell_type": "markdown",
   "metadata": {},
   "source": [
    "#### dataset 2"
   ]
  },
  {
   "cell_type": "code",
   "execution_count": 22,
   "metadata": {},
   "outputs": [],
   "source": [
    "# case 2: N1 != N2, same variance\n",
    "sigma = 1\n",
    "\n",
    "N_1 = 100\n",
    "mu_1 = 1\n",
    "x_1 = np.random.randn(N_1)*sigma + mu_1\n",
    "\n",
    "N_2 = 50\n",
    "mu_2 = 0.5\n",
    "x_2 = np.random.randn(N_2)*sigma + mu_2"
   ]
  },
  {
   "cell_type": "code",
   "execution_count": 23,
   "metadata": {},
   "outputs": [
    {
     "name": "stdout",
     "output_type": "stream",
     "text": [
      "2.2490691097263467 0.012992148009159044\n",
      "0.0130 < 0.05: Reject the null hypothesis H0; the result statistically significant\n"
     ]
    }
   ],
   "source": [
    "#### Implementation\n",
    "t, p_value = ttest_2samp_1sides_greater(x_1, x_2, equal_var=True)\n",
    "\n",
    "print(t, p_value)\n",
    "print(check_stats_significance(p_value))"
   ]
  },
  {
   "cell_type": "markdown",
   "metadata": {},
   "source": [
    "#### dataset 3"
   ]
  },
  {
   "cell_type": "code",
   "execution_count": 24,
   "metadata": {},
   "outputs": [],
   "source": [
    "# case 3: N1 != N2, different variance (Welch's t-test)\n",
    "N_1 = 100\n",
    "mu_1 = 0.5\n",
    "sigma_1 = 0.01\n",
    "x1 = np.random.randn(N_1)*sigma_1 + mu_1\n",
    "\n",
    "N_2 = 50\n",
    "mu_2 = 0.4\n",
    "sigma_2 = 0.05\n",
    "x2 = np.random.randn(N_2)*sigma_2 + mu_2"
   ]
  },
  {
   "cell_type": "code",
   "execution_count": 25,
   "metadata": {},
   "outputs": [
    {
     "name": "stdout",
     "output_type": "stream",
     "text": [
      "2.244458912306332 0.013530871610873296\n",
      "0.0135 < 0.05: Reject the null hypothesis H0; the result statistically significant\n"
     ]
    }
   ],
   "source": [
    "#### Implementation\n",
    "t, p_value = ttest_2samp_1sides_greater(x_1, x_2, equal_var=False)\n",
    "\n",
    "print(t, p_value)\n",
    "print(check_stats_significance(p_value))"
   ]
  }
 ],
 "metadata": {
  "kernelspec": {
   "display_name": "Python 3.7",
   "language": "python",
   "name": "py37"
  },
  "language_info": {
   "codemirror_mode": {
    "name": "ipython",
    "version": 3
   },
   "file_extension": ".py",
   "mimetype": "text/x-python",
   "name": "python",
   "nbconvert_exporter": "python",
   "pygments_lexer": "ipython3",
   "version": "3.7.9"
  }
 },
 "nbformat": 4,
 "nbformat_minor": 4
}
