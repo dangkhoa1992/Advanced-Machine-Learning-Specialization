{
 "cells": [
  {
   "cell_type": "code",
   "execution_count": 1,
   "metadata": {},
   "outputs": [],
   "source": [
    "import numpy as np\n",
    "from scipy.stats import norm\n",
    "from statsmodels.stats.weightstats import ztest\n",
    "\n",
    "np.random.seed(0)"
   ]
  },
  {
   "cell_type": "code",
   "execution_count": 2,
   "metadata": {},
   "outputs": [],
   "source": [
    "def check_stats_significance(p_value, threshold=0.05):\n",
    "    if p_value < threshold:\n",
    "        return f'{p_value:.4f} < {threshold:.2f}: Reject the null hypothesis H0; the result statistically significant'\n",
    "    else:\n",
    "        return f'{p_value:.4f} >= {threshold:.2f}: Failed to reject the null hypothesis H0; the result not statistically significant'"
   ]
  },
  {
   "cell_type": "markdown",
   "metadata": {},
   "source": [
    "# 1. 1-sample z-test\n",
    "## 1.1 1-sample, 2-sided test\n",
    "\n",
    "- $H_0$: $\\mu = \\mu_0$\n",
    "- $H_1$: $\\mu \\neq \\mu_0$"
   ]
  },
  {
   "cell_type": "code",
   "execution_count": 3,
   "metadata": {},
   "outputs": [],
   "source": [
    "# data\n",
    "N = 100\n",
    "mu = 0.2\n",
    "sigma = 1\n",
    "\n",
    "x = np.random.randn(N)*sigma + mu\n",
    "\n",
    "# Compare to mu_0 = 0.2\n",
    "mu_0 = 0.2"
   ]
  },
  {
   "cell_type": "markdown",
   "metadata": {},
   "source": [
    "#### API"
   ]
  },
  {
   "cell_type": "code",
   "execution_count": 4,
   "metadata": {},
   "outputs": [
    {
     "name": "stdout",
     "output_type": "stream",
     "text": [
      "0.5549035151647227\n",
      "0.5549 >= 0.05: Failed to reject the null hypothesis H0; the result not statistically significant\n"
     ]
    }
   ],
   "source": [
    "test_statistic, p_value = ztest(x, value=mu_0)\n",
    "\n",
    "print(p_value)\n",
    "print(check_stats_significance(p_value))"
   ]
  },
  {
   "cell_type": "markdown",
   "metadata": {},
   "source": [
    "#### Implementation"
   ]
  },
  {
   "cell_type": "code",
   "execution_count": 5,
   "metadata": {},
   "outputs": [
    {
     "name": "stdout",
     "output_type": "stream",
     "text": [
      "0.5904283402851698 0.5549035151647228\n",
      "0.5549 >= 0.05: Failed to reject the null hypothesis H0; the result not statistically significant\n"
     ]
    }
   ],
   "source": [
    "mu_hat = x.mean()\n",
    "sigma_hat = x.std(ddof=1)\n",
    "\n",
    "z = (mu_hat - mu_0) / (sigma_hat / np.sqrt(N)) \n",
    "p_right = 1 - norm.cdf(np.abs(z))\n",
    "p_left = norm.cdf(-np.abs(z))\n",
    "\n",
    "p_value = p_right + p_left\n",
    "\n",
    "print(z, p_value)\n",
    "print(check_stats_significance(p_value))"
   ]
  },
  {
   "cell_type": "markdown",
   "metadata": {},
   "source": [
    "## 1.2 1-sample, 1-sided test\n",
    "- $H_0$: $\\mu \\leq \\mu_0$\n",
    "- $H_1$: $\\mu > \\mu_0$\n",
    "  "
   ]
  },
  {
   "cell_type": "code",
   "execution_count": 6,
   "metadata": {},
   "outputs": [],
   "source": [
    "# data\n",
    "N = 100\n",
    "mu = 0.2\n",
    "sigma = 1\n",
    "\n",
    "x = np.random.randn(N)*sigma + mu\n",
    "\n",
    "# Compare to mu_0 = 0\n",
    "mu_0 = 0"
   ]
  },
  {
   "cell_type": "markdown",
   "metadata": {},
   "source": [
    "#### API"
   ]
  },
  {
   "cell_type": "code",
   "execution_count": 7,
   "metadata": {},
   "outputs": [
    {
     "name": "stdout",
     "output_type": "stream",
     "text": [
      "0.0033441565019428658\n",
      "0.0033 < 0.05: Reject the null hypothesis H0; the result statistically significant\n"
     ]
    }
   ],
   "source": [
    "test_statistic, p_value = ztest(x-mu_0, value=mu_0, alternative='larger')\n",
    "\n",
    "print(p_value)\n",
    "print(check_stats_significance(p_value))"
   ]
  },
  {
   "cell_type": "markdown",
   "metadata": {},
   "source": [
    "#### Implementation"
   ]
  },
  {
   "cell_type": "code",
   "execution_count": 8,
   "metadata": {},
   "outputs": [
    {
     "name": "stdout",
     "output_type": "stream",
     "text": [
      "2.7119775124741476 0.003344156501942863\n",
      "0.0033 < 0.05: Reject the null hypothesis H0; the result statistically significant\n"
     ]
    }
   ],
   "source": [
    "mu_hat = x.mean()\n",
    "sigma_hat = x.std(ddof=1)\n",
    "\n",
    "z = (mu_hat - mu_0) / (sigma_hat / np.sqrt(N))\n",
    "p_value = 1 - norm.cdf(z)\n",
    "\n",
    "print(z, p_value)\n",
    "print(check_stats_significance(p_value))"
   ]
  },
  {
   "cell_type": "markdown",
   "metadata": {},
   "source": [
    "# 2. 2-sample z-test\n",
    "## 2.1 2-sample, 2-sided test\n",
    "\n",
    "- $H_0$: $\\mu_1 = \\mu_2$\n",
    "- $H_1$: $\\mu_1 \\neq \\mu_2$"
   ]
  },
  {
   "cell_type": "code",
   "execution_count": 9,
   "metadata": {},
   "outputs": [],
   "source": [
    "# data\n",
    "N_1 = 100\n",
    "mu_1 = 0.2\n",
    "sigma_1 = 1\n",
    "x_1 = np.random.randn(N_1)*sigma_1 + mu_1\n",
    "\n",
    "N_2 = 100\n",
    "mu_2 = 0.5\n",
    "sigma_2 = 1\n",
    "x_2 = np.random.randn(N_2)*sigma_2 + mu_2"
   ]
  },
  {
   "cell_type": "code",
   "execution_count": 10,
   "metadata": {},
   "outputs": [],
   "source": [
    "# Choose mu_0 = 0\n",
    "mu_0 = 0"
   ]
  },
  {
   "cell_type": "markdown",
   "metadata": {},
   "source": [
    "#### API"
   ]
  },
  {
   "cell_type": "code",
   "execution_count": 11,
   "metadata": {},
   "outputs": [
    {
     "name": "stdout",
     "output_type": "stream",
     "text": [
      "0.22443591696142684\n",
      "0.2244 >= 0.05: Failed to reject the null hypothesis H0; the result not statistically significant\n"
     ]
    }
   ],
   "source": [
    "test_statistic, p_value = ztest(x_1, x_2, value=mu_0)\n",
    "\n",
    "print(p_value)\n",
    "print(check_stats_significance(p_value))"
   ]
  },
  {
   "cell_type": "markdown",
   "metadata": {},
   "source": [
    "#### Implementation"
   ]
  },
  {
   "cell_type": "code",
   "execution_count": 12,
   "metadata": {},
   "outputs": [
    {
     "name": "stdout",
     "output_type": "stream",
     "text": [
      "-1.214816943827097 0.2244359169614269\n",
      "0.2244 >= 0.05: Failed to reject the null hypothesis H0; the result not statistically significant\n"
     ]
    }
   ],
   "source": [
    "mu_hat_1 = x_1.mean()\n",
    "mu_hat_2 = x_2.mean()\n",
    "\n",
    "sq_sigma_hat_1 = x_1.var(ddof=1)\n",
    "sq_sigma_hat_2 = x_2.var(ddof=1)\n",
    "\n",
    "\n",
    "y_hat = mu_hat_1 - mu_hat_2\n",
    "z = (y_hat - mu_0) / np.sqrt(sq_sigma_hat_1/N_1 + sq_sigma_hat_2/N_2)\n",
    "\n",
    "p_right = 1 - norm.cdf(np.abs(z))\n",
    "p_left = norm.cdf(-np.abs(z))\n",
    "p_value = p_right + p_left\n",
    "\n",
    "print(z, p_value)\n",
    "print(check_stats_significance(p_value))"
   ]
  },
  {
   "cell_type": "markdown",
   "metadata": {},
   "source": [
    "## 2.2 2-sample, 1-sided test\n",
    "\n",
    "- $H_0$: $\\mu_1 \\leq \\mu_2$\n",
    "- $H_1$: $\\mu_1 > \\mu_2$"
   ]
  },
  {
   "cell_type": "code",
   "execution_count": 13,
   "metadata": {},
   "outputs": [],
   "source": [
    "# data\n",
    "N_1 = 100\n",
    "mu_1 = 0.2\n",
    "sigma_1 = 1\n",
    "x_1 = np.random.randn(N_1)*sigma_1 + mu_1\n",
    "\n",
    "N_2 = 100\n",
    "mu_2 = 0.5\n",
    "sigma_2 = 1\n",
    "x_2 = np.random.randn(N_2)*sigma_2 + mu_2"
   ]
  },
  {
   "cell_type": "code",
   "execution_count": 14,
   "metadata": {},
   "outputs": [],
   "source": [
    "# Choose mu_0 = 0\n",
    "mu_0 = 0"
   ]
  },
  {
   "cell_type": "markdown",
   "metadata": {},
   "source": [
    "#### API"
   ]
  },
  {
   "cell_type": "code",
   "execution_count": 15,
   "metadata": {},
   "outputs": [
    {
     "name": "stdout",
     "output_type": "stream",
     "text": [
      "0.7736641317815584\n",
      "0.7737 >= 0.05: Failed to reject the null hypothesis H0; the result not statistically significant\n"
     ]
    }
   ],
   "source": [
    "test_statistic, p_value = ztest(x_1, x_2, value=mu_0, alternative='larger')\n",
    "\n",
    "print(p_value)\n",
    "print(check_stats_significance(p_value))"
   ]
  },
  {
   "cell_type": "markdown",
   "metadata": {},
   "source": [
    "#### Implementation"
   ]
  },
  {
   "cell_type": "code",
   "execution_count": 16,
   "metadata": {},
   "outputs": [
    {
     "name": "stdout",
     "output_type": "stream",
     "text": [
      "-0.7509682956242645 0.7736641317815584\n",
      "0.7737 >= 0.05: Failed to reject the null hypothesis H0; the result not statistically significant\n"
     ]
    }
   ],
   "source": [
    "mu_hat_1 = x_1.mean()\n",
    "mu_hat_2 = x_2.mean()\n",
    "\n",
    "sq_sigma_hat_1 = x_1.var(ddof=1)\n",
    "sq_sigma_hat_2 = x_2.var(ddof=1)\n",
    "\n",
    "\n",
    "y_hat = mu_hat_1 - mu_hat_2\n",
    "z = (y_hat - mu_0) / np.sqrt(sq_sigma_hat_1/N_1 + sq_sigma_hat_2/N_2)\n",
    "\n",
    "p_value = 1 - norm.cdf(z)\n",
    "\n",
    "print(z, p_value)\n",
    "print(check_stats_significance(p_value))"
   ]
  },
  {
   "cell_type": "markdown",
   "metadata": {},
   "source": [
    "# 3. Thresholding"
   ]
  },
  {
   "cell_type": "code",
   "execution_count": 17,
   "metadata": {},
   "outputs": [
    {
     "name": "stdout",
     "output_type": "stream",
     "text": [
      "0.0527\n"
     ]
    }
   ],
   "source": [
    "# show that we will reject the null hypothesis when the\n",
    "# null hypothesis is true (false alarm) 5% of the time\n",
    "num_tests = 10000\n",
    "results = np.zeros(num_tests)\n",
    "for i in range(num_tests):\n",
    "    x1 = np.random.randn(100)\n",
    "    x2 = np.random.randn(100)\n",
    "    z, p = ztest(x1, x2)\n",
    "    results[i] = (p < 0.05)\n",
    "print(results.mean())"
   ]
  },
  {
   "cell_type": "markdown",
   "metadata": {},
   "source": [
    "# 4. Application"
   ]
  },
  {
   "cell_type": "code",
   "execution_count": 18,
   "metadata": {},
   "outputs": [],
   "source": [
    "import pandas as pd\n",
    "import seaborn as sns\n",
    "import matplotlib.pyplot as plt"
   ]
  },
  {
   "cell_type": "code",
   "execution_count": 19,
   "metadata": {},
   "outputs": [
    {
     "data": {
      "text/html": [
       "<div>\n",
       "<style scoped>\n",
       "    .dataframe tbody tr th:only-of-type {\n",
       "        vertical-align: middle;\n",
       "    }\n",
       "\n",
       "    .dataframe tbody tr th {\n",
       "        vertical-align: top;\n",
       "    }\n",
       "\n",
       "    .dataframe thead th {\n",
       "        text-align: right;\n",
       "    }\n",
       "</style>\n",
       "<table border=\"1\" class=\"dataframe\">\n",
       "  <thead>\n",
       "    <tr style=\"text-align: right;\">\n",
       "      <th></th>\n",
       "      <th>PassengerId</th>\n",
       "      <th>Survived</th>\n",
       "      <th>Pclass</th>\n",
       "      <th>Name</th>\n",
       "      <th>Sex</th>\n",
       "      <th>Age</th>\n",
       "      <th>SibSp</th>\n",
       "      <th>Parch</th>\n",
       "      <th>Ticket</th>\n",
       "      <th>Fare</th>\n",
       "      <th>Cabin</th>\n",
       "      <th>Embarked</th>\n",
       "    </tr>\n",
       "  </thead>\n",
       "  <tbody>\n",
       "    <tr>\n",
       "      <th>0</th>\n",
       "      <td>1</td>\n",
       "      <td>0</td>\n",
       "      <td>3</td>\n",
       "      <td>Braund, Mr. Owen Harris</td>\n",
       "      <td>male</td>\n",
       "      <td>22.0</td>\n",
       "      <td>1</td>\n",
       "      <td>0</td>\n",
       "      <td>A/5 21171</td>\n",
       "      <td>7.2500</td>\n",
       "      <td>NaN</td>\n",
       "      <td>S</td>\n",
       "    </tr>\n",
       "    <tr>\n",
       "      <th>1</th>\n",
       "      <td>2</td>\n",
       "      <td>1</td>\n",
       "      <td>1</td>\n",
       "      <td>Cumings, Mrs. John Bradley (Florence Briggs Th...</td>\n",
       "      <td>female</td>\n",
       "      <td>38.0</td>\n",
       "      <td>1</td>\n",
       "      <td>0</td>\n",
       "      <td>PC 17599</td>\n",
       "      <td>71.2833</td>\n",
       "      <td>C85</td>\n",
       "      <td>C</td>\n",
       "    </tr>\n",
       "    <tr>\n",
       "      <th>2</th>\n",
       "      <td>3</td>\n",
       "      <td>1</td>\n",
       "      <td>3</td>\n",
       "      <td>Heikkinen, Miss. Laina</td>\n",
       "      <td>female</td>\n",
       "      <td>26.0</td>\n",
       "      <td>0</td>\n",
       "      <td>0</td>\n",
       "      <td>STON/O2. 3101282</td>\n",
       "      <td>7.9250</td>\n",
       "      <td>NaN</td>\n",
       "      <td>S</td>\n",
       "    </tr>\n",
       "    <tr>\n",
       "      <th>3</th>\n",
       "      <td>4</td>\n",
       "      <td>1</td>\n",
       "      <td>1</td>\n",
       "      <td>Futrelle, Mrs. Jacques Heath (Lily May Peel)</td>\n",
       "      <td>female</td>\n",
       "      <td>35.0</td>\n",
       "      <td>1</td>\n",
       "      <td>0</td>\n",
       "      <td>113803</td>\n",
       "      <td>53.1000</td>\n",
       "      <td>C123</td>\n",
       "      <td>S</td>\n",
       "    </tr>\n",
       "    <tr>\n",
       "      <th>4</th>\n",
       "      <td>5</td>\n",
       "      <td>0</td>\n",
       "      <td>3</td>\n",
       "      <td>Allen, Mr. William Henry</td>\n",
       "      <td>male</td>\n",
       "      <td>35.0</td>\n",
       "      <td>0</td>\n",
       "      <td>0</td>\n",
       "      <td>373450</td>\n",
       "      <td>8.0500</td>\n",
       "      <td>NaN</td>\n",
       "      <td>S</td>\n",
       "    </tr>\n",
       "  </tbody>\n",
       "</table>\n",
       "</div>"
      ],
      "text/plain": [
       "   PassengerId  Survived  Pclass  \\\n",
       "0            1         0       3   \n",
       "1            2         1       1   \n",
       "2            3         1       3   \n",
       "3            4         1       1   \n",
       "4            5         0       3   \n",
       "\n",
       "                                                Name     Sex   Age  SibSp  \\\n",
       "0                            Braund, Mr. Owen Harris    male  22.0      1   \n",
       "1  Cumings, Mrs. John Bradley (Florence Briggs Th...  female  38.0      1   \n",
       "2                             Heikkinen, Miss. Laina  female  26.0      0   \n",
       "3       Futrelle, Mrs. Jacques Heath (Lily May Peel)  female  35.0      1   \n",
       "4                           Allen, Mr. William Henry    male  35.0      0   \n",
       "\n",
       "   Parch            Ticket     Fare Cabin Embarked  \n",
       "0      0         A/5 21171   7.2500   NaN        S  \n",
       "1      0          PC 17599  71.2833   C85        C  \n",
       "2      0  STON/O2. 3101282   7.9250   NaN        S  \n",
       "3      0            113803  53.1000  C123        S  \n",
       "4      0            373450   8.0500   NaN        S  "
      ]
     },
     "execution_count": 19,
     "metadata": {},
     "output_type": "execute_result"
    }
   ],
   "source": [
    "df = pd.read_csv('data/titanic_train.csv')\n",
    "\n",
    "df.head()"
   ]
  },
  {
   "cell_type": "markdown",
   "metadata": {},
   "source": [
    "#### Hypothesis testing\n",
    "- Define\n",
    "    + $\\mu_1$: The mean of fare of people who survive\n",
    "    + $\\mu_2$: The mean of fare of people who not survive\n",
    "- Assume $x_1$, $x_2$ are normally distributed. Hypothesis testing\n",
    "    + $H_0$: $\\mu_1 = \\mu_2$\n",
    "    + $H_1$: $\\mu_1 \\neq \\mu_2$"
   ]
  },
  {
   "cell_type": "code",
   "execution_count": 20,
   "metadata": {},
   "outputs": [
    {
     "name": "stdout",
     "output_type": "stream",
     "text": [
      "2.035031103573989e-15\n",
      "0.0000 < 0.05: Reject the null hypothesis H0; the result statistically significant\n"
     ]
    }
   ],
   "source": [
    "x_1 = df[df['Survived'] == 1]['Fare'].dropna().to_numpy()\n",
    "x_2 = df[df['Survived'] == 0]['Fare'].dropna().to_numpy()\n",
    "\n",
    "test_statistic, p_value = ztest(x_1, x_2, value=0)\n",
    "\n",
    "print(p_value)\n",
    "print(check_stats_significance(p_value))"
   ]
  },
  {
   "cell_type": "markdown",
   "metadata": {},
   "source": [
    "#### Visualize"
   ]
  },
  {
   "cell_type": "code",
   "execution_count": 21,
   "metadata": {},
   "outputs": [
    {
     "name": "stdout",
     "output_type": "stream",
     "text": [
      "48.39540760233918 66.59699811829475 342\n",
      "22.117886885245902 31.38820653056397 549\n"
     ]
    },
    {
     "data": {
      "image/png": "[encoded data removed]",
      "text/plain": [
       "<Figure size 432x288 with 1 Axes>"
      ]
     },
     "metadata": {
      "needs_background": "light"
     },
     "output_type": "display_data"
    }
   ],
   "source": [
    "print(x_1.mean(), x_1.std(ddof=1), len(x_1))\n",
    "print(x_2.mean(), x_2.std(ddof=1), len(x_2))\n",
    "\n",
    "sns.kdeplot(x_1, label='Survived')\n",
    "sns.kdeplot(x_2, label='Did Not Survive')\n",
    "plt.legend();"
   ]
  },
  {
   "cell_type": "code",
   "execution_count": 22,
   "metadata": {},
   "outputs": [
    {
     "data": {
      "image/png": "[encoded data removed]",
      "text/plain": [
       "<Figure size 432x288 with 1 Axes>"
      ]
     },
     "metadata": {
      "needs_background": "light"
     },
     "output_type": "display_data"
    }
   ],
   "source": [
    "plt.hist(x=x_1, bins=100)\n",
    "plt.hist(x=x_2, bins=100)\n",
    "\n",
    "plt.show()"
   ]
  }
 ],
 "metadata": {
  "kernelspec": {
   "display_name": "Python 3.7",
   "language": "python",
   "name": "py37"
  },
  "language_info": {
   "codemirror_mode": {
    "name": "ipython",
    "version": 3
   },
   "file_extension": ".py",
   "mimetype": "text/x-python",
   "name": "python",
   "nbconvert_exporter": "python",
   "pygments_lexer": "ipython3",
   "version": "3.7.9"
  }
 },
 "nbformat": 4,
 "nbformat_minor": 4
}
