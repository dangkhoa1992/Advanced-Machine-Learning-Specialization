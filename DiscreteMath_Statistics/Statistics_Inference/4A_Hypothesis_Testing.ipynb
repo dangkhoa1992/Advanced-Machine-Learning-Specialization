{
 "cells": [
  {
   "cell_type": "markdown",
   "metadata": {},
   "source": [
    "# 1. Hypothesis Testing - Usecases\n",
    "\n",
    "## 1.1 Examples\n",
    "#### Example 1\n",
    "\n",
    "- Test if new drug have an improvement over the standard treatment?\n",
    "    + Standard treatment takes: $\\mu_1$ days\n",
    "    + New drug takes: $\\mu_2$ days\n",
    "- We find that is the difference between $\\mu_1$ and $\\mu_2$ is `statiscally significant` ?\n",
    "\n",
    "#### Example 2\n",
    "- Plot a histogram of daily stock returns with $\\mu$ and $\\sigma$. Is the average stock return = 0 and how `statiscally significant` ?\n",
    "\n",
    "<img src=\"assets/5.jpg\" width=\"300\"/>\n",
    "\n",
    "## 1.2 Notation and Terminology\n",
    "- Assume 2 groups of data has the means as: $\\mu_1$ and $\\mu_2$\n",
    "    + Null Hypothesis: $H_0: \\mu_1 = \\mu_2$\n",
    "    + Alternative Hypothesis: $H_1: \\mu_1 \\neq \\mu_2$\n",
    "\n",
    "- We test to check if we can reject the `Null Hypothesis`\n",
    "\n",
    "## 1.3 Kinds of tests\n",
    "\n",
    "#### 2-sample test\n",
    "- 2 independent groups of data\n",
    "- E.g.: standard treatment vs new drug treatment\n",
    "- **Note**: 2 groups of data must be `independent`\n",
    "\n",
    "\n",
    "<img src=\"assets/6.jpg\" width=\"300\"/>\n",
    "\n",
    "\n",
    "#### 1-sample test\n",
    "- 1 groups of data vs a fixed-value\n",
    "- E.g.: daily stock returns\n",
    "\n",
    "<img src=\"assets/7.jpg\" width=\"300\"/>\n",
    "\n",
    "\n",
    "\n",
    "## 1.4 1-sided test vs 2-sided test\n",
    "\n",
    "<img src=\"assets/8.jpg\" width=\"600\"/>\n",
    "\n",
    "- Examples\n",
    "    + 2 sided-test: Test if stock return = or $\\neq$ to 0\n",
    "    + 1 sided-test: Test if stock return $>0$ or $\\leq 0$\n",
    "    \n",
    "#### Combine with kinds of tests\n",
    "- `Is the effect of the new drug better than the standard treatment` = 1-sided, 2-sample test\n",
    "- `Is the mean daily stock return = 0 or not` = 2-sided, 1-sample test"
   ]
  },
  {
   "cell_type": "markdown",
   "metadata": {},
   "source": [
    "# 2. Hypothesis Testing - Terminology\n",
    "## 2.1 Statistical Significance\n",
    "- Factors affecting Statistical Significance\n",
    "    + Diffrence in the means ($\\mu_1$, $\\mu_2$)\n",
    "    + Variance\n",
    "    + Sample Size\n",
    "\n",
    "- We can use `Confidence Interval` to compare"
   ]
  },
  {
   "cell_type": "code",
   "execution_count": 1,
   "metadata": {},
   "outputs": [
    {
     "data": {
      "image/png": "[encoded data removed]",
      "text/plain": [
       "<Figure size 432x288 with 1 Axes>"
      ]
     },
     "metadata": {
      "needs_background": "light"
     },
     "output_type": "display_data"
    }
   ],
   "source": [
    "import numpy as np\n",
    "import matplotlib.pyplot as plt\n",
    "\n",
    "# Not Statistical Significance\n",
    "X = np.random.randn(10000)*2 + 5\n",
    "Y = np.random.randn(10000)*3 + 7\n",
    "\n",
    "plt.hist(x=X, bins=100)\n",
    "plt.hist(x=Y, bins=100)\n",
    "\n",
    "plt.show()"
   ]
  },
  {
   "cell_type": "code",
   "execution_count": 2,
   "metadata": {},
   "outputs": [
    {
     "data": {
      "image/png": "[encoded data removed]",
      "text/plain": [
       "<Figure size 432x288 with 1 Axes>"
      ]
     },
     "metadata": {
      "needs_background": "light"
     },
     "output_type": "display_data"
    }
   ],
   "source": [
    "# Statistical Significance\n",
    "X = np.random.randn(10000)*1.5 + 5\n",
    "Y = np.random.randn(11000)*1 + 10\n",
    "\n",
    "plt.hist(x=X, bins=100)\n",
    "plt.hist(x=Y, bins=100)\n",
    "\n",
    "plt.show()"
   ]
  },
  {
   "cell_type": "markdown",
   "metadata": {},
   "source": [
    "## 2.2  p-value\n",
    "\n",
    "- Input: data (arrays)\n",
    "    + 1-sample test: x\n",
    "    + 2-sample test: x1, x2\n",
    "\n",
    "| PIP         | 1-sample test  | 2-sample test     |\n",
    "|-------------|----------------|-------------------|\n",
    "| statsmodels | ztest(x)       | ztest(x1, x2)     |\n",
    "| scipy       | ttest_1samp(x) | ttest_ind(x1, x2) |\n",
    "\n",
    "\n",
    "- Output:\n",
    "    + Test statistic\n",
    "    + p-value\n",
    "\n",
    "#### p-value\n",
    "- p-value\n",
    "    + The probability of observing a result as more extreme than what was observed; assuming the null hypothesis is true\n",
    "    + Or the evidence against a null hypothesis. The smaller the p-value, the stronger the evidence that you should reject the null hypothesis.\n",
    "    + We compare the p-value to a `significant threshold`\n",
    "\n",
    "- Example: H0: the mean stock return is 0; We observe that $\\mu$ = 100 and variance = 10\n",
    "    + p-value will be small in this case\n",
    "    + Unlikely that the Null hypothesis is true\n",
    "    \n",
    "#### significant threshold\n",
    "- significant threshold\n",
    "    + = maximum allowed probability of false alarm\n",
    "    + In other term, = maximum allowed probability of type-1 error\n",
    "- Typically, significant threshold = 5\\%\n",
    "    + If p-value < 0.05, we `reject the null hypothesis` and declare the result `statistically significant`\n",
    "        + **Note**: doesn't mean we accept the alternative hypothesis\n",
    "    + If p-value > 0.05, we `failed to reject the null hypothesis` and declare the result `not statistically significant`\n",
    "        + **Note**: doesn't mean we accept the null hypothesis\n",
    "        + Example: We did not collect enough data -> p-value high \n",
    "        \n",
    "        \n",
    "#### Hypothesis Testing vs Confidence Intervals\n",
    "- CI, looking inside the middle 95\\%\n",
    "- Hypothesis Testing , looking at 2-outsider 5\\%\n",
    "\n",
    "<img src=\"assets/9.jpg\" width=\"650\"/>\n",
    "\n",
    "## 2.3 Examples\n",
    "#### Example 1\n",
    "- Given: Testing drug\n",
    "    + Group A: standard treatment group, Group B: new treatment group\n",
    "    + H0: standard treatment is the same as new drug treatment\n",
    "    + Significance threshold = 5\\%\n",
    "- Testing\n",
    "    + p-value = 0.01\n",
    "- Conclusion\n",
    "    + Since 0.01 < 0.05, the effect of new drug treatment is `statistically significant`\n",
    "    \n",
    "#### Example 2\n",
    "- Given: Stock Analysis\n",
    "    + Daily stock returns with $\\mu$ and $\\sigma$\n",
    "    + H0: mean daily stock return $\\leq$ 0\n",
    "    + Significance threshold = 1\\%\n",
    "\n",
    "- Testing\n",
    "    + p-value = 0.1\n",
    "- Conclusion\n",
    "    + Since 0.1 > 0.01, the difference is `not statistically significant`\n",
    "    \n",
    "#### Example 3\n",
    "- Given: a data distribution\n",
    "    + H0: data is normal distribution\n",
    "    + H1: data is not normal distribution\n",
    "    \n",
    "#### Example 4\n",
    "- Given: a time-series\n",
    "    + H0: the time-series is non-stationary\n",
    "    + H1: the time-series is stationary\n",
    "\n",
    "| Non-stationary                                                                | Stationary                             |\n",
    "|-------------------------------------------------------------------------------|----------------------------------------|\n",
    "| <img src=\"assets/10.jpg\" width=\"450\"/> <img src=\"assets/11.jpg\" width=\"450\"/> | <img src=\"assets/12.jpg\" width=\"450\"/> |"
   ]
  }
 ],
 "metadata": {
  "kernelspec": {
   "display_name": "Python 3.7",
   "language": "python",
   "name": "py37"
  },
  "language_info": {
   "codemirror_mode": {
    "name": "ipython",
    "version": 3
   },
   "file_extension": ".py",
   "mimetype": "text/x-python",
   "name": "python",
   "nbconvert_exporter": "python",
   "pygments_lexer": "ipython3",
   "version": "3.7.9"
  }
 },
 "nbformat": 4,
 "nbformat_minor": 4
}
