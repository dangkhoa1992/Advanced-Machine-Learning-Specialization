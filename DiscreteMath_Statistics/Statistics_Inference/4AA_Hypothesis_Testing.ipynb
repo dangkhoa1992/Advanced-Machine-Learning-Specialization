{
 "cells": [
  {
   "cell_type": "code",
   "execution_count": 1,
   "metadata": {},
   "outputs": [],
   "source": [
    "import numpy as np\n",
    "import pandas as pd \n",
    "import scipy.stats as st"
   ]
  },
  {
   "cell_type": "markdown",
   "metadata": {},
   "source": [
    "# Hypothesis Testing\n",
    "- Hypothesis Testing answers to some questions\n",
    "    + Whether males default more than females?\n",
    "    + Do self-driving cars crash more than normal cars?\n",
    "    + Does drug X help prevent/treat disease Y?\n",
    "\n",
    "- During data exploration\n",
    "    + If we discovered interesting patterns hidden in the data\n",
    "    + Hypothesis testing enables us to confirm whether these patterns were present in the data\n",
    "        + by luck \n",
    "        + or by some real phenomena\n",
    "\n",
    "#### Null and Alternate hypothesis\n",
    "- The aim of the hypothesis test is to determine if the null hypothesis can be rejected or not\n",
    "- The **null hypothesis** $H_0$ = a statement that assumes\n",
    "    + Nothing interesting is going on\n",
    "    + No relationship is present between two variables\n",
    "    + No difference between a sample and a population\n",
    "\n",
    "- Example: if we suspect that males default more than females\n",
    "    + Null hypothesis = Males do not default more than females\n",
    "    + If there is little or no evidence against the null hypothesis, we accept the null hypothesis\n",
    "    + Otherwise, we reject the null hypothesis in favor of the **alternate hypothesis** $H_1$\n",
    "        + States that something interesting is going on\n",
    "        + There is a relationship between two variables\n",
    "        + The sample is different from the population\n",
    "\n",
    "- The null hypothesis is assumed true \n",
    "    + Statistical evidence is required to reject it in favor of the alternative hypothesis\n",
    "\n",
    "#### Z-test vs t-test\n",
    "\n",
    "| -                     | **t-test**                                                                                                                        | **Z-test**                                                                                                                                        |\n",
    "|:-------------------   |:--------------------------------------------------------------------------------------------------------------------------------- |:------------------------------------------------------------------------------------------------------------------------------------------------- |\n",
    "| **Meaning**           | T-test is applied <br>to identify, how the means of two sets <br>of data differ from one another <br>when variance is not given.  | Z-test implies a hypothesis test <br>which ascertains if the means of two datasets <br>are different from each other <br>when variance is given.  |\n",
    "| **Based on**          | Student-t distribution                                                                                                            | Normal distribution                                                                                                                               |\n",
    "| **Population std**    | Unknown                                                                                                                           | Known                                                                                                                                             |\n",
    "| **Sample Size**       | Small                                                                                                                             | Large                                                                                                                                             |"
   ]
  },
  {
   "cell_type": "markdown",
   "metadata": {},
   "source": [
    "# Z-test\n",
    "- Z-test = a statistical technique to test the Null Hypothesis against the Alternate Hypothesis. Used when\n",
    "    + sample data is normally distributed \n",
    "    + Population size is greater than 30\n",
    "        + According to the Central Limit Theorem, the samples are considered to be normally distributed whenever sample size exceeds 30\n",
    "    + Know population std\n",
    "\n",
    "#### Z-Score\n",
    "- $Z = \\frac{\\bar{x}-\\mu}{\\sigma/ \\sqrt{n}}$\n",
    "    + $\\bar{x}$: mean of sample\n",
    "    + $\\mu$: mean of population\n",
    "    + $\\sigma$: std of population\n",
    "    + $n$: sampling size\n",
    "\n",
    "#### p-value\n",
    "- p-value quantifies the rareness in our results\n",
    "    + Tells us how often we’d see the results of an experiment \n",
    "    + We can use p-values to reach conclusions in significance testing\n",
    "\n",
    "<img src=\"./assets/2.png\" width=\"500\"/>\n",
    "\n",
    "#### Threshold $\\alpha$\n",
    "+ We compare the p-value to a significance level ($\\alpha$) to make conclusions about our hypotheses\n",
    "    + If $\\text{p-value} < \\alpha$ = the result would rarely occur by chance\n",
    "        + The result is statistically significant\n",
    "        + We can reject the null hypothesis in favor of the alternative hypothesis\n",
    "    + If $\\text{p-value} \\geq \\alpha$\n",
    "        + Fail to reject the null hypothesis\n",
    "        + This doesn’t mean we accept the null hypothesis though!\n",
    "\n",
    "+ How to choose $\\alpha$?\n",
    "    + Choice of $\\alpha$ depends on the situation\n",
    "    + 0.05 = the most widely used value across all scientific disciplines (Confidence level = 95%)\n",
    "    - $p<0.05$ meaning\n",
    "        + there is less than 5% chance of seeing our results, in the world where the null hypothesis is true\n",
    "    - $p<0.05$ **does not** mean\n",
    "        + there’s less than 5% chance that our experimental results are due to random chance\n",
    "\n",
    "<p align=\"center\">\n",
    "    <img src=\"./assets/3.png\" width=\"220\"/>\n",
    "    <br/>\n",
    "    <i><a href=https://xkcd.com//>Credit</a></i>\n",
    "</p>\n",
    "\n",
    "#### Z-score, p-value, Confidence level in normal distribution\n",
    "\n",
    "<p align=\"center\">\n",
    "    <img src=\"./assets/4.png\" width=\"680\"/>\n",
    "    <br/>\n",
    "    <i><a href=https://pro.arcgis.com/en/pro-app/tool-reference/spatial-statistics/what-is-a-z-score-what-is-a-p-value.htm>Credit</a></i>\n",
    "</p>\n",
    "\n",
    "| **z-score** ($\\sigma$) \t| **p-value** (Probability) \t| **Confidence level** \t| $\\alpha$ \t|\n",
    "|:----------------------:\t|:-------------------------:\t|:--------------------:\t|:--------:\t|\n",
    "|   < -1.65 or > +1.65   \t|           < 0.10          \t|          90%         \t|    0.1   \t|\n",
    "|   < -1.96 or > +1.96   \t|           < 0.05          \t|          95%         \t|   0.05   \t|\n",
    "|   < -2.58 or > +2.58   \t|           < 0.01          \t|          99%         \t|   0.01  \t|\n"
   ]
  },
  {
   "cell_type": "markdown",
   "metadata": {},
   "source": [
    "#### Example 1\n",
    "- **Problem**: A company claims that it has a high hiring bar which its employees having an IQ above the average\n",
    "    + A random sample of their 40 employees has a mean IQ score of 115\n",
    "    + Given mean population IQ is 100 with a standard deviation of 15?\n",
    "    + Is this sufficient evidence to support the company’s claim?\n",
    "- **Solution**\n",
    "    + Hypotheses\n",
    "        + H0 - 40 employees have population mean IQ = 100: $\\mu = 100$\n",
    "        + H1 - 40 employees have above population average IQ scores: $\\mu > 100$\n",
    "    + Choose Threshold $alpha = 0.05$\n",
    "    + Calc z-score\n",
    "        + $Z = \\frac{\\bar{x}-\\mu}{\\sigma/ \\sqrt{n}} = \\frac{115-110}{15/\\sqrt{40}} = 6.32$\n",
    "    + Calc p-value from z-score"
   ]
  },
  {
   "cell_type": "code",
   "execution_count": 2,
   "metadata": {},
   "outputs": [
    {
     "data": {
      "text/plain": [
       "1.3078165132642286e-10"
      ]
     },
     "execution_count": 2,
     "metadata": {},
     "output_type": "execute_result"
    }
   ],
   "source": [
    "z_scores = 6.32\n",
    "p_values = st.norm.sf(abs(z_scores))\n",
    "p_values"
   ]
  },
  {
   "cell_type": "markdown",
   "metadata": {},
   "source": [
    "- Conclude\n",
    "    + p < 0.05 => we can reject the null hypothesis\n",
    "    + 40 employees have an unusually higher IQ score compared to random samples of similar size from the entire population\n",
    "- **p = extremely small** meaning\n",
    "    + If 40 employees have population mean IQ (H0 is true), there is an extremely small **random** chance that a sample of 40 employees will have IQ mean = 115"
   ]
  },
  {
   "cell_type": "markdown",
   "metadata": {},
   "source": [
    "#### Example 2\n",
    "- **Problem**: A study that tests the impact of smoking on the duration of pregnancy. \n",
    "    + We randomly sample 40 women who smoked, has mean duration of pregnancy = 260 days\n",
    "    + While the mean pregnancy length = 266 days with std = 21 days\n",
    "    + Is this sufficient evidence to support the company’s claim?\n",
    "- **Solution**\n",
    "    + State Hypotheses\n",
    "        + H0 - smoking has no effect on the duration of pregnancy, 40 smoking women have population mean = 266 days: $\\mu = 266$\n",
    "        + H1 - smoking impact on the duration of pregnancy: $\\mu < 266$\n",
    "    + State the threshold: $\\alpha = 0.05$\n",
    "    + Calc z-score\n",
    "        + $Z = \\frac{\\bar{x}-\\mu}{\\sigma/ \\sqrt{n}} = \\frac{260-266}{21/\\sqrt{40}} = -1.81$\n",
    "    + Calc p-value from z-score"
   ]
  },
  {
   "cell_type": "code",
   "execution_count": 3,
   "metadata": {},
   "outputs": [
    {
     "data": {
      "text/plain": [
       "0.03514789358403879"
      ]
     },
     "execution_count": 3,
     "metadata": {},
     "output_type": "execute_result"
    }
   ],
   "source": [
    "z_scores = -1.81\n",
    "p_values = st.norm.sf(abs(z_scores))\n",
    "p_values"
   ]
  },
  {
   "cell_type": "markdown",
   "metadata": {},
   "source": [
    "- Conclude\n",
    "    + p < 0.05 => we can reject the null hypothesis\n",
    "    + 40 smoking women have an unusually duration of pregnancy compared to random samples of similar size from the entire population\n",
    "- **p = 0.035** meaning\n",
    "    + If smoking has no effect on the duration of pregnancy (H0 is true), there is a 3.5% **random** chance that a sample of 40 smokers will have pregnancies lasting less than 260 days"
   ]
  },
  {
   "cell_type": "markdown",
   "metadata": {},
   "source": [
    "# t-test\n",
    "- t-test is used when\n",
    "    + Student (t) distribution\n",
    "    + Small sample/population size\n",
    "    + Dont know the std of population\n",
    "- The testing process\n",
    "    + State both hypotheses: null and alternate hypotheses\n",
    "    + Choose the significance level $\\alpha$\n",
    "        + The Probability threshold that determines whether accept or reject a hypothesis.\n",
    "        + If confidence level = 95%, $\\alpha = 1- cl = 0.05$\n",
    "    + Choose a test and compute the test statistic.\n",
    "    + Make the decision to reject or accept the null hypothesis\n",
    "        + If **p-value** < $\\alpha$ $\\to$ reject the null hypothesis in favor of the alternative\n",
    "            + This probability of seeing a result as extreme or more extreme than the one observed (known as the p-value)\n",
    "\n",
    "\n",
    "- Usually, three types of tests are carried out:\n",
    "    + One-Sample t-Test\n",
    "    + Two-Sample t-Test\n",
    "    + Paired t-Test\n",
    "\n",
    "## One Sample t-Test\n",
    "- One sample t-test checks if a sample mean differs from the population mean or not\n",
    "\n",
    "#### Example\n",
    "- **Problem**:\n",
    "    - Student Alcohol Consumption: Take a sample from the data\n",
    "    - Check if sample mean is differs from population mean\n",
    "- **Solution**:\n",
    "    - Hypotheses\n",
    "        + Null hypothesis $H_0$: $\\bar{x} = \\mu$\n",
    "        + Alternate hypothesis $H_1$: $\\bar{x} \\neq \\mu$\n",
    "    - Threshold $\\alpha = 0.05$"
   ]
  },
  {
   "cell_type": "code",
   "execution_count": 4,
   "metadata": {},
   "outputs": [
    {
     "name": "stdout",
     "output_type": "stream",
     "text": [
      "Population Mean 32.037974683544306\n",
      "Sample Mean 31.1\n"
     ]
    }
   ],
   "source": [
    "df = pd.read_csv('./data/student-mat.csv')\n",
    "df['grade'] = df['G1'] + df['G2'] + df['G3']\n",
    "\n",
    "# population\n",
    "pop = df['grade']\n",
    "pop_mean = pop.mean()\n",
    "\n",
    "# sample\n",
    "sample = pop.sample(\n",
    "    n=100,\n",
    "    random_state = 6)\n",
    "sample_mean = sample.mean()\n",
    "\n",
    "print('Population Mean', pop_mean)\n",
    "print('Sample Mean', sample_mean)"
   ]
  },
  {
   "cell_type": "markdown",
   "metadata": {},
   "source": [
    "- `ttest_1samp` returns\n",
    "    - test statistic: tells how much the sample mean deviates from the population \n",
    "    - p-value"
   ]
  },
  {
   "cell_type": "code",
   "execution_count": 5,
   "metadata": {},
   "outputs": [
    {
     "name": "stdout",
     "output_type": "stream",
     "text": [
      "Ttest_1sampResult(statistic=-0.860205141708286, pvalue=0.3917543405621652)\n"
     ]
    }
   ],
   "source": [
    "# Test\n",
    "result = st.ttest_1samp(\n",
    "    a=sample,\n",
    "    popmean=pop_mean)\n",
    "print(result)"
   ]
  },
  {
   "cell_type": "markdown",
   "metadata": {},
   "source": [
    "- Conclude\n",
    "    - p-value = 0.40 > $\\alpha = 0.05$\n",
    "    - Cannot reject the null hypothesis $H_0$ and the difference in both the means is by chance and not statistically significant\n",
    "- if we construct a 95% confidence interval with the sample mean, the population mean would be captured in it"
   ]
  },
  {
   "cell_type": "markdown",
   "metadata": {},
   "source": [
    "## Two-sample t-test\n",
    "- Two-sample t-test: checks whether means of two independent samples differ from each other\n",
    "\n",
    "#### Example\n",
    "- **Problem**: \n",
    "    + Student Alcohol Consumption: Take 2 sample from dataset\n",
    "    + check if the mean for both groups differ from each other or not\n",
    "- **Solution**\n",
    "    - Hypotheses\n",
    "        + Null hypothesis $H_0$: $\\bar{x}_1 = \\bar{x}_2$\n",
    "        + Alternate hypothesis $H_1$: $\\bar{x}_1 \\neq \\bar{x}_2$\n",
    "    - Threshold $\\alpha = 0.05$"
   ]
  },
  {
   "cell_type": "code",
   "execution_count": 6,
   "metadata": {},
   "outputs": [
    {
     "name": "stdout",
     "output_type": "stream",
     "text": [
      "Sample 1 Mean: 29.5\n",
      "Sample 2 Mean: 32.62305295950156\n"
     ]
    }
   ],
   "source": [
    "df = pd.read_csv('./data/student-mat.csv')\n",
    "df['grade'] = df['G1'] + df['G2'] + df['G3']\n",
    "df['alc'] = df['Walc'] + df['Dalc']\n",
    "\n",
    "# 2 Samples\n",
    "sample_1 = df[df['alc']>5]['grade']\n",
    "sample_2 = df[df['alc']<=5]['grade']\n",
    "\n",
    "sample_1_mean = sample_1.mean()\n",
    "sample_2_mean = sample_2.mean()\n",
    "\n",
    "print('Sample 1 Mean:',sample_1_mean)\n",
    "print('Sample 2 Mean:',sample_2_mean)"
   ]
  },
  {
   "cell_type": "code",
   "execution_count": 7,
   "metadata": {},
   "outputs": [
    {
     "name": "stdout",
     "output_type": "stream",
     "text": [
      "Ttest_indResult(statistic=-2.1943004704717235, pvalue=0.028798495846983758)\n"
     ]
    }
   ],
   "source": [
    "# Test\n",
    "result = st.ttest_ind(\n",
    "    a=sample_1,\n",
    "    b=sample_2)\n",
    "print(result)"
   ]
  },
  {
   "cell_type": "markdown",
   "metadata": {},
   "source": [
    "- Conclude\n",
    "    + p-value = 0.029 < $\\alpha=0.05$\n",
    "    + we can reject the null hypothesis \n",
    "    + The difference between the mean from 2 samples is statistically significant"
   ]
  },
  {
   "cell_type": "markdown",
   "metadata": {},
   "source": [
    "## Paired t-test\n",
    "- Paired t-test checks whether the means of the same sample differ at two different times\n",
    "\n",
    "#### Example\n",
    "- **Problem**: \n",
    "    + Student Alcohol Consumption: Take 2 sample from dataset\n",
    "    + check if the mean differ for the same sample at different times\n",
    "- **Solution**\n",
    "    - Hypotheses\n",
    "        + Null hypothesis $H_0$: $\\bar{x}_1 = \\bar{x}_2$\n",
    "        + Alternate hypothesis $H_1$: $\\bar{x}_1 \\neq \\bar{x}_2$\n",
    "    - Threshold $\\alpha = 0.05$"
   ]
  },
  {
   "cell_type": "code",
   "execution_count": 8,
   "metadata": {},
   "outputs": [
    {
     "name": "stdout",
     "output_type": "stream",
     "text": [
      "Sample 1 Mean: 10.90886075949367\n",
      "Sample 2 Mean: 10.415189873417722\n"
     ]
    }
   ],
   "source": [
    "# 2 samples\n",
    "sample_1 = df['G1']\n",
    "sample_2 = df['G3']\n",
    "\n",
    "sample_1_mean = sample_1.mean()\n",
    "sample_2_mean = sample_2.mean()\n",
    "\n",
    "print('Sample 1 Mean:', sample_1_mean)\n",
    "print('Sample 2 Mean:', sample_2_mean)"
   ]
  },
  {
   "cell_type": "code",
   "execution_count": 9,
   "metadata": {},
   "outputs": [
    {
     "name": "stdout",
     "output_type": "stream",
     "text": [
      "Ttest_relResult(statistic=3.5517031247185855, pvalue=0.00042906738658041643)\n"
     ]
    }
   ],
   "source": [
    "# Test\n",
    "result = st.ttest_rel(\n",
    "    a=sample_1,\n",
    "    b=sample_2)\n",
    "print(result)"
   ]
  },
  {
   "cell_type": "markdown",
   "metadata": {},
   "source": [
    "- Conclude\n",
    "    + p-value is much smaller than $\\alpha=0.05$ => we reject the null hypothesis\n",
    "    + the drop in performance in sample 2 is statistically significant."
   ]
  }
 ],
 "metadata": {
  "kernelspec": {
   "display_name": "Python 3.7",
   "language": "python",
   "name": "py37"
  },
  "language_info": {
   "codemirror_mode": {
    "name": "ipython",
    "version": 3
   },
   "file_extension": ".py",
   "mimetype": "text/x-python",
   "name": "python",
   "nbconvert_exporter": "python",
   "pygments_lexer": "ipython3",
   "version": "3.7.9"
  }
 },
 "nbformat": 4,
 "nbformat_minor": 2
}
