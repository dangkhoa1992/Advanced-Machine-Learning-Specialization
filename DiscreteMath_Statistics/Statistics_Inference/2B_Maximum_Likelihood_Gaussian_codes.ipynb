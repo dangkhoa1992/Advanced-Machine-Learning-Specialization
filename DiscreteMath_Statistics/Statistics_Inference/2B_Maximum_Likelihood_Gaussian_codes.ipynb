{
 "cells": [
  {
   "cell_type": "code",
   "execution_count": 1,
   "metadata": {},
   "outputs": [],
   "source": [
    "import numpy as np\n",
    "import matplotlib.pyplot as plt\n",
    "from scipy.stats import norm"
   ]
  },
  {
   "cell_type": "markdown",
   "metadata": {},
   "source": [
    "#### Example\n",
    "- Population height mean = 170 cm, std = 7cm \n",
    "- Take a random sample from 100 people in the population\n",
    "\n",
    "## Gausian distribution"
   ]
  },
  {
   "cell_type": "code",
   "execution_count": 2,
   "metadata": {},
   "outputs": [
    {
     "data": {
      "image/png": "[encoded data removed]",
      "text/plain": [
       "<Figure size 432x288 with 1 Axes>"
      ]
     },
     "metadata": {
      "needs_background": "light"
     },
     "output_type": "display_data"
    },
    {
     "name": "stdout",
     "output_type": "stream",
     "text": [
      "170.26153091645406\n",
      "51.89846724452874 51.89846724452874\n",
      "7.204059081138129\n",
      "52.42269418639266 52.42269418639266\n",
      "7.240351799905351\n"
     ]
    }
   ],
   "source": [
    "# Population mean, var\n",
    "mu = 170\n",
    "std = 7\n",
    "\n",
    "# Generate sample\n",
    "sample = norm.rvs(loc=mu, scale=std, size=100)\n",
    "\n",
    "plt.hist(x=sample, bins=10)\n",
    "plt.show()\n",
    "\n",
    "# Sample mean, var, std\n",
    "print(sample.mean())\n",
    "print(sample.var(), ((sample - sample.mean())**2).sum() / len(sample))\n",
    "print(sample.std())\n",
    "\n",
    "# Sample unbiased variance, std\n",
    "print(sample.var(ddof=1), ((sample - sample.mean())**2).sum() / (len(sample) - 1))\n",
    "print(sample.std(ddof=1))"
   ]
  },
  {
   "cell_type": "markdown",
   "metadata": {},
   "source": [
    "## ppf and cdf"
   ]
  },
  {
   "cell_type": "code",
   "execution_count": 3,
   "metadata": {},
   "outputs": [
    {
     "data": {
      "text/plain": [
       "181.5139753886603"
      ]
     },
     "execution_count": 3,
     "metadata": {},
     "output_type": "execute_result"
    }
   ],
   "source": [
    "# at what height are you in the 95th percentile?\n",
    "norm.ppf(0.95, loc=mu, scale=std)\n",
    "    # ppf = inverse cdf"
   ]
  },
  {
   "cell_type": "code",
   "execution_count": 4,
   "metadata": {},
   "outputs": [
    {
     "data": {
      "text/plain": [
       "0.07656372550983476"
      ]
     },
     "execution_count": 4,
     "metadata": {},
     "output_type": "execute_result"
    }
   ],
   "source": [
    "# you are 160 cm tall, what percentile are you in?\n",
    "norm.cdf(160, loc=mu, scale=std)"
   ]
  },
  {
   "cell_type": "code",
   "execution_count": 5,
   "metadata": {},
   "outputs": [
    {
     "data": {
      "text/plain": [
       "0.9234362744901652"
      ]
     },
     "execution_count": 5,
     "metadata": {},
     "output_type": "execute_result"
    }
   ],
   "source": [
    "# you are 160 cm tall, what is the probability that someone is taller than you?\n",
    "1 - norm.cdf(160, loc=mu, scale=std)"
   ]
  }
 ],
 "metadata": {
  "kernelspec": {
   "display_name": "Python 3.7",
   "language": "python",
   "name": "py37"
  },
  "language_info": {
   "codemirror_mode": {
    "name": "ipython",
    "version": 3
   },
   "file_extension": ".py",
   "mimetype": "text/x-python",
   "name": "python",
   "nbconvert_exporter": "python",
   "pygments_lexer": "ipython3",
   "version": "3.7.9"
  }
 },
 "nbformat": 4,
 "nbformat_minor": 4
}
