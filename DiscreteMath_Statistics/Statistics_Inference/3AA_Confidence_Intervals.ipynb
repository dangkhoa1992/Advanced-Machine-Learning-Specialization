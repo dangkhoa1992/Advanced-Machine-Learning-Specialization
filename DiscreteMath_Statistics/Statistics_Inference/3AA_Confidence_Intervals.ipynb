{
 "cells": [
  {
   "cell_type": "code",
   "execution_count": 1,
   "metadata": {},
   "outputs": [],
   "source": [
    "import numpy as np\n",
    "import pandas as pd\n",
    "import matplotlib.pyplot as plt"
   ]
  },
  {
   "cell_type": "markdown",
   "metadata": {},
   "source": [
    "#### Intro\n",
    "- 1 point estimate can give us a rough idea of a population parameter, but there is a chance that it contains some errors\n",
    "- Or we take many samples to reduce these errors but taking many samples is not feasible all the time  \n",
    "$\\to$ Confidence intervals\n",
    "\n",
    "# Confidence intervals\n",
    "- Confidence interval = a range of values above and below a point estimate\n",
    "    + Might contain the true value of a population parameter\n",
    "+ The interval is associated with a **confidence level**\n",
    "    + The bigger the confidence level = the wider the range of the interval\n",
    "    + The confidence level is decided before calculating the confidence intervals\n",
    "    + Confidence intervals are usually reported with point estimates to show how reliable the estimates are\n",
    "\n",
    "- The intervals are calculated from samples = for each sample, there will be a different interval\n",
    "    + Example: A 95% confidence level\n",
    "        + There is a 95% chance that the true population parameter lies in the range\n",
    "        + If we take 100 samples and calculate confidence intervals for each of the 100 samples with 95% confidence\n",
    "            + the true population parameter will lie in 95 of these intervals\n",
    "\n",
    "## Calculating confidence intervals\n",
    "- Calculate confidence intervals from point estimates.\\\n",
    "    + Add/Subtract a margin of error to the point estimate to calculate both boundaries of the interval\n",
    "    + The margin of error depends on\n",
    "        + Confidence level chosen\n",
    "        + Size of the data\n",
    "        + The spread of the data (std)\n",
    "\n",
    "- There are 2 ways of calculating confidence intervals, depend on whether we know the standard deviation of the population or not\n",
    "    + z-values\n",
    "    + t-values "
   ]
  },
  {
   "cell_type": "code",
   "execution_count": 2,
   "metadata": {},
   "outputs": [],
   "source": [
    "df = pd.read_csv('./data/UCI_Credit_Card.csv')\n",
    "\n",
    "# Population\n",
    "pop_mean = df['AGE'].mean()\n",
    "pop_std = df['AGE'].std()\n",
    "\n",
    "# Sample\n",
    "sample_size = 100\n",
    "sample = df['AGE'].sample(\n",
    "    n=sample_size,\n",
    "    random_state = 5)\n",
    "sample_mean = sample.mean()\n",
    "sample_std = sample.std()"
   ]
  },
  {
   "cell_type": "markdown",
   "metadata": {},
   "source": [
    "#### Z-values\n",
    "- $margin\\ of\\ error = z^*\\ \\frac{\\sigma}{\\sqrt{n}}$\n",
    "    + $z^*$: critical z-value\n",
    "    + $\\sigma$: standard deviation of the population\n",
    "    + $n$: sample size\n",
    "\n",
    "- Critical z-value\n",
    "    + The critical z-value $z^*$ for a 95% confidence interval = the z-score that tells us the number of $\\sigma$ we must go above or below the mean to obtain an area of 95% in a standard normal distribution\n",
    "\n",
    "<img src=\"./assets/1.png\" width=\"550\"/>\n",
    "\n",
    "- Calculate z-value by `scipy.stats`\n",
    "    + `z_value = st.norm.ppf(q=quantile)`\n",
    "    + $quantile = 1 - \\frac{1-CL}{2}$\n",
    "        + $CL$: Confidence level"
   ]
  },
  {
   "cell_type": "code",
   "execution_count": 3,
   "metadata": {},
   "outputs": [],
   "source": [
    "import scipy.stats as st"
   ]
  },
  {
   "cell_type": "code",
   "execution_count": 4,
   "metadata": {},
   "outputs": [
    {
     "name": "stdout",
     "output_type": "stream",
     "text": [
      "Z-value for 95% confidential level :  1.959963984540054\n",
      "Sample Mean :  35.57\n",
      "margin of error :  1.806675998640202\n",
      "Confidence Interval :  (33.7633240013598, 37.3766759986402)\n",
      "Population Mean :  35.4855\n"
     ]
    }
   ],
   "source": [
    "# Z-value\n",
    "cl = 0.95\n",
    "quantile = 1 - ((1-cl)/2)\n",
    "z_value = st.norm.ppf(q=quantile)\n",
    "print(\"Z-value for 95% confidential level : \", z_value)\n",
    "\n",
    "# Confidence interval caclulations\n",
    "margin_error = z_value * (pop_std / np.sqrt(sample_size))\n",
    "CI = (sample_mean - margin_error, sample_mean + margin_error)\n",
    "\n",
    "print(\"Sample Mean : \",sample_mean)\n",
    "print(\"margin of error : \", margin_error)\n",
    "print(\"Confidence Interval : \",CI)\n",
    "print(\"Population Mean : \", pop_mean)"
   ]
  },
  {
   "cell_type": "markdown",
   "metadata": {},
   "source": [
    "#### t-values\n",
    "- t-values: In most cases, we do not know the population std\n",
    "    + Use the sample std with accounting some error\n",
    "    + t-values are drawn from a t-distribution\n",
    "        + similar to a standard normal distribution\n",
    "        + Wider if the sample size small\n",
    "        + If greater sample sizes, t-distribution is very close to a normal distribution"
   ]
  },
  {
   "cell_type": "code",
   "execution_count": 5,
   "metadata": {},
   "outputs": [
    {
     "name": "stdout",
     "output_type": "stream",
     "text": [
      "t-value for 95% confidential level :  1.9842169515086827\n",
      "Sample Mean :  35.57\n",
      "margin of error :  1.9820622046591403\n",
      "Confidence Interval :  (33.58793779534086, 37.55206220465914)\n",
      "Population Mean :  35.4855\n"
     ]
    }
   ],
   "source": [
    "# t-value\n",
    "cl = 0.95\n",
    "quantile = 1 - ((1-cl)/2)\n",
    "t_value = st.t.ppf(\n",
    "    q=quantile,\n",
    "    df=sample_size-1)\n",
    "print(\"t-value for 95% confidential level : \", t_value)\n",
    "\n",
    "# Confidence interval caclulations\n",
    "margin_error = t_value * (sample_std / np.sqrt(sample_size))\n",
    "CI = (sample_mean - margin_error,sample_mean + margin_error)\n",
    "\n",
    "print('Sample Mean : ',sample_mean)\n",
    "print('margin of error : ', margin_error)\n",
    "print('Confidence Interval : ',CI)\n",
    "print('Population Mean : ', pop_mean)"
   ]
  }
 ],
 "metadata": {
  "kernelspec": {
   "display_name": "Python 3.7",
   "language": "python",
   "name": "py37"
  },
  "language_info": {
   "codemirror_mode": {
    "name": "ipython",
    "version": 3
   },
   "file_extension": ".py",
   "mimetype": "text/x-python",
   "name": "python",
   "nbconvert_exporter": "python",
   "pygments_lexer": "ipython3",
   "version": "3.7.9"
  }
 },
 "nbformat": 4,
 "nbformat_minor": 2
}
