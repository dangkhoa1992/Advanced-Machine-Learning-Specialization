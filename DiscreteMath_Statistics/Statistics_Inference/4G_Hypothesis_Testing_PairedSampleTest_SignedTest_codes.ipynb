{
 "cells": [
  {
   "cell_type": "code",
   "execution_count": 1,
   "metadata": {},
   "outputs": [],
   "source": [
    "import numpy as np\n",
    "import matplotlib.pyplot as plt\n",
    "import seaborn as sns\n",
    "import pandas as pd\n",
    "import io"
   ]
  },
  {
   "cell_type": "code",
   "execution_count": 2,
   "metadata": {},
   "outputs": [],
   "source": [
    "from statsmodels.stats.weightstats import ztest\n",
    "from scipy.stats import ttest_rel, ttest_1samp"
   ]
  },
  {
   "cell_type": "code",
   "execution_count": 3,
   "metadata": {},
   "outputs": [],
   "source": [
    "def check_stats_significance(p_value, threshold=0.05):\n",
    "    if p_value < threshold:\n",
    "        return f'{p_value:.4f} < {threshold:.2f}: Reject the null hypothesis H0; the result statistically significant'\n",
    "    else:\n",
    "        return f'{p_value:.4f} >= {threshold:.2f}: Failed to reject the null hypothesis H0; the result not statistically significant'"
   ]
  },
  {
   "cell_type": "markdown",
   "metadata": {},
   "source": [
    "#### Data"
   ]
  },
  {
   "cell_type": "code",
   "execution_count": 4,
   "metadata": {},
   "outputs": [
    {
     "data": {
      "text/html": [
       "<div>\n",
       "<style scoped>\n",
       "    .dataframe tbody tr th:only-of-type {\n",
       "        vertical-align: middle;\n",
       "    }\n",
       "\n",
       "    .dataframe tbody tr th {\n",
       "        vertical-align: top;\n",
       "    }\n",
       "\n",
       "    .dataframe thead th {\n",
       "        text-align: right;\n",
       "    }\n",
       "</style>\n",
       "<table border=\"1\" class=\"dataframe\">\n",
       "  <thead>\n",
       "    <tr style=\"text-align: right;\">\n",
       "      <th></th>\n",
       "      <th>Prior</th>\n",
       "      <th>Post</th>\n",
       "    </tr>\n",
       "  </thead>\n",
       "  <tbody>\n",
       "    <tr>\n",
       "      <th>0</th>\n",
       "      <td>83.8</td>\n",
       "      <td>95.2</td>\n",
       "    </tr>\n",
       "    <tr>\n",
       "      <th>1</th>\n",
       "      <td>83.3</td>\n",
       "      <td>94.3</td>\n",
       "    </tr>\n",
       "    <tr>\n",
       "      <th>2</th>\n",
       "      <td>86.0</td>\n",
       "      <td>91.5</td>\n",
       "    </tr>\n",
       "    <tr>\n",
       "      <th>3</th>\n",
       "      <td>82.5</td>\n",
       "      <td>91.9</td>\n",
       "    </tr>\n",
       "    <tr>\n",
       "      <th>4</th>\n",
       "      <td>86.7</td>\n",
       "      <td>100.3</td>\n",
       "    </tr>\n",
       "  </tbody>\n",
       "</table>\n",
       "</div>"
      ],
      "text/plain": [
       "   Prior   Post\n",
       "0   83.8   95.2\n",
       "1   83.3   94.3\n",
       "2   86.0   91.5\n",
       "3   82.5   91.9\n",
       "4   86.7  100.3"
      ]
     },
     "execution_count": 4,
     "metadata": {},
     "output_type": "execute_result"
    }
   ],
   "source": [
    "# source: https://cran.r-project.org/web/packages/PairedData/PairedData.pdf\n",
    "\n",
    "# Anorexia Anorexia data from Pruzek & Helmreich (2009)\n",
    "# Description\n",
    "# This dataset presents 17 paired data corresponding to the weights of girls\n",
    "# before and after treatment for anorexia. A more complete version can be\n",
    "# found in the package MASS. There is actually a cluster of four points in\n",
    "# this dataset.\n",
    "\n",
    "data = '''Prior  Post\n",
    "83.8  95.2\n",
    "83.3  94.3\n",
    "86.0  91.5\n",
    "82.5  91.9\n",
    "86.7 100.3\n",
    "79.6  76.7\n",
    "76.9  76.8\n",
    "94.2 101.6\n",
    "73.4  94.9\n",
    "80.5  75.2\n",
    "81.6  77.8\n",
    "82.1  95.5\n",
    "77.6  90.7\n",
    "83.5  92.5\n",
    "89.9  93.8\n",
    "86.0  91.7\n",
    "87.3  98.0'''\n",
    "\n",
    "file = io.StringIO(data)\n",
    "df = pd.read_csv(file, delim_whitespace=True)\n",
    "\n",
    "df.head()"
   ]
  },
  {
   "cell_type": "code",
   "execution_count": 5,
   "metadata": {},
   "outputs": [],
   "source": [
    "# data\n",
    "x1 = df['Prior'].to_numpy()\n",
    "x2 = df['Post'].to_numpy()"
   ]
  },
  {
   "cell_type": "markdown",
   "metadata": {},
   "source": [
    "#### Visualize"
   ]
  },
  {
   "cell_type": "code",
   "execution_count": 6,
   "metadata": {},
   "outputs": [
    {
     "data": {
      "image/png": "[encoded data removed]",
      "text/plain": [
       "<Figure size 432x288 with 1 Axes>"
      ]
     },
     "metadata": {
      "needs_background": "light"
     },
     "output_type": "display_data"
    }
   ],
   "source": [
    "sns.kdeplot(x1, label='Prior')\n",
    "sns.kdeplot(x2, label='Post')\n",
    "plt.legend();"
   ]
  },
  {
   "cell_type": "markdown",
   "metadata": {},
   "source": [
    "# 1. Paired Samples Test\n"
   ]
  },
  {
   "cell_type": "markdown",
   "metadata": {},
   "source": [
    "## 1.1 Paired Samples z-test\n",
    "\n",
    "#### 2-sided\n",
    "- $H_0$: $\\mu_1 = \\mu_2$\n",
    "- $H_1$: $\\mu_1 \\neq \\mu_2$"
   ]
  },
  {
   "cell_type": "code",
   "execution_count": 7,
   "metadata": {},
   "outputs": [
    {
     "name": "stdout",
     "output_type": "stream",
     "text": [
      "2.852814483270682e-05\n",
      "0.0000 < 0.05: Reject the null hypothesis H0; the result statistically significant\n"
     ]
    }
   ],
   "source": [
    "d = x2 - x1\n",
    "test_statistic, p_value = ztest(d)\n",
    "\n",
    "print(p_value)\n",
    "print(check_stats_significance(p_value))"
   ]
  },
  {
   "cell_type": "markdown",
   "metadata": {},
   "source": [
    "#### 1-sided\n",
    "- $H_0$: $\\mu_1 \\leq \\mu_2$\n",
    "- $H_1$: $\\mu_1 > \\mu_2$"
   ]
  },
  {
   "cell_type": "code",
   "execution_count": 8,
   "metadata": {},
   "outputs": [
    {
     "name": "stdout",
     "output_type": "stream",
     "text": [
      "1.426407241635341e-05\n",
      "0.0000 < 0.05: Reject the null hypothesis H0; the result statistically significant\n"
     ]
    }
   ],
   "source": [
    "d = x2 - x1\n",
    "test_statistic, p_value = ztest(d, alternative='larger')\n",
    "\n",
    "print(p_value)\n",
    "print(check_stats_significance(p_value))"
   ]
  },
  {
   "cell_type": "markdown",
   "metadata": {},
   "source": [
    "## 1.2 Paired Samples t-test\n",
    "\n",
    "#### 2-sided\n",
    "- $H_0$: $\\mu_1 = \\mu_2$\n",
    "- $H_1$: $\\mu_1 \\neq \\mu_2$"
   ]
  },
  {
   "cell_type": "code",
   "execution_count": 9,
   "metadata": {},
   "outputs": [
    {
     "name": "stdout",
     "output_type": "stream",
     "text": [
      "0.0007002531056005393\n",
      "0.0007 < 0.05: Reject the null hypothesis H0; the result statistically significant\n"
     ]
    }
   ],
   "source": [
    "# Method 1: Use ttest_rel\n",
    "test_statistic, p_value = ttest_rel(x1, x2)\n",
    "\n",
    "print(p_value)\n",
    "print(check_stats_significance(p_value))"
   ]
  },
  {
   "cell_type": "code",
   "execution_count": 10,
   "metadata": {},
   "outputs": [
    {
     "name": "stdout",
     "output_type": "stream",
     "text": [
      "0.0007002531056005393\n",
      "0.0007 < 0.05: Reject the null hypothesis H0; the result statistically significant\n"
     ]
    }
   ],
   "source": [
    "# Method 2: Use ttest_1samp on d\n",
    "d = x2 - x1\n",
    "test_statistic, p_value = ttest_1samp(d, popmean=0)\n",
    "\n",
    "print(p_value)\n",
    "print(check_stats_significance(p_value))"
   ]
  },
  {
   "cell_type": "markdown",
   "metadata": {},
   "source": [
    "#### 1-sided\n",
    "- $H_0$: $\\mu_1 \\leq \\mu_2$\n",
    "- $H_1$: $\\mu_1 > \\mu_2$"
   ]
  },
  {
   "cell_type": "code",
   "execution_count": 11,
   "metadata": {},
   "outputs": [
    {
     "name": "stdout",
     "output_type": "stream",
     "text": [
      "0.00035012655280026967\n",
      "0.0004 < 0.05: Reject the null hypothesis H0; the result statistically significant\n"
     ]
    }
   ],
   "source": [
    "# Method 1: Use ttest_rel\n",
    "test_statistic, res = ttest_rel(x1, x2)\n",
    "p_value = res/2\n",
    "\n",
    "print(p_value)\n",
    "print(check_stats_significance(p_value))"
   ]
  },
  {
   "cell_type": "code",
   "execution_count": 12,
   "metadata": {},
   "outputs": [
    {
     "name": "stdout",
     "output_type": "stream",
     "text": [
      "0.00035012655280026967\n",
      "0.0004 < 0.05: Reject the null hypothesis H0; the result statistically significant\n"
     ]
    }
   ],
   "source": [
    "# Method 2: Use ttest_1samp on d\n",
    "d = x2 - x1\n",
    "test_statistic, res = ttest_1samp(d, popmean=0)\n",
    "p_value = res/2\n",
    "\n",
    "print(p_value)\n",
    "print(check_stats_significance(p_value))"
   ]
  },
  {
   "cell_type": "markdown",
   "metadata": {},
   "source": [
    "# 2. Sign Test"
   ]
  },
  {
   "cell_type": "code",
   "execution_count": 13,
   "metadata": {},
   "outputs": [
    {
     "data": {
      "text/plain": [
       "array([ 1.,  1.,  1.,  1.,  1., -1., -1.,  1.,  1., -1., -1.,  1.,  1.,\n",
       "        1.,  1.,  1.,  1.])"
      ]
     },
     "execution_count": 13,
     "metadata": {},
     "output_type": "execute_result"
    }
   ],
   "source": [
    "d = x2 - x1\n",
    "\n",
    "signs = np.sign(d)\n",
    "signs"
   ]
  },
  {
   "cell_type": "code",
   "execution_count": 14,
   "metadata": {},
   "outputs": [
    {
     "name": "stdout",
     "output_type": "stream",
     "text": [
      "17 13 4\n"
     ]
    }
   ],
   "source": [
    "N = len(signs)\n",
    "N_positive = np.sum(signs > 0)\n",
    "N_negative = np.sum(signs < 0)\n",
    "\n",
    "print(N, N_positive, N_negative)"
   ]
  },
  {
   "cell_type": "markdown",
   "metadata": {},
   "source": [
    "## 2.1 2-sided\n",
    "- $H_0$: $\\mu_1 = \\mu_2$\n",
    "- $H_1$: $\\mu_1 \\neq \\mu_2$"
   ]
  },
  {
   "cell_type": "markdown",
   "metadata": {},
   "source": [
    "#### API"
   ]
  },
  {
   "cell_type": "code",
   "execution_count": 15,
   "metadata": {},
   "outputs": [
    {
     "name": "stdout",
     "output_type": "stream",
     "text": [
      "0.049041748046874986\n",
      "0.0490 < 0.05: Reject the null hypothesis H0; the result statistically significant\n"
     ]
    }
   ],
   "source": [
    "from statsmodels.stats.descriptivestats import sign_test\n",
    "\n",
    "test_statistic, p_value = sign_test(signs)\n",
    "\n",
    "print(p_value)\n",
    "print(check_stats_significance(p_value))"
   ]
  },
  {
   "cell_type": "markdown",
   "metadata": {},
   "source": [
    "#### Implement"
   ]
  },
  {
   "cell_type": "code",
   "execution_count": 16,
   "metadata": {},
   "outputs": [
    {
     "name": "stdout",
     "output_type": "stream",
     "text": [
      "0.049041748046874986\n",
      "0.0490 < 0.05: Reject the null hypothesis H0; the result statistically significant\n"
     ]
    }
   ],
   "source": [
    "from scipy.stats import binom\n",
    "\n",
    "k = min(N_positive, N_negative)\n",
    "p_left = binom.cdf(k, n=N, p=0.5)\n",
    "p_value = 2*p_left\n",
    "\n",
    "print(p_value)\n",
    "print(check_stats_significance(p_value))"
   ]
  }
 ],
 "metadata": {
  "kernelspec": {
   "display_name": "Python 3.7",
   "language": "python",
   "name": "py37"
  },
  "language_info": {
   "codemirror_mode": {
    "name": "ipython",
    "version": 3
   },
   "file_extension": ".py",
   "mimetype": "text/x-python",
   "name": "python",
   "nbconvert_exporter": "python",
   "pygments_lexer": "ipython3",
   "version": "3.7.9"
  }
 },
 "nbformat": 4,
 "nbformat_minor": 4
}
