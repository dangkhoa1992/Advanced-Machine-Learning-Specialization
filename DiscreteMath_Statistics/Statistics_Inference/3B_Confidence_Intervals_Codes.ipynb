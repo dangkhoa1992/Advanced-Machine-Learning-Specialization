{
 "cells": [
  {
   "cell_type": "code",
   "execution_count": 1,
   "metadata": {},
   "outputs": [],
   "source": [
    "import numpy as np\n",
    "from scipy.stats import norm, t\n",
    "import matplotlib.pyplot as plt"
   ]
  },
  {
   "cell_type": "code",
   "execution_count": 2,
   "metadata": {},
   "outputs": [
    {
     "data": {
      "image/png": "[encoded data removed]",
      "text/plain": [
       "<Figure size 432x288 with 1 Axes>"
      ]
     },
     "metadata": {
      "needs_background": "light"
     },
     "output_type": "display_data"
    }
   ],
   "source": [
    "# Normal distributed Population: mean, std\n",
    "mu = 5\n",
    "std = 2\n",
    "\n",
    "# Get an N=1000 sample\n",
    "N = 1000\n",
    "sample = np.random.randn(N)*std + mu\n",
    "\n",
    "plt.hist(x=sample, bins=10)\n",
    "plt.show()"
   ]
  },
  {
   "cell_type": "markdown",
   "metadata": {},
   "source": [
    "# Z-confidence interval"
   ]
  },
  {
   "cell_type": "code",
   "execution_count": 3,
   "metadata": {},
   "outputs": [
    {
     "name": "stdout",
     "output_type": "stream",
     "text": [
      "5.006877150180531 4.8860950151845 5.127659285176563\n"
     ]
    }
   ],
   "source": [
    "mu_hat = np.mean(sample)\n",
    "sigma_hat = np.std(sample, ddof=1)\n",
    "\n",
    "gamma = 0.95\n",
    "z_left = norm.ppf( (1 - gamma) / 2 )\n",
    "z_right = norm.ppf( (1 + gamma) / 2 )\n",
    "\n",
    "lower = mu_hat + z_left * sigma_hat / np.sqrt(N)\n",
    "upper = mu_hat + z_right * sigma_hat / np.sqrt(N)\n",
    "print(mu_hat, lower, upper)"
   ]
  },
  {
   "cell_type": "markdown",
   "metadata": {},
   "source": [
    "# t-confidence interval"
   ]
  },
  {
   "cell_type": "code",
   "execution_count": 4,
   "metadata": {},
   "outputs": [
    {
     "name": "stdout",
     "output_type": "stream",
     "text": [
      "5.006877150180531 4.885948503972498 5.127805796388564\n"
     ]
    }
   ],
   "source": [
    "mu_hat = np.mean(sample)\n",
    "sigma_hat = np.std(sample, ddof=1)\n",
    "\n",
    "gamma = 0.95\n",
    "t_left = t.ppf( (1 - gamma) / 2, df=N-1)\n",
    "t_right = t.ppf( (1 + gamma) / 2, df=N-1)\n",
    "\n",
    "lower = mu_hat + t_left * sigma_hat / np.sqrt(N)\n",
    "upper = mu_hat + t_right * sigma_hat / np.sqrt(N)\n",
    "print(mu_hat, lower, upper)"
   ]
  },
  {
   "cell_type": "markdown",
   "metadata": {},
   "source": [
    "# Experiment\n",
    "- Check the $\\gamma$-CI definition: \n",
    "    + $\\gamma$ of the time, the $\\gamma$ confidence interval will contain the true $\\mu$\n",
    "    + Or If we do an experiment many times, $\\gamma$ \\% of those time the population $\\mu$ will contained within that CI"
   ]
  },
  {
   "cell_type": "code",
   "execution_count": 5,
   "metadata": {},
   "outputs": [],
   "source": [
    "def experiment(mu, sigma, gamma):\n",
    "    sample = np.random.randn(N)*sigma + mu\n",
    "\n",
    "    mu_hat = np.mean(sample)\n",
    "    sigma_hat = np.std(sample, ddof=1)\n",
    "\n",
    "    t_left = t.ppf( (1 - gamma) / 2, df=N-1)\n",
    "    t_right = t.ppf( (1 + gamma) / 2, df=N-1)\n",
    "    lower = mu_hat + t_left * sigma_hat / np.sqrt(N)\n",
    "    upper = mu_hat + t_right * sigma_hat / np.sqrt(N)\n",
    "\n",
    "    return mu > lower and mu < upper"
   ]
  },
  {
   "cell_type": "code",
   "execution_count": 6,
   "metadata": {},
   "outputs": [
    {
     "data": {
      "text/plain": [
       "0.9017"
      ]
     },
     "execution_count": 6,
     "metadata": {},
     "output_type": "execute_result"
    }
   ],
   "source": [
    "N = 10000\n",
    "results = [experiment(mu=5, sigma=2, gamma=0.90) for _ in range(N)]\n",
    "\n",
    "np.mean(results)"
   ]
  },
  {
   "cell_type": "code",
   "execution_count": 7,
   "metadata": {},
   "outputs": [
    {
     "data": {
      "text/plain": [
       "0.949"
      ]
     },
     "execution_count": 7,
     "metadata": {},
     "output_type": "execute_result"
    }
   ],
   "source": [
    "N = 10000\n",
    "results = [experiment(mu=5, sigma=2, gamma=0.95) for _ in range(N)]\n",
    "\n",
    "np.mean(results)"
   ]
  },
  {
   "cell_type": "code",
   "execution_count": 8,
   "metadata": {},
   "outputs": [
    {
     "data": {
      "text/plain": [
       "0.9891"
      ]
     },
     "execution_count": 8,
     "metadata": {},
     "output_type": "execute_result"
    }
   ],
   "source": [
    "N = 10000\n",
    "results = [experiment(mu=5, sigma=2, gamma=0.99) for _ in range(N)]\n",
    "\n",
    "np.mean(results)"
   ]
  }
 ],
 "metadata": {
  "kernelspec": {
   "display_name": "Python 3.7",
   "language": "python",
   "name": "py37"
  },
  "language_info": {
   "codemirror_mode": {
    "name": "ipython",
    "version": 3
   },
   "file_extension": ".py",
   "mimetype": "text/x-python",
   "name": "python",
   "nbconvert_exporter": "python",
   "pygments_lexer": "ipython3",
   "version": "3.7.9"
  }
 },
 "nbformat": 4,
 "nbformat_minor": 4
}
