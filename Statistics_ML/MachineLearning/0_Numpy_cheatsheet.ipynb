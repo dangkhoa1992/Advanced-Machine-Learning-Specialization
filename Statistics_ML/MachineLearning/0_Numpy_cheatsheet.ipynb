{
 "cells": [
  {
   "cell_type": "markdown",
   "metadata": {},
   "source": [
    "#### [Source](https://medium.com/better-programming/numpy-illustrated-the-visual-guide-to-numpy-3b1d4976de1d#3338)\n"
   ]
  },
  {
   "cell_type": "code",
   "execution_count": 1,
   "metadata": {},
   "outputs": [],
   "source": [
    "import numpy as np"
   ]
  },
  {
   "cell_type": "markdown",
   "metadata": {},
   "source": [
    "# 1. Vectorized Operations vs list\n",
    "- Numpy vs list\n",
    "    + `[+]` more compact, especially when there’s more than one dimension\n",
    "    + `[+]` faster than lists when the `operations` can be vectorized\n",
    "    + `[-]` slower than lists when `append` elements to the end ( np.array O(N) vs list O(1) )\n",
    "    + `[-]` usually homogeneous: can only work fast with elements of one type"
   ]
  },
  {
   "cell_type": "code",
   "execution_count": 2,
   "metadata": {},
   "outputs": [
    {
     "output_type": "stream",
     "name": "stdout",
     "text": [
      "[2, 4, 6]\n[2 4 6]\n"
     ]
    }
   ],
   "source": [
    "# list\n",
    "A = [1,2,3]\n",
    "print([x*2 for x in A])\n",
    "\n",
    "# np array\n",
    "A = np.array([1,2,3])\n",
    "print(A * 2)"
   ]
  },
  {
   "cell_type": "code",
   "execution_count": 3,
   "metadata": {},
   "outputs": [
    {
     "output_type": "stream",
     "name": "stdout",
     "text": [
      "[5, 7, 9]\n[5 7 9]\n"
     ]
    }
   ],
   "source": [
    "# list\n",
    "A = [1,2,3]\n",
    "B = [4,5,6]\n",
    "print([x+y for x,y in zip(A,B)])\n",
    "\n",
    "# np array\n",
    "A = np.array([1,2,3])\n",
    "B = np.array([4,5,6])\n",
    "print(A + B)"
   ]
  },
  {
   "source": [
    "# 2.  1D Arrays"
   ],
   "cell_type": "markdown",
   "metadata": {}
  },
  {
   "source": [
    "## 2.1 Init"
   ],
   "cell_type": "markdown",
   "metadata": {}
  },
  {
   "cell_type": "code",
   "execution_count": 4,
   "metadata": {},
   "outputs": [
    {
     "output_type": "execute_result",
     "data": {
      "text/plain": [
       "array([1., 2., 3.])"
      ]
     },
     "metadata": {},
     "execution_count": 4
    }
   ],
   "source": [
    "# From list\n",
    "A = np.array([1., 2., 3.], dtype=np.float64)\n",
    "A"
   ]
  },
  {
   "cell_type": "code",
   "execution_count": 5,
   "metadata": {},
   "outputs": [
    {
     "output_type": "execute_result",
     "data": {
      "text/plain": [
       "array([0, 0, 0])"
      ]
     },
     "metadata": {},
     "execution_count": 5
    }
   ],
   "source": [
    "# zeros\n",
    "A = np.zeros(shape=(3,), dtype=np.int)\n",
    "A"
   ]
  },
  {
   "cell_type": "code",
   "execution_count": 6,
   "metadata": {},
   "outputs": [
    {
     "output_type": "execute_result",
     "data": {
      "text/plain": [
       "array([1., 1., 1.], dtype=float32)"
      ]
     },
     "metadata": {},
     "execution_count": 6
    }
   ],
   "source": [
    "# ones\n",
    "A = np.ones(shape=3, dtype=np.float32)\n",
    "A"
   ]
  },
  {
   "cell_type": "code",
   "execution_count": 7,
   "metadata": {},
   "outputs": [
    {
     "output_type": "execute_result",
     "data": {
      "text/plain": [
       "array([4607182418800017408, 4611686018427387904, 4613937818241073152])"
      ]
     },
     "metadata": {},
     "execution_count": 7
    }
   ],
   "source": [
    "# empty\n",
    "A = np.empty(shape=3, dtype=np.int)\n",
    "A"
   ]
  },
  {
   "cell_type": "code",
   "execution_count": 8,
   "metadata": {},
   "outputs": [
    {
     "output_type": "execute_result",
     "data": {
      "text/plain": [
       "array([2, 2, 2])"
      ]
     },
     "metadata": {},
     "execution_count": 8
    }
   ],
   "source": [
    "# full\n",
    "A = np.full(shape=3, fill_value=2, dtype=np.int)\n",
    "A"
   ]
  },
  {
   "source": [
    "## 2.2 Init range\n",
    "#### arange(start,stop,step)"
   ],
   "cell_type": "markdown",
   "metadata": {}
  },
  {
   "cell_type": "code",
   "execution_count": 9,
   "metadata": {},
   "outputs": [
    {
     "output_type": "execute_result",
     "data": {
      "text/plain": [
       "array([1, 3, 5])"
      ]
     },
     "metadata": {},
     "execution_count": 9
    }
   ],
   "source": [
    "np.arange(1,6,2)"
   ]
  },
  {
   "source": [
    "#### linspace(start,stop,num)"
   ],
   "cell_type": "markdown",
   "metadata": {}
  },
  {
   "cell_type": "code",
   "execution_count": 10,
   "metadata": {},
   "outputs": [
    {
     "output_type": "execute_result",
     "data": {
      "text/plain": [
       "array([0. , 0.1, 0.2, 0.3, 0.4, 0.5])"
      ]
     },
     "metadata": {},
     "execution_count": 10
    }
   ],
   "source": [
    "np.linspace(0,0.5,6)"
   ]
  },
  {
   "source": [
    "## 2.3 Init Random\n",
    "#### Int"
   ],
   "cell_type": "markdown",
   "metadata": {}
  },
  {
   "cell_type": "code",
   "execution_count": 11,
   "metadata": {},
   "outputs": [
    {
     "output_type": "execute_result",
     "data": {
      "text/plain": [
       "array([8, 9, 0])"
      ]
     },
     "metadata": {},
     "execution_count": 11
    }
   ],
   "source": [
    "# Int: [low,high)\n",
    "np.random.randint(low=0, high=10, size=(3,))"
   ]
  },
  {
   "source": [
    "#### Uniform"
   ],
   "cell_type": "markdown",
   "metadata": {}
  },
  {
   "cell_type": "code",
   "execution_count": 12,
   "metadata": {},
   "outputs": [
    {
     "output_type": "execute_result",
     "data": {
      "text/plain": [
       "array([0.08515078, 0.23804527, 0.16423571])"
      ]
     },
     "metadata": {},
     "execution_count": 12
    }
   ],
   "source": [
    "# Uniform distribution: [0,1)\n",
    "np.random.rand(3)"
   ]
  },
  {
   "cell_type": "code",
   "execution_count": 13,
   "metadata": {},
   "outputs": [
    {
     "output_type": "execute_result",
     "data": {
      "text/plain": [
       "array([7.87711892, 1.56013139, 8.5082266 ])"
      ]
     },
     "metadata": {},
     "execution_count": 13
    }
   ],
   "source": [
    "# Uniform distribution: [low,high)\n",
    "np.random.uniform(low=1, high=10, size=3)"
   ]
  },
  {
   "source": [
    "#### Normal"
   ],
   "cell_type": "markdown",
   "metadata": {}
  },
  {
   "cell_type": "code",
   "execution_count": 14,
   "metadata": {},
   "outputs": [
    {
     "output_type": "execute_result",
     "data": {
      "text/plain": [
       "array([ 0.65116668, -0.86049474, -0.97055788])"
      ]
     },
     "metadata": {},
     "execution_count": 14
    }
   ],
   "source": [
    "# Normal distribution: mean = 0, std = 1\n",
    "np.random.randn(3)"
   ]
  },
  {
   "cell_type": "code",
   "execution_count": 15,
   "metadata": {},
   "outputs": [
    {
     "output_type": "execute_result",
     "data": {
      "text/plain": [
       "array([5.24625201, 4.01017   , 4.7216163 ])"
      ]
     },
     "metadata": {},
     "execution_count": 15
    }
   ],
   "source": [
    "# Normal distribution: mean = loc, std = scale\n",
    "np.random.normal(loc=5,scale=2,size=3)"
   ]
  },
  {
   "source": [
    "## 2.4 Copy\n",
    "<img src=\"assets/7.png\" width=\"750\"/>\n"
   ],
   "cell_type": "markdown",
   "metadata": {}
  },
  {
   "source": [
    "## 2.5 Indexing, slicing\n",
    "<img src=\"assets/6.png\" width=\"750\"/>\n"
   ],
   "cell_type": "markdown",
   "metadata": {}
  },
  {
   "source": [
    "## 2.6 Boolean Indexing\n",
    "\n",
    "<img src=\"assets/8.png\" width=\"750\"/>\n",
    "<img src=\"assets/9.png\" width=\"750\"/>\n"
   ],
   "cell_type": "markdown",
   "metadata": {}
  },
  {
   "source": [
    "## 2.7 Vector operations\n",
    "+ numpy do vector ops at C++ level\n",
    "\n",
    "#### Vector vs vector\n",
    "<img src=\"assets/10.png\" width=\"750\"/>\n",
    "\n",
    "#### Vector vs scalar\n",
    "<img src=\"assets/11.png\" width=\"750\"/>\n",
    "\n",
    "#### Vector math ops\n",
    "\n",
    "<img src=\"assets/12.png\" width=\"750\"/>\n",
    "\n",
    "#### Vector dot and cross product\n",
    "\n",
    "<img src=\"assets/13.png\" width=\"750\"/>\n",
    "\n",
    "#### Vector Trigonometry math ops\n",
    "\n",
    "<img src=\"assets/14.png\" width=\"750\"/>\n",
    "\n",
    "#### Vector floor, ceil, round\n",
    "\n",
    "<img src=\"assets/15.png\" width=\"750\"/>"
   ],
   "cell_type": "markdown",
   "metadata": {}
  },
  {
   "source": [
    "## 2.8 Aggregate\n",
    "#### max. min, mean, std\n",
    "<img src=\"assets/16.png\" width=\"750\"/>\n",
    "\n",
    "#### sort\n",
    "- **Note**: np.array doesn't have descending sort. `reversed` the array after sorted\n",
    "<img src=\"assets/17.png\" width=\"750\"/>\n",
    "\n",
    "#### search\n"
   ],
   "cell_type": "markdown",
   "metadata": {}
  },
  {
   "cell_type": "code",
   "execution_count": 16,
   "metadata": {},
   "outputs": [
    {
     "output_type": "stream",
     "name": "stdout",
     "text": [
      "[7 9]\n"
     ]
    },
    {
     "output_type": "execute_result",
     "data": {
      "text/plain": [
       "2"
      ]
     },
     "metadata": {},
     "execution_count": 16
    }
   ],
   "source": [
    "A = np.array([1,5,6,7,9,2,4,3,8,3])\n",
    "elem = 3\n",
    "\n",
    "# where: Find all occurrences (look through all elements of the array) O(N)\n",
    "print(np.where(A==elem)[0])\n",
    "\n",
    "\n",
    "# searchsorted: Need A to be sorted first. O(NlogN) then O(logN)\n",
    "A.sort()\n",
    "np.searchsorted(A, elem)"
   ]
  },
  {
   "source": [
    "## 2.9 Comparing floats"
   ],
   "cell_type": "markdown",
   "metadata": {}
  },
  {
   "cell_type": "code",
   "execution_count": 17,
   "metadata": {},
   "outputs": [
    {
     "output_type": "stream",
     "name": "stdout",
     "text": [
      "True\nFalse\nTrue\n"
     ]
    }
   ],
   "source": [
    "print(np.allclose(a=(0.1+0.2), b=0.31, atol=1e-1))\n",
    "print(np.allclose(a=(0.1+0.2), b=0.31, atol=1e-6))\n",
    "print(np.allclose(a=(0.1+0.2), b=0.3000001, atol=1e-6))"
   ]
  },
  {
   "source": [
    "## 2.10 Iterate through np.array"
   ],
   "cell_type": "markdown",
   "metadata": {}
  },
  {
   "cell_type": "code",
   "execution_count": 18,
   "metadata": {},
   "outputs": [
    {
     "output_type": "stream",
     "name": "stdout",
     "text": [
      "(0,) 1\n(1,) 5\n(2,) 6\n(3,) 7\n(4,) 9\n(5,) 2\n(6,) 4\n(7,) 3\n(8,) 8\n(9,) 3\n"
     ]
    }
   ],
   "source": [
    "A = np.array([1,5,6,7,9,2,4,3,8,3])\n",
    "for idx, val in np.ndenumerate(A):\n",
    "    print(idx, val)"
   ]
  },
  {
   "source": [
    "# 3. Matrices/vectors - 2D Arrays"
   ],
   "cell_type": "markdown",
   "metadata": {}
  },
  {
   "source": [
    "## 3.1 Init\n",
    "<img src=\"assets/18.png\" width=\"750\"/>\n"
   ],
   "cell_type": "markdown",
   "metadata": {}
  },
  {
   "cell_type": "code",
   "execution_count": 19,
   "metadata": {},
   "outputs": [],
   "source": [
    "A = np.array(\n",
    "    [[1., 2., 3.],\n",
    "     [4., 5., 6.]], dtype=np.float64)"
   ]
  },
  {
   "source": [
    "## 3.2 Init Random\n",
    "<img src=\"assets/19.png\" width=\"750\"/>\n"
   ],
   "cell_type": "markdown",
   "metadata": {}
  },
  {
   "source": [
    "## 3.3 Indexing, Slicing\n",
    "<img src=\"assets/20.png\" width=\"750\"/>"
   ],
   "cell_type": "markdown",
   "metadata": {}
  },
  {
   "source": [
    "## 3.4 Axis argument\n",
    "\n",
    "<img src=\"assets/21.png\" width=\"750\"/>"
   ],
   "cell_type": "markdown",
   "metadata": {}
  },
  {
   "source": [
    "## 3.5 Matrix ops\n",
    "\n",
    "#### Matrix vs matrix\n",
    "<img src=\"assets/22.png\" width=\"750\"/>\n",
    "\n",
    "#### Matrix vs vector, scalar\n",
    "<img src=\"assets/23.png\" width=\"750\"/>\n"
   ],
   "cell_type": "markdown",
   "metadata": {}
  },
  {
   "source": [
    "## 3.6 Transpose and reshape, flatten\n",
    "#### Transpose\n",
    "<img src=\"assets/24.png\" width=\"750\"/>\n",
    "\n",
    "#### reshape, flatten\n",
    "- `-1`: calculate one of the dimension sizes automatically\n",
    "+ `None`: A shortcut for np.newaxis\n",
    "\n",
    "<img src=\"assets/25.png\" width=\"750\"/>\n",
    "\n",
    "<img src=\"assets/26.png\" width=\"750\"/>\n"
   ],
   "cell_type": "markdown",
   "metadata": {}
  },
  {
   "source": [
    "## 3.7 Matrix manipulations\n",
    "#### Join matrix/vector - matrix/vector\n",
    "- `vstack`, `hstack`\n",
    "\n",
    "<img src=\"assets/27.png\" width=\"750\"/>\n",
    "\n",
    "#### Join matrix/vector - array\n",
    "- `vstack` works as expected\n",
    "- use `column_stack` instead of `hstack`\n",
    "\n",
    "<img src=\"assets/28.png\" width=\"750\"/>\n",
    "\n",
    "#### split\n",
    "- `vsplit`, `hsplit`\n",
    "\n",
    "<img src=\"assets/29.png\" width=\"750\"/>\n",
    "\n",
    "\n",
    "#### Repeating\n",
    "- `tile`, `repeat`\n",
    "\n",
    "<img src=\"assets/30.png\" width=\"750\"/>\n",
    "\n",
    "#### Delete\n",
    "- `delete`\n",
    "\n",
    "<img src=\"assets/31.png\" width=\"750\"/>\n",
    "\n",
    "#### Insert\n",
    "- `insert`\n",
    "\n",
    "<img src=\"assets/32.png\" width=\"750\"/>\n",
    "\n",
    "#### Append\n",
    "- `append`\n",
    "\n",
    "<img src=\"assets/33.png\" width=\"750\"/>\n",
    "\n",
    "#### Padding\n",
    "- `pad`\n",
    "\n",
    "<img src=\"assets/34.png\" width=\"750\"/>\n",
    "\n",
    "#### Meshgrids\n",
    "- Method 1: slowest\n",
    "\n",
    "<img src=\"assets/37.png\" width=\"750\"/>\n",
    "\n",
    "- Method 2\n",
    "\n",
    "<img src=\"assets/35.png\" width=\"750\"/>\n",
    "\n",
    "- Method 3: Most optimized\n",
    "\n",
    "<img src=\"assets/35.png\" width=\"750\"/>\n"
   ],
   "cell_type": "markdown",
   "metadata": {}
  },
  {
   "source": [
    "## 3.8 Aggregate\n",
    "- sum, min, max, argmin, argmax, mean, std, var\n",
    "\n",
    "<img src=\"assets/38.png\" width=\"750\"/>\n",
    "\n",
    "<img src=\"assets/39.png\" width=\"750\"/>\n",
    "\n",
    "- all, any\n",
    "\n",
    "<img src=\"assets/40.png\" width=\"750\"/>\n",
    "\n"
   ],
   "cell_type": "markdown",
   "metadata": {}
  },
  {
   "source": [
    "## 3.9 sort\n",
    "\n",
    "<img src=\"assets/41.png\" width=\"750\"/>\n",
    "\n",
    "####  sorts the array by the first column\n",
    "- `a[a[:,0].argsort()]` \n",
    "- `argsort` returns an array of indices of the original array after sorting.\n",
    "\n",
    "\n",
    "<img src=\"assets/42.png\" width=\"750\"/>\n",
    "\n",
    "####  sorts the multiple columns\n",
    "\n",
    "```python\n",
    "a = a[a[:,2].argsort()]\n",
    "a = a[a[:,1].argsort(kind='stable')]\n",
    "a = a[a[:,0].argsort(kind='stable')]\n",
    "```\n",
    "\n",
    "<img src=\"assets/43.png\" width=\"750\"/>\n",
    "\n",
    "#### lexsort\n",
    "- `flipud`: flips the matrix in the up-down direction (axis=0), same as `a[::-1,...]`\n",
    "- `a[np.lexsort(np.flipud(a[2,5].T))]`: sorts by column 2 first and then (where the values in column 2 are equal) by column 5.\n",
    "- `a[np.lexsort(np.flipud(a.T))]`: sorts by all columns in left-to-right order\n",
    "\n",
    "<img src=\"assets/44.png\" width=\"750\"/>\n",
    "\n"
   ],
   "cell_type": "markdown",
   "metadata": {}
  },
  {
   "source": [
    "# 4. Tensors - 3D Array"
   ],
   "cell_type": "markdown",
   "metadata": {}
  },
  {
   "source": [
    "## 4.1 Init\n",
    "\n",
    "<img src=\"assets/45.png\" width=\"750\"/>\n",
    "\n",
    "## 4.2 stacking\n",
    "- `hstack`, `vstack`, `dstack`\n",
    "\n",
    "<img src=\"assets/46.png\" width=\"750\"/>\n",
    "\n",
    "## 4.3 concat\n",
    "- `concatenate`\n",
    "\n",
    "<img src=\"assets/47.png\" width=\"750\"/>\n",
    "\n",
    "## 4.4 move, swap axis\n",
    "- `moveaxis`\n",
    "\n",
    "<img src=\"assets/48.png\" width=\"750\"/>\n",
    "\n",
    "- `swapaxes`\n",
    "\n",
    "<img src=\"assets/49.png\" width=\"750\"/>\n"
   ],
   "cell_type": "markdown",
   "metadata": {}
  },
  {
   "source": [
    "## 4.5 Einstein summation\n",
    "\n",
    "<img src=\"assets/50.png\" width=\"750\"/>\n"
   ],
   "cell_type": "markdown",
   "metadata": {}
  }
 ],
 "metadata": {
  "kernelspec": {
   "display_name": "Python 3.7",
   "language": "python",
   "name": "py37"
  },
  "language_info": {
   "codemirror_mode": {
    "name": "ipython",
    "version": 3
   },
   "file_extension": ".py",
   "mimetype": "text/x-python",
   "name": "python",
   "nbconvert_exporter": "python",
   "pygments_lexer": "ipython3",
   "version": "3.7.9-final"
  }
 },
 "nbformat": 4,
 "nbformat_minor": 4
}