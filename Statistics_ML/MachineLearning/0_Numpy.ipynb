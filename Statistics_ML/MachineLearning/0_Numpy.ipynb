{
 "cells": [
  {
   "cell_type": "code",
   "execution_count": 1,
   "metadata": {},
   "outputs": [],
   "source": [
    "from IPython.display import display\n",
    "\n",
    "import pandas as pd\n",
    "import numpy as np"
   ]
  },
  {
   "cell_type": "markdown",
   "metadata": {},
   "source": [
    "# Array"
   ]
  },
  {
   "cell_type": "markdown",
   "metadata": {},
   "source": [
    "#### Initialize"
   ]
  },
  {
   "cell_type": "code",
   "execution_count": 2,
   "metadata": {},
   "outputs": [
    {
     "data": {
      "text/plain": [
       "array([[[7, 2, 2],\n",
       "        [8, 8, 5],\n",
       "        [9, 6, 0]],\n",
       "\n",
       "       [[8, 8, 7],\n",
       "        [3, 1, 9],\n",
       "        [9, 4, 6]],\n",
       "\n",
       "       [[9, 4, 1],\n",
       "        [4, 6, 3],\n",
       "        [0, 0, 3]]])"
      ]
     },
     "execution_count": 2,
     "metadata": {},
     "output_type": "execute_result"
    }
   ],
   "source": [
    "# Create an integer array of length 100 filled with zeros\n",
    "np.zeros(100, dtype=int)\n",
    "\n",
    "# Create a 3x3 floating-point array filled with 1s\n",
    "np.ones((3, 3), dtype=float)\n",
    "\n",
    "# Starting at 0, ending at 20, stepping by 3\n",
    "np.arange(0, 20, 3)\n",
    "\n",
    "# Create an array of n = 100, evenly spaced between 0 and 1\n",
    "np.linspace(0, 1, 100)\n",
    "\n",
    "# Create a 3x3 array of uniformly distributed random values between 0 and 1\n",
    "np.random.random((3, 3))\n",
    "\n",
    "# Create a 3x3 array of random integers in the interval [0, 10)\n",
    "np.random.randint(0, 10, (3, 3))\n",
    "\n",
    "# Create a 3x3 array of normally distributed random values\n",
    "# with mean=0 and std=1\n",
    "np.random.normal(0, 1, (3, 3))\n",
    "\n",
    "np.random.randint(10, size=6)  # 1D array of random integers\n",
    "np.random.randint(10, size=(3, 3))  # 2D array of random integers\n",
    "np.random.randint(10, size=(3, 3, 3))  # 3D array of random integers"
   ]
  },
  {
   "cell_type": "markdown",
   "metadata": {},
   "source": [
    "#### Attributes\n",
    "- `ndim`: the number of dimensions\n",
    "- `shape`: the size of each dimension\n",
    "- `size`: the total size of the array\n",
    "- `dtype`: the data type of the array\n",
    "- `itemsize`: the size (in bytes) of each array element\n",
    "- `nbytes`: the total size (in bytes) of the array"
   ]
  },
  {
   "cell_type": "code",
   "execution_count": 3,
   "metadata": {},
   "outputs": [
    {
     "data": {
      "text/plain": [
       "1"
      ]
     },
     "metadata": {},
     "output_type": "display_data"
    },
    {
     "data": {
      "text/plain": [
       "(4,)"
      ]
     },
     "metadata": {},
     "output_type": "display_data"
    },
    {
     "data": {
      "text/plain": [
       "4"
      ]
     },
     "metadata": {},
     "output_type": "display_data"
    },
    {
     "data": {
      "text/plain": [
       "'int64'"
      ]
     },
     "metadata": {},
     "output_type": "display_data"
    }
   ],
   "source": [
    "arr = np.array([0,1,2,3])\n",
    "\n",
    "display(arr.ndim)\n",
    "display(arr.shape)\n",
    "display(arr.size)\n",
    "display(arr.dtype.name)"
   ]
  },
  {
   "cell_type": "code",
   "execution_count": 4,
   "metadata": {},
   "outputs": [
    {
     "data": {
      "text/plain": [
       "2"
      ]
     },
     "metadata": {},
     "output_type": "display_data"
    },
    {
     "data": {
      "text/plain": [
       "(1, 4)"
      ]
     },
     "metadata": {},
     "output_type": "display_data"
    },
    {
     "data": {
      "text/plain": [
       "4"
      ]
     },
     "metadata": {},
     "output_type": "display_data"
    },
    {
     "data": {
      "text/plain": [
       "'int64'"
      ]
     },
     "metadata": {},
     "output_type": "display_data"
    }
   ],
   "source": [
    "arr = np.array([[0,1,2,3]])\n",
    "\n",
    "display(arr.ndim)\n",
    "display(arr.shape)\n",
    "display(arr.size)\n",
    "display(arr.dtype.name)"
   ]
  },
  {
   "cell_type": "code",
   "execution_count": 5,
   "metadata": {},
   "outputs": [
    {
     "data": {
      "text/plain": [
       "1"
      ]
     },
     "metadata": {},
     "output_type": "display_data"
    },
    {
     "data": {
      "text/plain": [
       "(3,)"
      ]
     },
     "metadata": {},
     "output_type": "display_data"
    },
    {
     "data": {
      "text/plain": [
       "3"
      ]
     },
     "metadata": {},
     "output_type": "display_data"
    },
    {
     "data": {
      "text/plain": [
       "'object'"
      ]
     },
     "metadata": {},
     "output_type": "display_data"
    }
   ],
   "source": [
    "arr = np.array(\n",
    "    [[0,1,2,3],\n",
    "     [4,5,6,7],\n",
    "     [8,9,10]])\n",
    "\n",
    "display(arr.ndim)\n",
    "display(arr.shape)\n",
    "display(arr.size)\n",
    "display(arr.dtype.name)"
   ]
  },
  {
   "cell_type": "code",
   "execution_count": 6,
   "metadata": {},
   "outputs": [
    {
     "data": {
      "text/plain": [
       "2"
      ]
     },
     "metadata": {},
     "output_type": "display_data"
    },
    {
     "data": {
      "text/plain": [
       "(3, 4)"
      ]
     },
     "metadata": {},
     "output_type": "display_data"
    },
    {
     "data": {
      "text/plain": [
       "12"
      ]
     },
     "metadata": {},
     "output_type": "display_data"
    },
    {
     "data": {
      "text/plain": [
       "'int64'"
      ]
     },
     "metadata": {},
     "output_type": "display_data"
    }
   ],
   "source": [
    "arr = np.array(\n",
    "    [[0,1,2,3],\n",
    "     [4,5,6,7],\n",
    "     [8,9,10,11]])\n",
    "\n",
    "display(arr.ndim)\n",
    "display(arr.shape)\n",
    "display(arr.size)\n",
    "display(arr.dtype.name)"
   ]
  },
  {
   "cell_type": "markdown",
   "metadata": {},
   "source": [
    "#### Slicing"
   ]
  },
  {
   "cell_type": "code",
   "execution_count": 7,
   "metadata": {},
   "outputs": [
    {
     "data": {
      "text/plain": [
       "array([ 2,  7, 12, 17])"
      ]
     },
     "metadata": {},
     "output_type": "display_data"
    },
    {
     "data": {
      "text/plain": [
       "array([1, 2, 3, 4, 5])"
      ]
     },
     "metadata": {},
     "output_type": "display_data"
    },
    {
     "data": {
      "text/plain": [
       "array([[ 8,  9],\n",
       "       [13, 14]])"
      ]
     },
     "metadata": {},
     "output_type": "display_data"
    }
   ],
   "source": [
    "arr = np.array(\n",
    "    [[ 1,  2,  3,  4,  5],\n",
    "     [ 6,  7,  8,  9, 10],\n",
    "     [11, 12, 13, 14, 15],\n",
    "     [16, 17, 18, 19, 20]])\n",
    "\n",
    "# col\n",
    "display(arr[:, 1])\n",
    "\n",
    "# row\n",
    "display(arr[0, :])\n",
    "\n",
    "# range\n",
    "display(arr[1:3, 2:4])"
   ]
  },
  {
   "cell_type": "markdown",
   "metadata": {},
   "source": [
    "#### Reshape"
   ]
  },
  {
   "cell_type": "code",
   "execution_count": 8,
   "metadata": {},
   "outputs": [
    {
     "data": {
      "text/plain": [
       "array([1, 2, 3, 4, 5, 6, 7, 8, 9])"
      ]
     },
     "metadata": {},
     "output_type": "display_data"
    },
    {
     "data": {
      "text/plain": [
       "array([[1, 2, 3],\n",
       "       [4, 5, 6],\n",
       "       [7, 8, 9]])"
      ]
     },
     "metadata": {},
     "output_type": "display_data"
    }
   ],
   "source": [
    "a = np.arange(1,10)\n",
    "display(a)\n",
    "\n",
    "b = a.reshape(3,3)\n",
    "display(b)"
   ]
  },
  {
   "cell_type": "code",
   "execution_count": 9,
   "metadata": {},
   "outputs": [
    {
     "data": {
      "text/plain": [
       "array([[1, 2, 3],\n",
       "       [4, 5, 6],\n",
       "       [7, 8, 9]])"
      ]
     },
     "metadata": {},
     "output_type": "display_data"
    },
    {
     "data": {
      "text/plain": [
       "array([1, 2, 3, 4, 5, 6, 7, 8, 9])"
      ]
     },
     "metadata": {},
     "output_type": "display_data"
    }
   ],
   "source": [
    "# Reshape (,) to 1D\n",
    "a = np.arange(1,10).reshape(3,3)\n",
    "display(a)\n",
    "\n",
    "b = a.flatten()\n",
    "display(b)"
   ]
  },
  {
   "cell_type": "markdown",
   "metadata": {},
   "source": [
    "# Functions"
   ]
  },
  {
   "cell_type": "code",
   "execution_count": 10,
   "metadata": {},
   "outputs": [
    {
     "name": "stdout",
     "output_type": "stream",
     "text": [
      "x = [0 1 2 3 4 5 6 7 8 9]\n",
      "\n",
      "x + 5 = [ 5  6  7  8  9 10 11 12 13 14]\n",
      "x - 5 = [-5 -4 -3 -2 -1  0  1  2  3  4]\n",
      "x * 5 = [ 0  5 10 15 20 25 30 35 40 45]\n",
      "x / 5 = [0.  0.2 0.4 0.6 0.8 1.  1.2 1.4 1.6 1.8]\n",
      "x // 5 = [0 0 0 0 0 1 1 1 1 1]\n",
      "x ** 2 =  [ 0  1  4  9 16 25 36 49 64 81]\n",
      "x % 2  =  [0 1 0 1 0 1 0 1 0 1]\n",
      "\n",
      "x + 5 = [ 5  6  7  8  9 10 11 12 13 14]\n",
      "x - 5 = [-5 -4 -3 -2 -1  0  1  2  3  4]\n",
      "x * 5 = [ 0  5 10 15 20 25 30 35 40 45]\n",
      "x / 5 = [0.  0.2 0.4 0.6 0.8 1.  1.2 1.4 1.6 1.8]\n",
      "x ** 2 =  [ 0  1  4  9 16 25 36 49 64 81]\n",
      "x % 2  =  [0 1 0 1 0 1 0 1 0 1]\n"
     ]
    }
   ],
   "source": [
    "#!/usr/bin/env python3\n",
    "import numpy as np\n",
    "\n",
    "x = np.arange(10)\n",
    "print(\"x =\", x, end='\\n\\n')\n",
    "\n",
    "# Native arithmentic operators\n",
    "print(\"x + 5 =\", x + 5)\n",
    "print(\"x - 5 =\", x - 5)\n",
    "print(\"x * 5 =\", x * 5)\n",
    "print(\"x / 5 =\", x / 5)\n",
    "print(\"x // 5 =\", x // 5)\n",
    "print(\"x ** 2 = \", x ** 2)\n",
    "print(\"x % 2  = \", x % 2, end='\\n\\n')\n",
    "\n",
    "# OR we can use explicit functions, ufuncs, e.g. \"add\" instead of \"+\"\n",
    "print(\"x + 5 =\", np.add(x, 5))\n",
    "print(\"x - 5 =\", np.subtract(x, 5))\n",
    "print(\"x * 5 =\", np.multiply(x, 5))\n",
    "print(\"x / 5 =\", np.divide(x, 5))\n",
    "print(\"x ** 2 = \", np.power(x, 2))\n",
    "print(\"x % 2  = \", np.mod(x, 2))"
   ]
  },
  {
   "cell_type": "code",
   "execution_count": 11,
   "metadata": {},
   "outputs": [
    {
     "name": "stdout",
     "output_type": "stream",
     "text": [
      "a = [ 1  2  3  4  5  6  7  8  9 10]\n",
      "b = [10  9  8  7  6  5  4  3  2  1]\n",
      "\n",
      "a + b = [11 11 11 11 11 11 11 11 11 11]\n",
      "a - b = [-9 -7 -5 -3 -1  1  3  5  7  9]\n",
      "a * b = [10 18 24 28 30 30 28 24 18 10]\n",
      "a / b = [ 0.1         0.22222222  0.375       0.57142857  0.83333333  1.2\n",
      "  1.75        2.66666667  4.5        10.        ]\n",
      "a // b = [ 0  0  0  0  0  1  1  2  4 10]\n",
      "a ** b = [    1   512  6561 16384 15625  7776  2401   512    81    10]\n",
      "a % b  =  [1 2 3 4 5 1 3 2 1 0]\n",
      "\n",
      "a + b = [11 11 11 11 11 11 11 11 11 11]\n",
      "a - b = [-9 -7 -5 -3 -1  1  3  5  7  9]\n",
      "a * b = [10 18 24 28 30 30 28 24 18 10]\n",
      "a / b = [ 0.1         0.22222222  0.375       0.57142857  0.83333333  1.2\n",
      "  1.75        2.66666667  4.5        10.        ]\n",
      "a ** b = [    1   512  6561 16384 15625  7776  2401   512    81    10]\n",
      "a % b  =  [1 2 3 4 5 1 3 2 1 0]\n"
     ]
    }
   ],
   "source": [
    "# a,b must be same size\n",
    "a = np.array([1,2,3,4,5,6,7,8,9,10])\n",
    "b = np.array([10,9,8,7,6,5,4,3,2,1])\n",
    "print(\"a =\", a)\n",
    "print(\"b =\", b, end='\\n\\n')\n",
    "\n",
    "# Native arithmentic operators\n",
    "print(\"a + b =\", a + b)\n",
    "print(\"a - b =\", a - b)\n",
    "print(\"a * b =\", a * b)\n",
    "print(\"a / b =\", a / b)\n",
    "print(\"a // b =\", a // b)\n",
    "print(\"a ** b =\", a ** b)\n",
    "print(\"a % b  = \", a % b, end='\\n\\n')\n",
    "\n",
    "# OR we can use explicit functions, ufuncs, e.g. \"add\" instead of \"+\"\n",
    "print(\"a + b =\", np.add(a, b))\n",
    "print(\"a - b =\", np.subtract(a, b))\n",
    "print(\"a * b =\", np.multiply(a, b))\n",
    "print(\"a / b =\", np.divide(a, b))\n",
    "print(\"a ** b =\", np.power(a, b))\n",
    "print(\"a % b  = \", np.mod(a, b))"
   ]
  },
  {
   "cell_type": "markdown",
   "metadata": {},
   "source": [
    "#### Reduce"
   ]
  },
  {
   "cell_type": "code",
   "execution_count": 12,
   "metadata": {},
   "outputs": [
    {
     "name": "stdout",
     "output_type": "stream",
     "text": [
      "[1 2 3 4 5]\n",
      "15\n"
     ]
    }
   ],
   "source": [
    "x = np.arange(1, 6)\n",
    "print(x)\n",
    "\n",
    "sum_all = np.add.reduce(x)\n",
    "print(sum_all)"
   ]
  },
  {
   "cell_type": "markdown",
   "metadata": {},
   "source": [
    "#### Accumulate"
   ]
  },
  {
   "cell_type": "code",
   "execution_count": 13,
   "metadata": {},
   "outputs": [
    {
     "name": "stdout",
     "output_type": "stream",
     "text": [
      "[1 2 3 4 5]\n",
      "[ 1  3  6 10 15]\n"
     ]
    }
   ],
   "source": [
    "x = np.arange(1, 6)\n",
    "print(x)\n",
    "\n",
    "sum_acc = np.add.accumulate(x)\n",
    "print(sum_acc)"
   ]
  },
  {
   "cell_type": "markdown",
   "metadata": {},
   "source": [
    "#### Aggregate 1D"
   ]
  },
  {
   "cell_type": "code",
   "execution_count": 14,
   "metadata": {},
   "outputs": [
    {
     "name": "stdout",
     "output_type": "stream",
     "text": [
      "x =  [4 9 6 8 0 5 8 7 9 8]\n",
      "\n",
      "Sum of values is: 64\n",
      "Mean value is:  6.4\n",
      "Sum of values is: 64\n",
      "Mean value is:  6.4\n",
      "Max value is:  9\n",
      "Min value is:  0\n",
      "Max value index is: 1\n",
      "Min value index is: 4\n"
     ]
    }
   ],
   "source": [
    "x = np.random.randint(0, 10, (1, 10)).flatten()\n",
    "print(\"x = \", x, end='\\n\\n')\n",
    "\n",
    "# Agg 1\n",
    "print(\"Sum of values is:\", np.sum(x))\n",
    "print(\"Mean value is: \", np.mean(x))\n",
    "\n",
    "# Agg 2\n",
    "print(\"Sum of values is:\", x.sum())\n",
    "print(\"Mean value is: \", x.mean())\n",
    "print(\"Max value is: \", x.max())\n",
    "print(\"Min value is: \", x.min())\n",
    "\n",
    "# Agg 3\n",
    "print(\"Max value index is:\", x.argmax())\n",
    "print(\"Min value index is:\", x.argmin())"
   ]
  },
  {
   "cell_type": "markdown",
   "metadata": {},
   "source": [
    "#### Aggregate 2D"
   ]
  },
  {
   "cell_type": "code",
   "execution_count": 15,
   "metadata": {},
   "outputs": [
    {
     "name": "stdout",
     "output_type": "stream",
     "text": [
      "[[0.70607948 0.68175238 0.41217173 0.18636581]\n",
      " [0.21651035 0.06838999 0.61142227 0.12949048]\n",
      " [0.20863119 0.85397123 0.68107917 0.86005682]]\n",
      "Overall sum: 5.615920895418759\n",
      "Overall Min: 0.0683899930676879\n",
      "Column wise minimum:  [0.20863119 0.06838999 0.41217173 0.12949048]\n",
      "Row wise minimum:  [0.18636581 0.06838999 0.20863119]\n"
     ]
    }
   ],
   "source": [
    "grid = np.random.random((3, 4))\n",
    "print(grid)\n",
    "\n",
    "# All\n",
    "print(\"Overall sum:\", grid.sum())\n",
    "print(\"Overall Min:\", grid.min())\n",
    "\n",
    "# Row wise and column wise min\n",
    "print(\"Column wise minimum: \", np.amin(grid, axis=0))\n",
    "print(\"Row wise minimum: \", np.amin(grid, axis=1))"
   ]
  },
  {
   "cell_type": "markdown",
   "metadata": {},
   "source": [
    "# Boolean Masks"
   ]
  },
  {
   "cell_type": "code",
   "execution_count": 16,
   "metadata": {},
   "outputs": [
    {
     "name": "stdout",
     "output_type": "stream",
     "text": [
      "[ True False False False False]\n",
      "[False False False  True  True]\n"
     ]
    }
   ],
   "source": [
    "x = np.array([1, 2, 3, 4, 5])\n",
    "print(x < 2)\n",
    "print(x >= 4)"
   ]
  },
  {
   "cell_type": "code",
   "execution_count": 17,
   "metadata": {},
   "outputs": [
    {
     "name": "stdout",
     "output_type": "stream",
     "text": [
      "[ True  True  True  True  True False False False False False]\n"
     ]
    }
   ],
   "source": [
    "# a,b must be same size\n",
    "a = np.array([1,2,3,4,5,6,7,8,9,10])\n",
    "b = np.array([10,9,8,7,6,5,4,3,2,1])\n",
    "\n",
    "print(a < b)"
   ]
  },
  {
   "cell_type": "code",
   "execution_count": 18,
   "metadata": {},
   "outputs": [
    {
     "name": "stdout",
     "output_type": "stream",
     "text": [
      "[ True  True  True False]\n",
      "[ True False False False]\n",
      "[False  True False  True]\n"
     ]
    }
   ],
   "source": [
    "# a,b must be same size\n",
    "a = np.array([True, False, True, False], dtype=bool)\n",
    "b = np.array([True, True, False, False], dtype=bool)\n",
    "\n",
    "print(np.logical_or(a,b))\n",
    "print(np.logical_and(a,b))\n",
    "print(np.logical_not(a))"
   ]
  },
  {
   "cell_type": "markdown",
   "metadata": {},
   "source": [
    "#### Count, Any, All"
   ]
  },
  {
   "cell_type": "code",
   "execution_count": 19,
   "metadata": {},
   "outputs": [
    {
     "name": "stdout",
     "output_type": "stream",
     "text": [
      "[0 1 2 3 4 5 6 7 8 9]\n",
      "6\n",
      "True\n",
      "True\n"
     ]
    }
   ],
   "source": [
    "x = np.arange(10)\n",
    "print(x)\n",
    "\n",
    "# How many values less than 6?\n",
    "print(np.count_nonzero(x < 6))\n",
    "\n",
    "# Are there any values greater than 8?\n",
    "print(np.any(x > 8))\n",
    "\n",
    "# Are all values less than 10?\n",
    "print(np.all(x < 10))"
   ]
  },
  {
   "cell_type": "markdown",
   "metadata": {},
   "source": [
    "#### Filter"
   ]
  },
  {
   "cell_type": "code",
   "execution_count": 20,
   "metadata": {},
   "outputs": [
    {
     "name": "stdout",
     "output_type": "stream",
     "text": [
      "[8 9 8 8 3 0 6 3 6 8]\n",
      "\n",
      "[3 0 3]\n",
      "(array([4, 5, 7]),)\n",
      "[3 0 3]\n"
     ]
    }
   ],
   "source": [
    "x = np.random.randint(0, 10, size=10)\n",
    "print(x, end= '\\n\\n')\n",
    "\n",
    "# List all x < 6\n",
    "print(x[x < 6])\n",
    "\n",
    "# List all x < 6 index\n",
    "print(np.where(x < 6))\n",
    "\n",
    "# List all x < 6 by where\n",
    "print(x[np.where(x < 6)])"
   ]
  },
  {
   "cell_type": "code",
   "execution_count": 21,
   "metadata": {},
   "outputs": [
    {
     "name": "stdout",
     "output_type": "stream",
     "text": [
      "[2 9 2 8 7 6 6 7 3 4]\n",
      "\n",
      "[3 4]\n",
      "[100   9 100   8   7   6   6   7 100 100]\n"
     ]
    }
   ],
   "source": [
    "x = np.random.randint(0, 10, size=10)\n",
    "print(x, end= '\\n\\n')\n",
    "\n",
    "# List all 2 < x < 6\n",
    "print(x[(2 < x) & (x < 6)])\n",
    "\n",
    "# Replace all x < 6 = 100\n",
    "x[x < 6] = 100\n",
    "print(x)"
   ]
  }
 ],
 "metadata": {
  "kernelspec": {
   "display_name": "Python 3.7",
   "language": "python",
   "name": "py37"
  },
  "language_info": {
   "codemirror_mode": {
    "name": "ipython",
    "version": 3
   },
   "file_extension": ".py",
   "mimetype": "text/x-python",
   "name": "python",
   "nbconvert_exporter": "python",
   "pygments_lexer": "ipython3",
   "version": "3.7.9"
  }
 },
 "nbformat": 4,
 "nbformat_minor": 2
}
