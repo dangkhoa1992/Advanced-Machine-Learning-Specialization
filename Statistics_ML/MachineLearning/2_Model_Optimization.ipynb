{
 "cells": [
  {
   "cell_type": "code",
   "execution_count": 1,
   "metadata": {},
   "outputs": [],
   "source": [
    "import numpy as np\n",
    "import pandas as pd\n",
    "import matplotlib.pyplot as plt\n",
    "import seaborn as sns \n",
    "from IPython.display import display"
   ]
  },
  {
   "cell_type": "markdown",
   "metadata": {},
   "source": [
    "#### Tips Dataset\n",
    "- `total_bill`: Total bill (cost of the meal), including tax, in US dollars\n",
    "- `tip`: Tip (gratuity) in US dollars\n",
    "- `gender`: Gender of person paying for the meal (male, female)\n",
    "- `smoker`: Smoker in party? (0=No, 1=Yes)\n",
    "- `day`: name of day of the visit\n",
    "- `time`: time of visit (Lunch,Dinner)\n",
    "- `people`: number of people of the party"
   ]
  },
  {
   "cell_type": "code",
   "execution_count": 2,
   "metadata": {},
   "outputs": [
    {
     "name": "stdout",
     "output_type": "stream",
     "text": [
      "<class 'pandas.core.frame.DataFrame'>\n",
      "RangeIndex: 244 entries, 0 to 243\n",
      "Data columns (total 7 columns):\n",
      "total_bill    244 non-null float64\n",
      "tip           244 non-null float64\n",
      "gender        244 non-null object\n",
      "smoker        244 non-null object\n",
      "day           244 non-null object\n",
      "time          244 non-null object\n",
      "people        244 non-null int64\n",
      "dtypes: float64(2), int64(1), object(4)\n",
      "memory usage: 13.5+ KB\n"
     ]
    },
    {
     "data": {
      "text/plain": [
       "None"
      ]
     },
     "metadata": {},
     "output_type": "display_data"
    },
    {
     "data": {
      "text/html": [
       "<div>\n",
       "<style scoped>\n",
       "    .dataframe tbody tr th:only-of-type {\n",
       "        vertical-align: middle;\n",
       "    }\n",
       "\n",
       "    .dataframe tbody tr th {\n",
       "        vertical-align: top;\n",
       "    }\n",
       "\n",
       "    .dataframe thead th {\n",
       "        text-align: right;\n",
       "    }\n",
       "</style>\n",
       "<table border=\"1\" class=\"dataframe\">\n",
       "  <thead>\n",
       "    <tr style=\"text-align: right;\">\n",
       "      <th></th>\n",
       "      <th>total_bill</th>\n",
       "      <th>tip</th>\n",
       "      <th>gender</th>\n",
       "      <th>smoker</th>\n",
       "      <th>day</th>\n",
       "      <th>time</th>\n",
       "      <th>people</th>\n",
       "    </tr>\n",
       "  </thead>\n",
       "  <tbody>\n",
       "    <tr>\n",
       "      <td>0</td>\n",
       "      <td>16.99</td>\n",
       "      <td>1.01</td>\n",
       "      <td>Female</td>\n",
       "      <td>No</td>\n",
       "      <td>Sun</td>\n",
       "      <td>Dinner</td>\n",
       "      <td>2</td>\n",
       "    </tr>\n",
       "    <tr>\n",
       "      <td>1</td>\n",
       "      <td>10.34</td>\n",
       "      <td>1.66</td>\n",
       "      <td>Male</td>\n",
       "      <td>No</td>\n",
       "      <td>Sun</td>\n",
       "      <td>Dinner</td>\n",
       "      <td>3</td>\n",
       "    </tr>\n",
       "    <tr>\n",
       "      <td>2</td>\n",
       "      <td>21.01</td>\n",
       "      <td>3.50</td>\n",
       "      <td>Male</td>\n",
       "      <td>No</td>\n",
       "      <td>Sun</td>\n",
       "      <td>Dinner</td>\n",
       "      <td>3</td>\n",
       "    </tr>\n",
       "  </tbody>\n",
       "</table>\n",
       "</div>"
      ],
      "text/plain": [
       "   total_bill   tip  gender smoker  day    time  people\n",
       "0       16.99  1.01  Female     No  Sun  Dinner       2\n",
       "1       10.34  1.66    Male     No  Sun  Dinner       3\n",
       "2       21.01  3.50    Male     No  Sun  Dinner       3"
      ]
     },
     "metadata": {},
     "output_type": "display_data"
    },
    {
     "data": {
      "text/html": [
       "<div>\n",
       "<style scoped>\n",
       "    .dataframe tbody tr th:only-of-type {\n",
       "        vertical-align: middle;\n",
       "    }\n",
       "\n",
       "    .dataframe tbody tr th {\n",
       "        vertical-align: top;\n",
       "    }\n",
       "\n",
       "    .dataframe thead th {\n",
       "        text-align: right;\n",
       "    }\n",
       "</style>\n",
       "<table border=\"1\" class=\"dataframe\">\n",
       "  <thead>\n",
       "    <tr style=\"text-align: right;\">\n",
       "      <th></th>\n",
       "      <th>total_bill</th>\n",
       "      <th>tip</th>\n",
       "      <th>people</th>\n",
       "    </tr>\n",
       "  </thead>\n",
       "  <tbody>\n",
       "    <tr>\n",
       "      <td>count</td>\n",
       "      <td>244.000000</td>\n",
       "      <td>244.000000</td>\n",
       "      <td>244.000000</td>\n",
       "    </tr>\n",
       "    <tr>\n",
       "      <td>mean</td>\n",
       "      <td>19.785943</td>\n",
       "      <td>2.998279</td>\n",
       "      <td>2.569672</td>\n",
       "    </tr>\n",
       "    <tr>\n",
       "      <td>std</td>\n",
       "      <td>8.902412</td>\n",
       "      <td>1.383638</td>\n",
       "      <td>0.951100</td>\n",
       "    </tr>\n",
       "    <tr>\n",
       "      <td>min</td>\n",
       "      <td>3.070000</td>\n",
       "      <td>1.000000</td>\n",
       "      <td>1.000000</td>\n",
       "    </tr>\n",
       "    <tr>\n",
       "      <td>25%</td>\n",
       "      <td>13.347500</td>\n",
       "      <td>2.000000</td>\n",
       "      <td>2.000000</td>\n",
       "    </tr>\n",
       "    <tr>\n",
       "      <td>50%</td>\n",
       "      <td>17.795000</td>\n",
       "      <td>2.900000</td>\n",
       "      <td>2.000000</td>\n",
       "    </tr>\n",
       "    <tr>\n",
       "      <td>75%</td>\n",
       "      <td>24.127500</td>\n",
       "      <td>3.562500</td>\n",
       "      <td>3.000000</td>\n",
       "    </tr>\n",
       "    <tr>\n",
       "      <td>max</td>\n",
       "      <td>50.810000</td>\n",
       "      <td>10.000000</td>\n",
       "      <td>6.000000</td>\n",
       "    </tr>\n",
       "  </tbody>\n",
       "</table>\n",
       "</div>"
      ],
      "text/plain": [
       "       total_bill         tip      people\n",
       "count  244.000000  244.000000  244.000000\n",
       "mean    19.785943    2.998279    2.569672\n",
       "std      8.902412    1.383638    0.951100\n",
       "min      3.070000    1.000000    1.000000\n",
       "25%     13.347500    2.000000    2.000000\n",
       "50%     17.795000    2.900000    2.000000\n",
       "75%     24.127500    3.562500    3.000000\n",
       "max     50.810000   10.000000    6.000000"
      ]
     },
     "metadata": {},
     "output_type": "display_data"
    }
   ],
   "source": [
    "df = pd.read_csv('./datasets/tips.csv')\n",
    "\n",
    "display(df.info())\n",
    "display(df.head(3))\n",
    "display(df.describe())"
   ]
  },
  {
   "cell_type": "markdown",
   "metadata": {},
   "source": [
    "# Simple model\n",
    "- $\\hat{y} = \\theta\\ x$\n",
    "    + $\\hat{y}$: predicted value\n",
    "    + $\\theta$: parameters\n",
    "\n",
    "- Example: predicted_tip = $\\theta$ * total_bill\n",
    "    + Predict tip paying by `total_bill` paying\n",
    "    + $\\theta$: percent of the total bill customer will pay as tip"
   ]
  },
  {
   "cell_type": "code",
   "execution_count": 3,
   "metadata": {},
   "outputs": [
    {
     "data": {
      "image/png": "[encoded data removed]",
      "text/plain": [
       "<Figure size 432x288 with 1 Axes>"
      ]
     },
     "metadata": {
      "needs_background": "light"
     },
     "output_type": "display_data"
    }
   ],
   "source": [
    "# Calculate percent tip/bill\n",
    "df['percent_tip'] = (df['tip'] * 100.0 / df['total_bill']).round()\n",
    "\n",
    "# Plot value counts of percent tip\n",
    "df['percent_tip'] \\\n",
    "    .value_counts() \\\n",
    "    .plot(kind = 'bar')\n",
    "plt.show()"
   ]
  },
  {
   "cell_type": "markdown",
   "metadata": {},
   "source": [
    "- Conclude: The model won't correct as `percent_tip` variates"
   ]
  },
  {
   "cell_type": "markdown",
   "metadata": {},
   "source": [
    "# Loss function\n",
    "- A loss function represent the error of a model with its parameters and the actual value\n",
    "    + $L(\\theta\\ , Y)$\n",
    "- The smaller loss value = the better model performance\n",
    "- Objective = Minimize the loss function\n",
    "\n",
    "#### Mean squared error\n",
    "$$L(\\theta\\ , Y) = \\frac{1}{n}\\ \\sum\\limits_{i=1}^n \\left( y_i - \\hat{y}_i \\right)^2$$\n",
    "\n",
    "- $y_i$: actual values (label)\n",
    "- $\\hat{y}_i$: predicted values (from model)"
   ]
  },
  {
   "cell_type": "code",
   "execution_count": 4,
   "metadata": {},
   "outputs": [],
   "source": [
    "def mse_loss(y_pred, y):\n",
    "    '''\n",
    "    Loss function: Mean squared error\n",
    "    '''\n",
    "    return ((y_pred - y)**2).mean()\n",
    "\n",
    "def model(theta, X):\n",
    "    '''\n",
    "    Simple model: y_pred = theta * X\n",
    "    '''\n",
    "    return theta*X"
   ]
  },
  {
   "cell_type": "code",
   "execution_count": 5,
   "metadata": {},
   "outputs": [],
   "source": [
    "def fit(X, y, n=1000):\n",
    "    '''\n",
    "    Minimize loss function: Find theta\n",
    "    '''\n",
    "    # Fit model\n",
    "    losses = {}\n",
    "    thetas = np.linspace(0, 1, n)\n",
    "    for theta in thetas:\n",
    "        y_pred = model(theta, X)\n",
    "        loss = mse_loss(y_pred, y)\n",
    "\n",
    "        losses[theta] = loss\n",
    "\n",
    "    # Find min loss\n",
    "    optimum = min(\n",
    "        losses.items(),\n",
    "        key=lambda x: x[1])\n",
    "    print(\"Min Loss: {:.3f} at theta = {:.2f}\" \\\n",
    "        .format(optimum[1], optimum[0]))\n",
    "\n",
    "    # Plot losses\n",
    "    plt.plot(list(losses.keys()), list(losses.values()),\n",
    "        color='b', linewidth=1.5)\n",
    "    # Plot optimum\n",
    "    plt.plot(\n",
    "        optimum[0], optimum[1], \n",
    "        'ro', markersize=5)\n",
    "    # Config\n",
    "    plt.axis ('tight')\n",
    "    plt.xlabel('Theta')\n",
    "    plt.ylabel('MSE Loss')\n",
    "    plt.show()"
   ]
  },
  {
   "cell_type": "code",
   "execution_count": 6,
   "metadata": {},
   "outputs": [
    {
     "name": "stdout",
     "output_type": "stream",
     "text": [
      "Min Loss: 1.178 at theta = 0.14\n"
     ]
    },
    {
     "data": {
      "image/png": "[encoded data removed]",
      "text/plain": [
       "<Figure size 432x288 with 1 Axes>"
      ]
     },
     "metadata": {
      "needs_background": "light"
     },
     "output_type": "display_data"
    }
   ],
   "source": [
    "fit(X=df['total_bill'],\n",
    "    y=df['tip'],\n",
    "    n=10000)"
   ]
  },
  {
   "cell_type": "markdown",
   "metadata": {},
   "source": [
    "# Optimization - Gradient Descent\n",
    "- Fiting high dimension theta: $\\theta = [\\theta_1\\ ,\\theta_2\\ ,...\\ , \\theta_n]$, complex model\n",
    "\n",
    "#### Algorithm\n",
    "- Pick a random $\\theta$\n",
    "- Calculate slope (**Gradient**): $\\frac{\\delta}{\\delta \\theta} L(\\theta, Y)$\n",
    "    + If negative slope (**Point A**)\n",
    "        + Increase $\\theta$ = Decrease loss $L(\\theta\\ , Y)$\n",
    "    + If positive slope (**Point B**)\n",
    "        + Decrease $\\theta$ = Decrease loss $L(\\theta\\ , Y)$\n",
    "\n",
    "<img src=\"./assets/1.png\" width=\"400\"/>  \n",
    "\n",
    "$\\to$ Update theta function: $\\theta_{t+1} = \\theta_t - \\frac{\\delta}{\\delta \\theta} L(\\theta_t, Y)$\n",
    "\n",
    "- Add learning rate($\\alpha$): $\\theta_{t+1} = \\theta_t - \\alpha\\ \\frac{\\delta}{\\delta \\theta} L(\\theta_t, Y)$\n",
    "\n",
    "- Loop until $|\\theta_{t+1} - \\theta_t|$ < $\\epsilon$\n",
    "    + $\\epsilon$: Stopping condition\n",
    "\n",
    "#### Apply to simple model and MSE loss\n",
    "$\\begin{cases}\n",
    "    \\text{Gradient: } \\frac{\\delta\\ L(\\theta_t\\ , Y)}{\\delta\\ \\theta} \\\\\n",
    "    \\text{MSE Loss function: } L(\\theta_t\\ , Y) = \\frac{1}{n}\\ \\sum\\limits_{i=1}^n(y_i - \\hat{y}_i)^2 \\\\\n",
    "    \\text{Simple Model: } \\hat{y}_i = \\theta_t \\ x_i\n",
    "\\end{cases}$  \n",
    "\n",
    "$\\begin{align*}\n",
    "\\to \\text{Gradient: } \\frac{\\delta\\ L(\\theta_t\\ , Y)}{\\delta\\ \\theta} &= \\frac{\\delta}{\\delta\\ \\theta}\\ \\left[ \\frac{1}{n}\\ \\sum\\limits_{i=1}^n(y_i - \\hat{y}_i)^2 \\right] \\\\\n",
    " &= \\frac{\\delta}{\\delta\\ \\theta}\\ \\left[ \\frac{1}{n}\\ \\sum\\limits_{i=1}^n(y_i - \\theta_t \\ x_i)^2 \\right] \\\\\n",
    " &= \\frac{2}{n}\\ \\sum\\limits_{i=1}^n(y_i - \\theta_t\\ x_i)\\ (-x_i) \\\\\n",
    " &= \\frac{-2}{n}\\ \\sum\\limits_{i=1}^n(y_i - \\theta_t\\ x_i)\\ (x_i)\n",
    "\\end{align*}$\n",
    "\n",
    "- Gradient Descent functions  \n",
    "$\\begin{cases}\n",
    "    \\text{Gradient = } \\frac{-2}{n}\\ \\sum\\limits_{i=1}^n(y_i - \\theta_t\\ x_i)\\ (x_i) \\\\\n",
    "    \\text{Update theta: } \\theta_{t+1} = \\theta_t - \\alpha * \\text{Gradient}\n",
    "\\end{cases}$"
   ]
  },
  {
   "cell_type": "code",
   "execution_count": 7,
   "metadata": {},
   "outputs": [],
   "source": [
    "def gradient(X, y, theta):\n",
    "    '''\n",
    "    Gradient function for \n",
    "        simple model: y_pred = theta * X\n",
    "        MSE loss\n",
    "    '''\n",
    "    n = X.shape[0]\n",
    "    return (-2.0/n) * ((y - theta*X) * X).sum()\n",
    "\n",
    "def update_theta(theta, gradient, alpha=0.001):\n",
    "    return theta - (alpha * gradient)"
   ]
  },
  {
   "cell_type": "code",
   "execution_count": 8,
   "metadata": {},
   "outputs": [],
   "source": [
    "def mse_loss(y_pred, y):\n",
    "    '''\n",
    "    Loss function: Mean squared error\n",
    "    '''\n",
    "    return ((y_pred - y)**2).mean()\n",
    "\n",
    "def model(theta, X):\n",
    "    '''\n",
    "    Simple model: y_pred = theta * X\n",
    "    '''\n",
    "    return theta*X"
   ]
  },
  {
   "cell_type": "code",
   "execution_count": 9,
   "metadata": {},
   "outputs": [],
   "source": [
    "import random \n",
    "\n",
    "def fit(X, y, epsilon=0.001, alpha=0.001):\n",
    "    theta = random.uniform(0, 1)\n",
    "\n",
    "    iters = 0\n",
    "    while True:\n",
    "        # compute gradient\n",
    "        grad = gradient(\n",
    "            X=X, y=y,\n",
    "            theta=theta)\n",
    "\n",
    "        # update theta\n",
    "        new_theta = update_theta(\n",
    "            theta=theta,\n",
    "            gradient=grad,\n",
    "            alpha=0.001)\n",
    "\n",
    "        # Update model\n",
    "        y_pred = model(theta, X)\n",
    "        loss = mse_loss(y_pred, y)\n",
    "\n",
    "        # Print\n",
    "        iters += 1\n",
    "        print('#### iter {} ####'.format(iters))\n",
    "        print('Gradient: {:.3f}'.format(grad))\n",
    "        print('theta: {:.2f}'.format(new_theta))\n",
    "        print('loss: {:.3f}'.format(loss), end='\\n\\n')\n",
    "\n",
    "        # stopping condition\n",
    "        if (abs(new_theta - theta) < epsilon):\n",
    "            break\n",
    "\n",
    "        theta = new_theta"
   ]
  },
  {
   "cell_type": "code",
   "execution_count": 10,
   "metadata": {},
   "outputs": [
    {
     "name": "stdout",
     "output_type": "stream",
     "text": [
      "#### iter 1 ####\n",
      "Gradient: 565.498\n",
      "theta: 0.18\n",
      "loss: 171.130\n",
      "\n",
      "#### iter 2 ####\n",
      "Gradient: 33.464\n",
      "theta: 0.15\n",
      "loss: 1.773\n",
      "\n",
      "#### iter 3 ####\n",
      "Gradient: 1.980\n",
      "theta: 0.14\n",
      "loss: 1.180\n",
      "\n",
      "#### iter 4 ####\n",
      "Gradient: 0.117\n",
      "theta: 0.14\n",
      "loss: 1.178\n",
      "\n"
     ]
    }
   ],
   "source": [
    "fit(X=df['total_bill'],\n",
    "    y=df['tip'],\n",
    "    epsilon=0.001, alpha=0.001)"
   ]
  }
 ],
 "metadata": {
  "kernelspec": {
   "display_name": "Python 3.6",
   "language": "python",
   "name": "py36"
  },
  "language_info": {
   "codemirror_mode": {
    "name": "ipython",
    "version": 3
   },
   "file_extension": ".py",
   "mimetype": "text/x-python",
   "name": "python",
   "nbconvert_exporter": "python",
   "pygments_lexer": "ipython3",
   "version": "3.6.9"
  }
 },
 "nbformat": 4,
 "nbformat_minor": 2
}
