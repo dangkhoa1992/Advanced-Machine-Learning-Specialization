{
 "cells": [
  {
   "cell_type": "markdown",
   "metadata": {},
   "source": [
    "# RNN\n",
    "\n",
    "<img src=\"assets/2.png\" width=\"1000\"/>\n",
    "\n",
    "+ Hidden state: $h_t = tanh(W_{hh}h_{t-1} + W_{hx}x_t)$\n",
    "    + tanh ouput in range: [-1, 1]\n",
    "+ Output: $o_t = W_{ho}h_t$\n",
    "\n",
    "\n",
    "#### Different types of RNN\n",
    "\n",
    "<img src=\"assets/2.jpeg\" width=\"800\"/>\n",
    "\n",
    "- One-to-one\n",
    "    + Fixed size of input to Fixed size of Output\n",
    "    + Eg: Image classification\n",
    "- One-to-Many\n",
    "    + Sequence output\n",
    "    + Eg: image captioning: takes an image and outputs a sentence of words\n",
    "- Many-to-one\n",
    "    + Sequence input\n",
    "    + Eg: sentiment analysis: Given A sentence -> classify as positive or negative sentiment\n",
    "- Many-to-many\n",
    "    + Sequence input and sequence output\n",
    "    + Eg: Machine Translation: A sentence in English -> outputs a sentence in French\n",
    "- Bidirectional many-to-many\n",
    "    + synced Sequence input and sequence output\n",
    "    + Eg: video classification: Label each frame of the video"
   ]
  },
  {
   "cell_type": "markdown",
   "metadata": {},
   "source": [
    "# LSTM\n",
    "\n",
    "<img src=\"assets/1.jpeg\" width=\"800\"/>\n",
    "\n",
    "+ Definitions:\n",
    "    + $x_t$: input\n",
    "    + $h_t$: output\n",
    "    + $C_t$: cell state\n",
    "    + $\\sigma$, tanh: activation functions\n",
    "\n",
    "#### Forget gate:\n",
    "- Decides how much of the past you should remember.\n",
    "\n",
    "<img src=\"assets/2.jpg\" width=\"700\"/>\n",
    "\n",
    "+ [$h_{t-1}$, $x_t$]: concate 2 signal\n",
    "+ $f_t$ in range [0,1] (due to sigmoid ($\\sigma$)) fucntion\n",
    "    + 0 = completely forget\n",
    "\n",
    "#### Input gate\n",
    "+ Decides how much of this unit is added to the current state.\n",
    "\n",
    "    <img src=\"assets/3.jpg\" width=\"700\"/>\n",
    "\n",
    "#### Cell update\n",
    "+ combine forget gate and input gate to produce current state\n",
    "    <img src=\"assets/5.jpg\" alt=\"Drawing\" style=\"width: 500px;\"/>\n",
    "\n",
    "#### Output gate\n",
    "+ Decides which part of the current cell makes it to the output.\n",
    "\n",
    "<img src=\"assets/4.jpg\" width=\"700\"/>"
   ]
  }
 ],
 "metadata": {
  "kernelspec": {
   "display_name": "Python 3.7",
   "language": "python",
   "name": "py37"
  },
  "language_info": {
   "codemirror_mode": {
    "name": "ipython",
    "version": 3
   },
   "file_extension": ".py",
   "mimetype": "text/x-python",
   "name": "python",
   "nbconvert_exporter": "python",
   "pygments_lexer": "ipython3",
   "version": "3.7.7"
  }
 },
 "nbformat": 4,
 "nbformat_minor": 4
}
