{
 "cells": [
  {
   "cell_type": "markdown",
   "metadata": {},
   "source": [
    "# 1. Matrix/vector\n",
    "#### Manipulations\n",
    "- A, B: matrix\n",
    "- a,b,c: vector\n",
    "\n",
    "$$\\begin{split}\n",
    "    & (AB)^T = B^TA^T \\\\\n",
    "    & (a^TBc)^T = c^TB^Ta \\\\\n",
    "    & (A + B)C = AC + BC \\\\\n",
    "    & C(A + B) = CA + CB \\\\\n",
    "    & (a + b)^T C = a^T C + b^T C\n",
    "\\end{split}\n",
    "$$\n",
    "\n",
    "#### Linear equation\n",
    "- A, B, X: matrix\n",
    "\n",
    "\\begin{split}\n",
    "    & AX = B \\\\\n",
    "    \\to & A^{-1}AX = A^{-1}B \\\\\n",
    "    \\to & IX = A^{-1}B \\\\\n",
    "    \\to & X = A^{-1}B\n",
    "\\end{split}\n",
    "\n",
    "#### Matrix derivatives\n",
    "- X, A: matrix\n",
    "- a: constant scalar\n",
    "\n",
    "\\begin{split}\n",
    "    f(X) = AX \\ &\\to\\  \\frac{df}{dX} = A \\\\\n",
    "    f(X) = X^TA \\ &\\to\\  \\frac{df}{dX} = A \\\\\n",
    "    f(X) = X^Ta \\ &\\to\\  \\frac{df}{dX} = a \\\\\n",
    "    f(X) = X^TX \\ &\\to\\  \\frac{df}{dX} = 2X \\\\\n",
    "    f(X) = X^TAX \\ &\\to\\  \\frac{df}{dX} = 2AX \\\\\n",
    "\\end{split}"
   ]
  },
  {
   "cell_type": "markdown",
   "metadata": {},
   "source": [
    "# 2. ReLu\n",
    "- Foward: `ReLu(x) = max(0,x)`\n",
    "- Derivative: \n",
    "\n",
    "$$\n",
    "\\frac{\\delta\\ \\text{ReLu(x)}}{\\delta\\ x} =\n",
    "\\begin{cases} \n",
    "0 & \\text{if  }  x < 0 \\\\\n",
    "1 & \\text{if  }  x > 0 \\\\\n",
    "\\end{cases}\n",
    "$$\n"
   ]
  }
 ],
 "metadata": {
  "kernelspec": {
   "display_name": "Python 3.7",
   "language": "python",
   "name": "py37"
  },
  "language_info": {
   "codemirror_mode": {
    "name": "ipython",
    "version": 3
   },
   "file_extension": ".py",
   "mimetype": "text/x-python",
   "name": "python",
   "nbconvert_exporter": "python",
   "pygments_lexer": "ipython3",
   "version": "3.7.9"
  }
 },
 "nbformat": 4,
 "nbformat_minor": 4
}
