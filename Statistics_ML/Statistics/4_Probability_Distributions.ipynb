{
 "cells": [
  {
   "cell_type": "markdown",
   "metadata": {},
   "source": [
    "# Probability Distribution\n",
    "- Probability distribution = a function\n",
    "    + represents the probabilities of all possible values\n",
    "    + specify the relative chance of all possible outcomes\n",
    "\n",
    "- Probability distributions \n",
    "    + Help us understand the underlying trends in data\n",
    "\n",
    "+ Application Example: If have some missing values in our dataset\n",
    "    + Know the distribution of our dataset\n",
    "    + then replace missing values with the most likely values\n",
    "\n",
    "#### Random Variables\n",
    "- Discrete random variables\n",
    "    + Specified values\n",
    "    + Example: Roll a dice\n",
    "        + Possible outcomes are 1, 2, 3, 4, 5, 6\n",
    "- Continuous random variables\n",
    "    + can take any value within a range\n",
    "    + This range can be finite or infinite\n",
    "    + Example:\n",
    "        + height, weight, and temperature\n",
    "\n",
    "#### Probability Functions\n",
    "- **PMF - Probability Mass Function**\n",
    "    + probability function for discrete random variable\n",
    "    + P(X=x)\n",
    "        + X: random variable\n",
    "        + x: value X can take\n",
    "        + P(X): PMF\n",
    "    + Example - PMF of rolling 2 die\n",
    "\n",
    "<img src=\"./img/1.png\" width=\"400\"/>\n",
    "\n",
    "- Mean and Variance by PMF\n",
    "    + Mean: $E[X] = \\sum\\limits_x x*P(X=x)$\n",
    "    + Var: $Var[X] = \\sum\\limits_x \\left[ x^2*P(X=x) \\right]\\ -\\ \\left[ \\sum\\limits_x x*P(X=x) \\right]^2$\n",
    "\n",
    "- **PDF - Probability Density Function**\n",
    "    + probability function for continuous random variable\n",
    "    + Example: Distribution of possible weights in a group of people\n",
    "        + May help us know \"What is the probability that a person will weight between 170lbs and 200lbs?\"\n",
    "\n",
    "<img src=\"./img/9.jpg\" width=\"300\"/>\n",
    "\n",
    "+ PDF: $f(x)$\n",
    "    + Probability in a range (a,b): $P(a<x<b)=\\int\\limits_a^b f(x) dx$\n",
    "\n",
    "<img src=\"./img/10.jpg\" width=\"300\"/>\n",
    "\n",
    "- Mean and Variance by PDF\n",
    "    \n",
    "    + Mean: $E[X] = \\int_{-\\infty}^{\\infty}{x f(x) dx}$\n",
    "    + Variance: $Var(X) = E[(X-\\mu)^2] = E[X^2] - (E[X])^2 = \\int_{-\\infty}^{\\infty}{(x-\\mu)^2 f(x) dx}$"
   ]
  },
  {
   "cell_type": "markdown",
   "metadata": {},
   "source": [
    "## Uniform Distribution (Continuous)\n",
    "- Uniform Distribution\n",
    "    + All the values\n",
    "        + have the **same** probability of occurrence \n",
    "        + within **a specified range** [a,b]\n",
    "\n",
    "<img src=\"./img/2.gif\" width=\"400\"/>\n",
    "\n",
    "- PDF: $f(x) = \\begin{cases}\n",
    "    \\frac{1}{b-a} &,\\ \\text{for}\\ a \\leq x \\leq b \\\\\n",
    "    0 &,\\ \\text{for}\\ x < a\\ \\text{or}\\ x > b  \n",
    "        \\end{cases}$\n",
    "+ Mean: $E(X) = \\frac{a+b}{2}$\n",
    "+ Variance: $Var(X) = \\frac{(b-a)^2}{12}$"
   ]
  },
  {
   "cell_type": "markdown",
   "metadata": {},
   "source": [
    "## Bernoulli Distribution (Discrete)\n",
    "- Bernoulli distribution\n",
    "    + Used when a random experiment \n",
    "        + has only 2 possible outcomes “success” or “failure”; “win” or “loss”\n",
    "        + and only 1 single trial\n",
    "    + A random variable X\n",
    "        + Take value 1 with the probability of success p\n",
    "        + Take value 0 with the probability of failure 1-p\n",
    "\n",
    "- Example: \n",
    "    + Flip an unfair coin 1 time and get a head\n",
    "        + P(success) = p\n",
    "        + P(failure) = 1-p\n",
    "    + EG will win next TI\n",
    "        + P(win) = p\n",
    "        + P(lose) = 1-p\n",
    "\n",
    "\n",
    "- p = 0.3\n",
    "<img src=\"./img/3.gif\" width=\"250\"/>\n",
    "\n",
    "- PMF: $P(X=x) = \\begin{cases}\n",
    "    p   &, x=1 \\\\\n",
    "    1-p &, x=0  \n",
    "        \\end{cases}$\n",
    "    + Or $P(X=x) = p^x(1-p)^{(1-x)}, x = [0\\ or\\ 1]$\n",
    "+ Mean: $E(X) = 1*p + 0*(1-p) = p$\n",
    "+ Variance: $Var(X) = E(X^2) - [E(X)]^2 = p-p^2 = p(1-p)$"
   ]
  },
  {
   "cell_type": "markdown",
   "metadata": {},
   "source": [
    "## Binomial Distribution (Discrete)\n",
    "- Binomial Distribution\n",
    "    + Represent the **number of successes in n trials**\n",
    "        + Experiments have only 2 possible outcomes “success” or “failure”; “win” or “loss”\n",
    "        + With multiple trials (Extension of Bernoulli)\n",
    "    + Denote\n",
    "        + $p$: P(sucess) of each trial must be the same\n",
    "            + Each trial must be independent \n",
    "            - The outcome of a previous doesn’t affect the outcome of the current\n",
    "        + $n$: The number of trials is determined\n",
    "        + $x$: The number of sucess after n trials (x is distributed in range [0,n])\n",
    "\n",
    "- Bernoulli = Binomial when n = 1\n",
    "- Example: Toss an unfair coin n times and get x heads\n",
    "    + p = 0.5, n variates  \n",
    "        <p align=\"center\">\n",
    "              <img src=\"./img/3.png\" width=\"490\"/>\n",
    "              <br/>\n",
    "              <i><a href=https://www.boost.org/>Credit</a></i>\n",
    "        </p>\n",
    "    + n = 20, p variates  \n",
    "        <p align=\"center\">\n",
    "              <img src=\"./img/4.png\" width=\"490\"/>\n",
    "              <br/>\n",
    "              <i><a href=https://www.boost.org/>Credit</a></i>\n",
    "        </p>\n",
    "\n",
    "\n",
    "- PMF: $P(X=x) = C^x_n p^x (1-p)^{n-x}$, x = 0,1,2,...,n\n",
    "- Mean: $E(X) = n*p$\n",
    "- Variance: $Var(X) = n*p*(1-p)$\n",
    "\n",
    "<p align=\"center\">\n",
    "    <img src=\"./img/5.png\" width=\"490\"/>\n",
    "    <br/>\n",
    "    <i><a href=https://www.spss-tutorials.com/binomial-test//>Credit</a></i>\n",
    "</p>"
   ]
  },
  {
   "cell_type": "markdown",
   "metadata": {},
   "source": [
    "## Normal Distribution (Continous)\n",
    "- Normal Distribution\n",
    "    + Represents the behavior in most situations\n",
    "    + Example: \n",
    "        + exams scores\n",
    "        + Heights of people\n",
    "        + IQ scores\n",
    "\n",
    "- Characteristics\n",
    "    + Mean = median = mode\n",
    "    + Symmetry about center\n",
    "        + 50% values > mean\n",
    "        + 50% values < mean\n",
    "    + Standard deviation\n",
    "        + **68%** of values are within 1 standard deviation of the mean\n",
    "        + **95%** of values are within 2 standard deviation of the mean\n",
    "        + **99.7%** of values are within 3 standard deviation of the mean\n",
    "\n",
    "<img src=\"./img/6.png\" width=\"400\"/>\n",
    "\n",
    "- PDF: $f(x) = \\frac{1}{\\sqrt{2\\pi \\sigma^2}} e^{-\\frac{(x - \\mu)^2}{2\\sigma^2}}$\n",
    "- Mean: $E(X) = \\mu$\n",
    "- Variance: $Var(X) = \\sigma^2$\n",
    "\n",
    "\n",
    "- Z-score: $z_i = \\frac{x_i-\\mu}{\\sigma}$\n",
    "    + Represent data point $x_i$ in standard deviation($\\sigma$) unit\n",
    "    + Tell us Where is the data point compared to the whole population\n",
    "        + Example:\n",
    "            + $z_i = 0$: This person height is at 50th percentile\n",
    "            + $z_i = 3$: This person is at 99.87th percentile\n",
    "            + $z_i = -3$: This person is at 0.14th percentile\n",
    "\n",
    "<img src=\"./img/7.png\" width=\"600\"/>\n",
    "\n",
    "- Standard normal distribution\n",
    "    + Perform Z-score transform all data points = Standardizing distribution\n",
    "        + Mean: $E(X) = 0$\n",
    "        + Standard deviation: $\\sigma = 1$\n",
    "\n",
    "<p align=\"center\">\n",
    "    <img src=\"./img/8.png\" width=\"550\"/>\n",
    "    <br/>\n",
    "    <i><a href=https://www.mathsisfun.com/data/standard-normal-distribution.html/>Credit</a></i>\n",
    "</p>"
   ]
  },
  {
   "cell_type": "markdown",
   "metadata": {},
   "source": [
    "## Poisson Distribution (Discrete)\n",
    "- Poisson Distribution gives \n",
    "    + the probability of a given **number of events** happening in a fixed interval of time\n",
    "\n",
    "- Example: \n",
    "    + We have the number of breads sold by a bakery every day\n",
    "        + we can predict the probability of a certain day having more sales\n",
    "\n",
    "- Assumptions of Poisson Distribution\n",
    "    + The number of successes in 2 disjoint time intervals = independent.\n",
    "    + The probability of a success during a small-time interval is proportional to the entire length of the time interval\n",
    "    + The probability of success in an interval approaches zero as the interval becomes smaller.\n",
    "\n",
    "<img src=\"./img/9.png\" width=\"400\"/>\n",
    "\n",
    "- PMF: $P(X=x) = \\frac{e^{-\\mu}*\\mu^x}{x!}$\n",
    "    + $x = 0,1,2,3,...$\n",
    "    + $\\mu$: mean number of successes in the given time interval\n",
    "    + $X$: Poisson Random Variable, is the number of events in a time interval \n",
    "- Mean: $\\mu = \\lambda t$\n",
    "    + $\\lambda$: the rate at which an event occurs\n",
    "    + $t$: the length of a time interval"
   ]
  },
  {
   "cell_type": "markdown",
   "metadata": {},
   "source": [
    "## Exponential Distribution (Continuous)\n",
    "- Exponential distribution = dealing with **time** between events\n",
    "+ Example: \n",
    "    + Model the number of accidents in a given time period\n",
    "        + Exponential distribution allows us to model the time in between each accident\n",
    "    + How much time will go by before a major earthquake hits a certain area?\n",
    "    + How long will a car component last before it needs replacement?\n",
    "\n",
    "- PDF: $f(x) = \\lambda e^{-\\lambda x}$\n",
    "    + $\\lambda$: mean time between events\n",
    "\n",
    "<img src=\"./img/10.png\" width=\"400\"/>\n",
    "\n",
    "- the greater the rate of events = the faster the curve drops\n",
    "- The lower the rate = the flatter the curve"
   ]
  },
  {
   "cell_type": "markdown",
   "metadata": {},
   "source": [
    "# Plot Distribution"
   ]
  },
  {
   "cell_type": "code",
   "execution_count": 1,
   "metadata": {},
   "outputs": [],
   "source": [
    "import numpy as np\n",
    "import seaborn as sns"
   ]
  },
  {
   "cell_type": "code",
   "execution_count": 2,
   "metadata": {},
   "outputs": [
    {
     "data": {
      "image/png": "[encoded data removed]",
      "text/plain": [
       "<Figure size 432x288 with 1 Axes>"
      ]
     },
     "metadata": {
      "needs_background": "light"
     },
     "output_type": "display_data"
    }
   ],
   "source": [
    "# Random data 1\n",
    "x = np.random.random(size=100)\n",
    "sns.distplot(x);"
   ]
  },
  {
   "cell_type": "code",
   "execution_count": 3,
   "metadata": {},
   "outputs": [
    {
     "data": {
      "image/png": "[encoded data removed]",
      "text/plain": [
       "<Figure size 432x288 with 1 Axes>"
      ]
     },
     "metadata": {
      "needs_background": "light"
     },
     "output_type": "display_data"
    }
   ],
   "source": [
    "# Random data 2\n",
    "x = np.random.random(size=100)\n",
    "sns.distplot(x);"
   ]
  },
  {
   "cell_type": "code",
   "execution_count": 4,
   "metadata": {},
   "outputs": [
    {
     "data": {
      "image/png": "[encoded data removed]",
      "text/plain": [
       "<Figure size 432x288 with 1 Axes>"
      ]
     },
     "metadata": {
      "needs_background": "light"
     },
     "output_type": "display_data"
    }
   ],
   "source": [
    "# Random normal data\n",
    "x = np.random.normal(size=100)\n",
    "sns.distplot(x);"
   ]
  }
 ],
 "metadata": {
  "kernelspec": {
   "display_name": "Python 3.7",
   "language": "python",
   "name": "py37"
  },
  "language_info": {
   "codemirror_mode": {
    "name": "ipython",
    "version": 3
   },
   "file_extension": ".py",
   "mimetype": "text/x-python",
   "name": "python",
   "nbconvert_exporter": "python",
   "pygments_lexer": "ipython3",
   "version": "3.7.9"
  }
 },
 "nbformat": 4,
 "nbformat_minor": 2
}
