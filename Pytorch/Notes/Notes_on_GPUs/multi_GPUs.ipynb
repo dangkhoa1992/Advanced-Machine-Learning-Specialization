{
 "cells": [
  {
   "cell_type": "markdown",
   "metadata": {},
   "source": [
    "#### torch - DataParallel\n",
    "[https://erickguan.me/2019/pytorch-parallel-model](https://erickguan.me/2019/pytorch-parallel-model)"
   ]
  },
  {
   "cell_type": "markdown",
   "metadata": {},
   "source": [
    "# Specify number of GPUs by `CUDA_VISIBLE_DEVICES`"
   ]
  },
  {
   "cell_type": "code",
   "execution_count": 1,
   "metadata": {
    "tags": []
   },
   "outputs": [
    {
     "name": "stdout",
     "output_type": "stream",
     "text": [
      "Total GPUs using: 1\n",
      "Is model using GPU: True\n",
      "\n",
      "=== Using GPU[0] Tesla K20m ===\n",
      "input on cuda:0\n",
      "hidden_tensor on cuda:0\n",
      "output on cuda:0\n",
      "Outside: Xb on cuda:0, yb_ on cuda:0\n",
      "\n",
      "=== Using GPU[0] Tesla K20m ===\n",
      "input on cuda:0\n",
      "hidden_tensor on cuda:0\n",
      "output on cuda:0\n",
      "Outside: Xb on cuda:0, yb_ on cuda:0\n",
      "\n",
      "=== Using GPU[0] Tesla K20m ===\n",
      "input on cuda:0\n",
      "hidden_tensor on cuda:0\n",
      "output on cuda:0\n",
      "Outside: Xb on cuda:0, yb_ on cuda:0\n",
      "\n",
      "=== Using GPU[0] Tesla K20m ===\n",
      "input on cuda:0\n",
      "hidden_tensor on cuda:0\n",
      "output on cuda:0\n",
      "Outside: Xb on cuda:0, yb_ on cuda:0\n",
      "\n"
     ]
    }
   ],
   "source": [
    "%%bash\n",
    "CUDA_VISIBLE_DEVICES=3; python3 multi_GPUs.py"
   ]
  },
  {
   "cell_type": "code",
   "execution_count": 2,
   "metadata": {
    "tags": []
   },
   "outputs": [
    {
     "name": "stdout",
     "output_type": "stream",
     "text": [
      "Total GPUs using: 2\n",
      "Is model using GPU: True\n",
      "\n",
      "=== Using GPU[0] Tesla K20m ===\n",
      "input on cuda:0\n",
      "hidden_tensor on cuda:0\n",
      "output on cuda:0\n",
      "=== Using GPU[1] Tesla K20m ===\n",
      "input on cuda:1\n",
      "hidden_tensor on cuda:1\n",
      "output on cuda:1\n",
      "Outside: Xb on cuda:0, yb_ on cuda:0\n",
      "\n",
      "=== Using GPU[0] Tesla K20m ===\n",
      "input on cuda:0\n",
      "hidden_tensor on cuda:0\n",
      "output on cuda:0\n",
      "=== Using GPU[1] Tesla K20m ===\n",
      "input on cuda:1\n",
      "hidden_tensor on cuda:1\n",
      "output on cuda:1\n",
      "Outside: Xb on cuda:0, yb_ on cuda:0\n",
      "\n",
      "=== Using GPU[1] Tesla K20m ===\n",
      "input on cuda:1\n",
      "hidden_tensor on cuda:1\n",
      "output on cuda:1\n",
      "=== Using GPU[0] Tesla K20m ===\n",
      "input on cuda:0\n",
      "hidden_tensor on cuda:0\n",
      "output on cuda:0\n",
      "Outside: Xb on cuda:0, yb_ on cuda:0\n",
      "\n",
      "=== Using GPU[1] Tesla K20m ===\n",
      "input on cuda:1\n",
      "hidden_tensor on cuda:1\n",
      "output on cuda:1\n",
      "=== Using GPU[0] Tesla K20m ===\n",
      "input on cuda:0\n",
      "hidden_tensor on cuda:0\n",
      "output on cuda:0\n",
      "Outside: Xb on cuda:0, yb_ on cuda:0\n",
      "\n"
     ]
    }
   ],
   "source": [
    "%%bash\n",
    "CUDA_VISIBLE_DEVICES=2,3; python3 multi_GPUs.py"
   ]
  },
  {
   "cell_type": "code",
   "execution_count": 3,
   "metadata": {
    "tags": []
   },
   "outputs": [
    {
     "name": "stdout",
     "output_type": "stream",
     "text": [
      "Total GPUs using: 3\n",
      "Is model using GPU: True\n",
      "\n",
      "=== Using GPU[0] Tesla K40m ===\n",
      "input on cuda:0\n",
      "hidden_tensor on cuda:0\n",
      "output on cuda:0\n",
      "=== Using GPU[1] Tesla K20m ===\n",
      "input on cuda:1\n",
      "hidden_tensor on cuda:1\n",
      "output on cuda:1\n",
      "=== Using GPU[2] Tesla K20m ===\n",
      "input on cuda:2\n",
      "hidden_tensor on cuda:2\n",
      "output on cuda:2\n",
      "Outside: Xb on cuda:0, yb_ on cuda:0\n",
      "\n",
      "=== Using GPU[0] Tesla K40m ===\n",
      "input on cuda:0\n",
      "hidden_tensor on cuda:0\n",
      "output on cuda:0\n",
      "=== Using GPU[1] Tesla K20m ===\n",
      "input on cuda:1\n",
      "hidden_tensor on cuda:1\n",
      "output on cuda:1\n",
      "=== Using GPU[2] Tesla K20m ===\n",
      "input on cuda:2\n",
      "hidden_tensor on cuda:2\n",
      "output on cuda:2\n",
      "Outside: Xb on cuda:0, yb_ on cuda:0\n",
      "\n",
      "=== Using GPU[0] Tesla K40m ===\n",
      "input on cuda:0\n",
      "hidden_tensor on cuda:0\n",
      "output on cuda:0\n",
      "=== Using GPU[1] Tesla K20m ===\n",
      "input on cuda:1\n",
      "hidden_tensor on cuda:1\n",
      "output on cuda:1\n",
      "=== Using GPU[2] Tesla K20m ===\n",
      "input on cuda:2\n",
      "hidden_tensor on cuda:2\n",
      "output on cuda:2\n",
      "Outside: Xb on cuda:0, yb_ on cuda:0\n",
      "\n",
      "=== Using GPU[0] Tesla K40m ===\n",
      "input on cuda:0\n",
      "hidden_tensor on cuda:0\n",
      "output on cuda:0\n",
      "=== Using GPU[1] Tesla K20m ====== Using GPU[2] Tesla K20m ===\n",
      "input on cuda:1\n",
      "hidden_tensor on cuda:1\n",
      "output on cuda:1\n",
      "\n",
      "input on cuda:2\n",
      "hidden_tensor on cuda:2\n",
      "output on cuda:2\n",
      "Outside: Xb on cuda:0, yb_ on cuda:0\n",
      "\n"
     ]
    }
   ],
   "source": [
    "%%bash\n",
    "CUDA_VISIBLE_DEVICES=0,2,3; python3 multi_GPUs.py"
   ]
  },
  {
   "cell_type": "code",
   "execution_count": 4,
   "metadata": {
    "tags": []
   },
   "outputs": [
    {
     "name": "stdout",
     "output_type": "stream",
     "text": [
      "Total GPUs using: 4\n",
      "Is model using GPU: True\n",
      "\n",
      "=== Using GPU[1] Tesla K40m ===\n",
      "input on cuda:1\n",
      "hidden_tensor on cuda:1\n",
      "output on cuda:1\n",
      "=== Using GPU[0] Tesla K40m ===\n",
      "input on cuda:0\n",
      "hidden_tensor on cuda:0\n",
      "output on cuda:0\n",
      "=== Using GPU[2] Tesla K20m ===\n",
      "input on cuda:2\n",
      "hidden_tensor on cuda:2\n",
      "output on cuda:2\n",
      "=== Using GPU[3] Tesla K20m ===\n",
      "input on cuda:3\n",
      "hidden_tensor on cuda:3\n",
      "output on cuda:3\n",
      "Outside: Xb on cuda:0, yb_ on cuda:0\n",
      "\n",
      "=== Using GPU[0] Tesla K40m ===\n",
      "input on cuda:0\n",
      "hidden_tensor on cuda:0\n",
      "output on cuda:0\n",
      "=== Using GPU[1] Tesla K40m ====== Using GPU[2] Tesla K20m ===\n",
      "\n",
      "input on cuda:1input on cuda:2\n",
      "hidden_tensor on cuda:1\n",
      "\n",
      "hidden_tensor on cuda:2\n",
      "output on cuda:2output on cuda:1\n",
      "\n",
      "=== Using GPU[3] Tesla K20m ===\n",
      "input on cuda:3\n",
      "hidden_tensor on cuda:3\n",
      "output on cuda:3\n",
      "Outside: Xb on cuda:0, yb_ on cuda:0\n",
      "\n",
      "=== Using GPU[0] Tesla K40m ===\n",
      "input on cuda:0\n",
      "hidden_tensor on cuda:0\n",
      "output on cuda:0\n",
      "=== Using GPU[1] Tesla K40m ===\n",
      "input on cuda:1\n",
      "hidden_tensor on cuda:1\n",
      "output on cuda:1\n",
      "=== Using GPU[2] Tesla K20m ====== Using GPU[3] Tesla K20m ===\n",
      "\n",
      "input on cuda:2input on cuda:3\n",
      "hidden_tensor on cuda:2\n",
      "\n",
      "hidden_tensor on cuda:3\n",
      "output on cuda:3\n",
      "output on cuda:2\n",
      "Outside: Xb on cuda:0, yb_ on cuda:0\n",
      "\n",
      "=== Using GPU[0] Tesla K40m ===\n",
      "input on cuda:0\n",
      "hidden_tensor on cuda:0\n",
      "output on cuda:0\n",
      "=== Using GPU[1] Tesla K40m ===\n",
      "input on cuda:1\n",
      "hidden_tensor on cuda:1\n",
      "output on cuda:1\n",
      "=== Using GPU[3] Tesla K20m ===\n",
      "input on cuda:3\n",
      "hidden_tensor on cuda:3\n",
      "output on cuda:3\n",
      "=== Using GPU[2] Tesla K20m ===\n",
      "input on cuda:2\n",
      "hidden_tensor on cuda:2\n",
      "output on cuda:2\n",
      "Outside: Xb on cuda:0, yb_ on cuda:0\n",
      "\n"
     ]
    }
   ],
   "source": [
    "%%bash\n",
    "CUDA_VISIBLE_DEVICES=0,1,2,3; python3 multi_GPUs.py"
   ]
  },
  {
   "cell_type": "markdown",
   "metadata": {},
   "source": [
    "# Save/Load model multi GPUs"
   ]
  },
  {
   "cell_type": "code",
   "execution_count": 5,
   "metadata": {},
   "outputs": [],
   "source": [
    "import torch\n",
    "from multi_GPUs import Model\n",
    "\n",
    "input_size = 5\n",
    "output_size = 2\n",
    "model = Model(input_size, output_size)"
   ]
  },
  {
   "cell_type": "code",
   "execution_count": 6,
   "metadata": {},
   "outputs": [
    {
     "data": {
      "text/plain": [
       "OrderedDict([('fc.weight',\n",
       "              tensor([[ 0.3325, -0.0914, -0.1236, -0.0760,  0.0080],\n",
       "                      [ 0.0640,  0.0921, -0.2450,  0.0957,  0.3809]])),\n",
       "             ('fc.bias', tensor([-0.3945, -0.2780]))])"
      ]
     },
     "execution_count": 6,
     "metadata": {},
     "output_type": "execute_result"
    }
   ],
   "source": [
    "# Check params\n",
    "model.state_dict()"
   ]
  },
  {
   "cell_type": "code",
   "execution_count": 7,
   "metadata": {},
   "outputs": [],
   "source": [
    "# Save model\n",
    "torch.save(model.state_dict(), 'mymodel.pt')"
   ]
  },
  {
   "cell_type": "code",
   "execution_count": 8,
   "metadata": {},
   "outputs": [
    {
     "data": {
      "text/plain": [
       "<All keys matched successfully>"
      ]
     },
     "execution_count": 8,
     "metadata": {},
     "output_type": "execute_result"
    }
   ],
   "source": [
    "# Load model\n",
    "model_load = Model(input_size, output_size)\n",
    "model_dic = torch.load('mymodel.pt')\n",
    "\n",
    "from collections import OrderedDict\n",
    "new_state_dict = OrderedDict() \n",
    "for k, v in model_dic.items(): \n",
    "    name = k.replace('module.', '')\n",
    "    new_state_dict[name] = v\n",
    "\n",
    "model_load.load_state_dict(new_state_dict)"
   ]
  }
 ],
 "metadata": {
  "kernelspec": {
   "display_name": "Python 3.7",
   "language": "python",
   "name": "py37"
  },
  "language_info": {
   "codemirror_mode": {
    "name": "ipython",
    "version": 3
   },
   "file_extension": ".py",
   "mimetype": "text/x-python",
   "name": "python",
   "nbconvert_exporter": "python",
   "pygments_lexer": "ipython3",
   "version": "3.7.9"
  }
 },
 "nbformat": 4,
 "nbformat_minor": 2
}
