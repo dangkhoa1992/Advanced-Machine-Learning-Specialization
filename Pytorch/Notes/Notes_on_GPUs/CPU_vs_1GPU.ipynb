{
 "cells": [
  {
   "cell_type": "code",
   "execution_count": 2,
   "metadata": {
    "tags": []
   },
   "outputs": [
    {
     "name": "stdout",
     "output_type": "stream",
     "text": [
      "1.3.1\n",
      "True\n"
     ]
    }
   ],
   "source": [
    "import torch\n",
    "import torch.nn as nn\n",
    "from torch.utils.data import Dataset, DataLoader\n",
    "\n",
    "print(torch.__version__)\n",
    "print(torch.cuda.is_available())"
   ]
  },
  {
   "cell_type": "markdown",
   "metadata": {},
   "source": [
    "#### Check if is on CPU or GPU\n",
    "\n",
    "```python\n",
    "# Tensor\n",
    "print(X.device)\n",
    "\n",
    "# Model\n",
    "print(next(model.parameters()).is_cuda)\n",
    "```"
   ]
  },
  {
   "cell_type": "markdown",
   "metadata": {},
   "source": [
    "# Train data by GPU"
   ]
  },
  {
   "cell_type": "markdown",
   "metadata": {},
   "source": [
    "#### Sample Dataset"
   ]
  },
  {
   "cell_type": "code",
   "execution_count": 3,
   "metadata": {},
   "outputs": [],
   "source": [
    "class RandomDataset(Dataset):\n",
    "    def __init__(self, size, length):\n",
    "        self.len = length\n",
    "        self.data = torch.randn(length, size)\n",
    "\n",
    "    def __getitem__(self, index):\n",
    "        return self.data[index]\n",
    "\n",
    "    def __len__(self):\n",
    "        return self.len"
   ]
  },
  {
   "cell_type": "code",
   "execution_count": 4,
   "metadata": {},
   "outputs": [],
   "source": [
    "# Create dataset: [100, 5]\n",
    "N = 100\n",
    "input_size = 5\n",
    "random_dataset = RandomDataset(\n",
    "    size=input_size,\n",
    "    length=N)\n",
    "\n",
    "# Dataloader: batch_size=30\n",
    "batch_size = 30\n",
    "rand_loader = DataLoader(\n",
    "    dataset=random_dataset,\n",
    "    batch_size=batch_size, shuffle=True)"
   ]
  },
  {
   "cell_type": "code",
   "execution_count": 5,
   "metadata": {
    "tags": []
   },
   "outputs": [
    {
     "name": "stdout",
     "output_type": "stream",
     "text": [
      "Dataset shape: torch.Size([100, 5])\n",
      "\n",
      "Dataloader length: 4\n",
      "torch.Size([30, 5])\n",
      "torch.Size([30, 5])\n",
      "torch.Size([30, 5])\n",
      "torch.Size([10, 5])\n"
     ]
    }
   ],
   "source": [
    "print(f\"Dataset shape: {random_dataset.data.size()}\\n\")\n",
    "print(f\"Dataloader length: {len(rand_loader)}\")\n",
    "for batch in rand_loader:\n",
    "    print(batch.size())"
   ]
  },
  {
   "cell_type": "markdown",
   "metadata": {},
   "source": [
    "#### Sample model"
   ]
  },
  {
   "cell_type": "code",
   "execution_count": 6,
   "metadata": {},
   "outputs": [],
   "source": [
    "class Model(nn.Module):\n",
    "    def __init__(self, input_size, output_size, use_GPU:bool=True, GPU_ids=[0]):\n",
    "        super(Model, self).__init__()\n",
    "\n",
    "        # Config\n",
    "        self.use_GPU = use_GPU\n",
    "        self.GPU_ids = GPU_ids\n",
    "\n",
    "        # Layers\n",
    "        self.fc = nn.Linear(input_size, output_size)\n",
    "\n",
    "    def forward(self, input):\n",
    "        ## Hidden tensor\n",
    "        batch_size = input.size()[0]\n",
    "\n",
    "        if self.use_GPU:\n",
    "            hidden_tensor = torch.randn(batch_size, input_size).cuda()\n",
    "        else:\n",
    "            hidden_tensor = torch.randn(batch_size, input_size)\n",
    "\n",
    "        ## FW\n",
    "        input = input + hidden_tensor\n",
    "            # (batch_size, input_size) \n",
    "        output = self.fc(input)\n",
    "            # (batch_size, output_size)\n",
    "\n",
    "        ## Display Info\n",
    "        gpu_id = torch.cuda.current_device()\n",
    "        gpu_name = torch.cuda.get_device_name()\n",
    "        print(f\"=== Using GPU[{gpu_id}] {gpu_name} ===\")\n",
    "        print(f\"input on {input.device}\")\n",
    "        print(f\"hidden_tensor on {hidden_tensor.device}\")\n",
    "        print(f\"output on {output.device}\")\n",
    "\n",
    "        return output"
   ]
  },
  {
   "cell_type": "markdown",
   "metadata": {},
   "source": [
    "# Load to cpu"
   ]
  },
  {
   "cell_type": "code",
   "execution_count": 7,
   "metadata": {
    "tags": []
   },
   "outputs": [
    {
     "name": "stdout",
     "output_type": "stream",
     "text": [
      "Use cpu\n"
     ]
    }
   ],
   "source": [
    "device = torch.device(\"cpu\")\n",
    "print(f\"Use {device}\")"
   ]
  },
  {
   "cell_type": "code",
   "execution_count": 8,
   "metadata": {
    "tags": []
   },
   "outputs": [
    {
     "name": "stdout",
     "output_type": "stream",
     "text": [
      "Is model using GPU: False\n"
     ]
    }
   ],
   "source": [
    "# Load model\n",
    "input_size = 5\n",
    "output_size = 2\n",
    "model = Model(input_size, output_size, use_GPU=False)\n",
    "print(f\"Is model using GPU: {next(model.parameters()).is_cuda}\")"
   ]
  },
  {
   "cell_type": "code",
   "execution_count": 9,
   "metadata": {
    "tags": []
   },
   "outputs": [
    {
     "name": "stdout",
     "output_type": "stream",
     "text": [
      "=== Using GPU[0] Tesla K40m ===\n",
      "input on cpu\n",
      "hidden_tensor on cpu\n",
      "output on cpu\n",
      "Outside: Xb on cpu, yb_ on cpu\n",
      "\n",
      "=== Using GPU[0] Tesla K40m ===\n",
      "input on cpu\n",
      "hidden_tensor on cpu\n",
      "output on cpu\n",
      "Outside: Xb on cpu, yb_ on cpu\n",
      "\n",
      "=== Using GPU[0] Tesla K40m ===\n",
      "input on cpu\n",
      "hidden_tensor on cpu\n",
      "output on cpu\n",
      "Outside: Xb on cpu, yb_ on cpu\n",
      "\n",
      "=== Using GPU[0] Tesla K40m ===\n",
      "input on cpu\n",
      "hidden_tensor on cpu\n",
      "output on cpu\n",
      "Outside: Xb on cpu, yb_ on cpu\n",
      "\n"
     ]
    }
   ],
   "source": [
    "# Load data\n",
    "for batch in rand_loader:\n",
    "    # Load data\n",
    "    Xb = batch\n",
    "\n",
    "    # Train\n",
    "    yb_ = model(Xb)\n",
    "    print(f\"Outside: Xb on {Xb.device}, yb_ on {yb_.device}\\n\")"
   ]
  },
  {
   "cell_type": "markdown",
   "metadata": {},
   "source": [
    "# Load to 1 GPU"
   ]
  },
  {
   "cell_type": "code",
   "execution_count": 10,
   "metadata": {
    "tags": []
   },
   "outputs": [
    {
     "name": "stdout",
     "output_type": "stream",
     "text": [
      "Use cuda\n",
      "Number of GPUs: 4\n"
     ]
    }
   ],
   "source": [
    "device = torch.device(\"cuda\" if torch.cuda.is_available() else \"cpu\")\n",
    "print(f\"Use {device}\")\n",
    "print(f\"Number of GPUs: {torch.cuda.device_count()}\")"
   ]
  },
  {
   "cell_type": "code",
   "execution_count": 11,
   "metadata": {
    "tags": []
   },
   "outputs": [
    {
     "name": "stdout",
     "output_type": "stream",
     "text": [
      "Is model using GPU: True\n"
     ]
    }
   ],
   "source": [
    "# Load model\n",
    "input_size = 5\n",
    "output_size = 2\n",
    "model = Model(input_size, output_size, use_GPU=True)\n",
    "model.to(device)\n",
    "print(f\"Is model using GPU: {next(model.parameters()).is_cuda}\")"
   ]
  },
  {
   "cell_type": "code",
   "execution_count": 12,
   "metadata": {
    "tags": []
   },
   "outputs": [
    {
     "name": "stdout",
     "output_type": "stream",
     "text": [
      "=== Using GPU[0] Tesla K40m ===\n",
      "input on cuda:0\n",
      "hidden_tensor on cuda:0\n",
      "output on cuda:0\n",
      "Outside: Xb on cuda:0, yb_ on cuda:0\n",
      "\n",
      "=== Using GPU[0] Tesla K40m ===\n",
      "input on cuda:0\n",
      "hidden_tensor on cuda:0\n",
      "output on cuda:0\n",
      "Outside: Xb on cuda:0, yb_ on cuda:0\n",
      "\n",
      "=== Using GPU[0] Tesla K40m ===\n",
      "input on cuda:0\n",
      "hidden_tensor on cuda:0\n",
      "output on cuda:0\n",
      "Outside: Xb on cuda:0, yb_ on cuda:0\n",
      "\n",
      "=== Using GPU[0] Tesla K40m ===\n",
      "input on cuda:0\n",
      "hidden_tensor on cuda:0\n",
      "output on cuda:0\n",
      "Outside: Xb on cuda:0, yb_ on cuda:0\n",
      "\n"
     ]
    }
   ],
   "source": [
    "# Load data\n",
    "for batch in rand_loader:\n",
    "    # Load data\n",
    "    Xb = batch.to(device)\n",
    "\n",
    "    # Train\n",
    "    yb_ = model(Xb)\n",
    "    print(f\"Outside: Xb on {Xb.device}, yb_ on {yb_.device}\\n\")"
   ]
  },
  {
   "cell_type": "markdown",
   "metadata": {},
   "source": [
    "#### Save model on 1 GPU"
   ]
  },
  {
   "cell_type": "code",
   "execution_count": 13,
   "metadata": {},
   "outputs": [
    {
     "data": {
      "text/plain": [
       "OrderedDict([('fc.weight',\n",
       "              tensor([[ 0.3728,  0.3349, -0.3626, -0.0367,  0.1534],\n",
       "                      [-0.2738, -0.2812,  0.4316,  0.2844,  0.2578]], device='cuda:0')),\n",
       "             ('fc.bias', tensor([-0.0507,  0.3611], device='cuda:0'))])"
      ]
     },
     "execution_count": 13,
     "metadata": {},
     "output_type": "execute_result"
    }
   ],
   "source": [
    "# Check params\n",
    "model.state_dict()"
   ]
  },
  {
   "cell_type": "code",
   "execution_count": 14,
   "metadata": {},
   "outputs": [],
   "source": [
    "# Save model\n",
    "torch.save(model.state_dict(), 'mymodel.pt')"
   ]
  },
  {
   "cell_type": "code",
   "execution_count": 15,
   "metadata": {},
   "outputs": [
    {
     "data": {
      "text/plain": [
       "<All keys matched successfully>"
      ]
     },
     "execution_count": 15,
     "metadata": {},
     "output_type": "execute_result"
    }
   ],
   "source": [
    "# Load model\n",
    "model_load = Model(input_size, output_size)\n",
    "model_load.load_state_dict(torch.load('mymodel.pt'))"
   ]
  }
 ],
 "metadata": {
  "kernelspec": {
   "display_name": "Python 3.7",
   "language": "python",
   "name": "py37"
  },
  "language_info": {
   "codemirror_mode": {
    "name": "ipython",
    "version": 3
   },
   "file_extension": ".py",
   "mimetype": "text/x-python",
   "name": "python",
   "nbconvert_exporter": "python",
   "pygments_lexer": "ipython3",
   "version": "3.7.9"
  }
 },
 "nbformat": 4,
 "nbformat_minor": 2
}
