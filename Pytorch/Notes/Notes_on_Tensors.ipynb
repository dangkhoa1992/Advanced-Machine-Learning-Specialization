{
 "cells": [
  {
   "cell_type": "code",
   "execution_count": 1,
   "metadata": {},
   "outputs": [],
   "source": [
    "import numpy as np\n",
    "import torch"
   ]
  },
  {
   "cell_type": "markdown",
   "metadata": {},
   "source": [
    "# Numpy"
   ]
  },
  {
   "cell_type": "code",
   "execution_count": 2,
   "metadata": {},
   "outputs": [
    {
     "name": "stdout",
     "output_type": "stream",
     "text": [
      "(1, 2, 3)\n",
      "(6,)\n"
     ]
    }
   ],
   "source": [
    "# flatten\n",
    "a = np.random.random((1, 2, 3))\n",
    "b = a.reshape(-1)\n",
    "\n",
    "print(a.shape)\n",
    "print(b.shape)"
   ]
  },
  {
   "cell_type": "code",
   "execution_count": 3,
   "metadata": {},
   "outputs": [
    {
     "name": "stdout",
     "output_type": "stream",
     "text": [
      "(6,)\n",
      "(1, 6)\n"
     ]
    }
   ],
   "source": [
    "# Add dimension\n",
    "a = np.random.random((6,))\n",
    "b = a.reshape(1, -1)\n",
    "\n",
    "print(a.shape)\n",
    "print(b.shape)"
   ]
  },
  {
   "cell_type": "code",
   "execution_count": 4,
   "metadata": {},
   "outputs": [
    {
     "name": "stdout",
     "output_type": "stream",
     "text": [
      "(1, 2, 3)\n",
      "(2, 3)\n"
     ]
    }
   ],
   "source": [
    "# -1: autofit dim\n",
    "a = np.random.random((1, 2, 3))\n",
    "b = a.reshape(-1, 3)\n",
    "\n",
    "print(a.shape)\n",
    "print(b.shape)"
   ]
  },
  {
   "cell_type": "markdown",
   "metadata": {},
   "source": [
    "# Torch 1 tensor ops"
   ]
  },
  {
   "cell_type": "markdown",
   "metadata": {},
   "source": [
    "#### view (reshape)"
   ]
  },
  {
   "cell_type": "code",
   "execution_count": 5,
   "metadata": {},
   "outputs": [
    {
     "name": "stdout",
     "output_type": "stream",
     "text": [
      "torch.Size([1, 2, 3])\n",
      "torch.Size([6])\n"
     ]
    }
   ],
   "source": [
    "# flatten\n",
    "a = torch.rand((1, 2, 3))\n",
    "b = a.view(-1)\n",
    "\n",
    "print(a.shape)\n",
    "print(b.shape)"
   ]
  },
  {
   "cell_type": "code",
   "execution_count": 6,
   "metadata": {},
   "outputs": [
    {
     "name": "stdout",
     "output_type": "stream",
     "text": [
      "torch.Size([5])\n",
      "torch.Size([1, 5])\n"
     ]
    }
   ],
   "source": [
    "# Add dimension\n",
    "a = torch.rand(5)\n",
    "print(a.size())\n",
    "\n",
    "b = a.view(1, -1)\n",
    "print(b.size())"
   ]
  },
  {
   "cell_type": "code",
   "execution_count": 7,
   "metadata": {},
   "outputs": [
    {
     "name": "stdout",
     "output_type": "stream",
     "text": [
      "torch.Size([1, 2, 3])\n",
      "torch.Size([3, 2])\n"
     ]
    }
   ],
   "source": [
    "# -1: autofit dim\n",
    "a = torch.rand(1,2,3)\n",
    "b = a.view(-1, 2)\n",
    "\n",
    "print(a.size())\n",
    "print(b.size())"
   ]
  },
  {
   "cell_type": "markdown",
   "metadata": {},
   "source": [
    "#### Permute, transpose"
   ]
  },
  {
   "cell_type": "code",
   "execution_count": 8,
   "metadata": {},
   "outputs": [
    {
     "name": "stdout",
     "output_type": "stream",
     "text": [
      "torch.Size([1, 2, 3])\n",
      "torch.Size([1, 3, 2])\n"
     ]
    }
   ],
   "source": [
    "# Permute: swap dimension\n",
    "a = torch.rand(1,2,3)\n",
    "b = a.permute(0, 2, 1)\n",
    "\n",
    "print(a.size())\n",
    "print(b.size())"
   ]
  },
  {
   "cell_type": "code",
   "execution_count": 9,
   "metadata": {},
   "outputs": [
    {
     "name": "stdout",
     "output_type": "stream",
     "text": [
      "torch.Size([2, 3])\n",
      "torch.Size([3, 2])\n"
     ]
    }
   ],
   "source": [
    "# transpose - For 2D tensors only\n",
    "a = torch.rand(2, 3)\n",
    "print(a.size())\n",
    "\n",
    "b = a.t()\n",
    "print(b.size())"
   ]
  },
  {
   "cell_type": "markdown",
   "metadata": {},
   "source": [
    "#### squeeze, unsqueeze"
   ]
  },
  {
   "cell_type": "code",
   "execution_count": 10,
   "metadata": {},
   "outputs": [
    {
     "name": "stdout",
     "output_type": "stream",
     "text": [
      "torch.Size([5])\n"
     ]
    }
   ],
   "source": [
    "# squeeze\n",
    "a = torch.rand(1,5) # (1,5)\n",
    "\n",
    "print(a.squeeze().size())"
   ]
  },
  {
   "cell_type": "code",
   "execution_count": 11,
   "metadata": {},
   "outputs": [
    {
     "name": "stdout",
     "output_type": "stream",
     "text": [
      "torch.Size([1, 5])\n",
      "torch.Size([5, 1])\n"
     ]
    }
   ],
   "source": [
    "# unsqueeze\n",
    "a = torch.rand(5) # (5)\n",
    "\n",
    "print(a.unsqueeze(dim=0).size())\n",
    "print(a.unsqueeze(dim=1).size())"
   ]
  },
  {
   "cell_type": "markdown",
   "metadata": {},
   "source": [
    "#### repeat\n",
    "- Repeat each dimension () time"
   ]
  },
  {
   "cell_type": "code",
   "execution_count": 12,
   "metadata": {},
   "outputs": [
    {
     "name": "stdout",
     "output_type": "stream",
     "text": [
      "tensor([[1, 2, 3],\n",
      "        [4, 5, 6]]) torch.Size([2, 3])\n",
      "tensor([[1, 2, 3, 1, 2, 3],\n",
      "        [4, 5, 6, 4, 5, 6]]) torch.Size([2, 6])\n",
      "tensor([[1, 2, 3, 1, 2, 3, 1, 2, 3],\n",
      "        [4, 5, 6, 4, 5, 6, 4, 5, 6]]) torch.Size([2, 9])\n"
     ]
    }
   ],
   "source": [
    "a = torch.tensor([\n",
    "    [1,2,3],\n",
    "    [4,5,6]\n",
    "]) # (2,3)\n",
    "\n",
    "res = a.repeat(1,1)\n",
    "print(res, res.size())\n",
    "\n",
    "res = a.repeat(1,2)\n",
    "print(res, res.size())\n",
    "\n",
    "res = a.repeat(1,3)\n",
    "print(res, res.size())"
   ]
  },
  {
   "cell_type": "code",
   "execution_count": 13,
   "metadata": {},
   "outputs": [
    {
     "name": "stdout",
     "output_type": "stream",
     "text": [
      "tensor([[1, 2, 3],\n",
      "        [4, 5, 6],\n",
      "        [1, 2, 3],\n",
      "        [4, 5, 6]]) torch.Size([4, 3])\n",
      "tensor([[1, 2, 3],\n",
      "        [4, 5, 6],\n",
      "        [1, 2, 3],\n",
      "        [4, 5, 6],\n",
      "        [1, 2, 3],\n",
      "        [4, 5, 6]]) torch.Size([6, 3])\n"
     ]
    }
   ],
   "source": [
    "res = a.repeat(2,1)\n",
    "print(res, res.size())\n",
    "\n",
    "res = a.repeat(3,1)\n",
    "print(res, res.size())"
   ]
  },
  {
   "cell_type": "code",
   "execution_count": 14,
   "metadata": {},
   "outputs": [
    {
     "name": "stdout",
     "output_type": "stream",
     "text": [
      "tensor([[1, 2, 3, 1, 2, 3],\n",
      "        [4, 5, 6, 4, 5, 6],\n",
      "        [1, 2, 3, 1, 2, 3],\n",
      "        [4, 5, 6, 4, 5, 6]]) torch.Size([4, 6])\n"
     ]
    }
   ],
   "source": [
    "res = a.repeat(2,2)\n",
    "print(res, res.size())"
   ]
  },
  {
   "cell_type": "markdown",
   "metadata": {},
   "source": [
    "# Torch 2+ tensor ops"
   ]
  },
  {
   "cell_type": "markdown",
   "metadata": {},
   "source": [
    "#### stack"
   ]
  },
  {
   "cell_type": "code",
   "execution_count": 15,
   "metadata": {},
   "outputs": [
    {
     "name": "stdout",
     "output_type": "stream",
     "text": [
      "tensor([[[ 1.,  2.,  3.],\n",
      "         [ 4.,  5.,  6.]],\n",
      "\n",
      "        [[11., 12., 13.],\n",
      "         [14., 15., 16.]]]) torch.Size([2, 2, 3])\n",
      "tensor([[[ 1.,  2.,  3.],\n",
      "         [11., 12., 13.]],\n",
      "\n",
      "        [[ 4.,  5.,  6.],\n",
      "         [14., 15., 16.]]]) torch.Size([2, 2, 3])\n",
      "tensor([[[ 1., 11.],\n",
      "         [ 2., 12.],\n",
      "         [ 3., 13.]],\n",
      "\n",
      "        [[ 4., 14.],\n",
      "         [ 5., 15.],\n",
      "         [ 6., 16.]]]) torch.Size([2, 3, 2])\n"
     ]
    }
   ],
   "source": [
    "a = torch.tensor([\n",
    "    [1,2,3],\n",
    "    [4,5,6]\n",
    "]) # (2,3)\n",
    "b = torch.Tensor([\n",
    "    [11,12,13],\n",
    "    [14,15,16]\n",
    "]) # (2,3)\n",
    "\n",
    "\n",
    "res = torch.stack([a,b], dim=0)\n",
    "print(res, res.size())\n",
    "\n",
    "res = torch.stack([a,b], dim=1)\n",
    "print(res, res.size())\n",
    "\n",
    "res = torch.stack([a,b], dim=2)\n",
    "print(res, res.size())"
   ]
  },
  {
   "cell_type": "markdown",
   "metadata": {},
   "source": [
    "#### concat"
   ]
  },
  {
   "cell_type": "code",
   "execution_count": 16,
   "metadata": {},
   "outputs": [
    {
     "name": "stdout",
     "output_type": "stream",
     "text": [
      "tensor([[ 1.,  2.,  3.],\n",
      "        [ 4.,  5.,  6.],\n",
      "        [11., 12., 13.],\n",
      "        [14., 15., 16.]]) torch.Size([4, 3])\n",
      "tensor([[ 1.,  2.,  3., 11., 12., 13.],\n",
      "        [ 4.,  5.,  6., 14., 15., 16.]]) torch.Size([2, 6])\n"
     ]
    }
   ],
   "source": [
    "a = torch.tensor([\n",
    "    [1,2,3],\n",
    "    [4,5,6]\n",
    "])\n",
    "b = torch.Tensor([\n",
    "    [11,12,13],\n",
    "    [14,15,16]\n",
    "])\n",
    "\n",
    "res = torch.cat([a,b], dim=0)\n",
    "print(res, res.size())\n",
    "\n",
    "res = torch.cat([a,b], dim=1)\n",
    "print(res, res.size())"
   ]
  },
  {
   "cell_type": "markdown",
   "metadata": {},
   "source": [
    "## Save/Load tensor to a file"
   ]
  },
  {
   "cell_type": "code",
   "execution_count": 17,
   "metadata": {},
   "outputs": [],
   "source": [
    "a = torch.rand(10, 3, 3)"
   ]
  },
  {
   "cell_type": "code",
   "execution_count": 18,
   "metadata": {},
   "outputs": [],
   "source": [
    "# Save\n",
    "torch.save(a, 'a_tensor.pt')"
   ]
  },
  {
   "cell_type": "code",
   "execution_count": 19,
   "metadata": {},
   "outputs": [
    {
     "name": "stdout",
     "output_type": "stream",
     "text": [
      "torch.Size([10, 3, 3])\n"
     ]
    }
   ],
   "source": [
    "# Load\n",
    "a_load = torch.load('a_tensor.pt')\n",
    "print(a_load.size())"
   ]
  },
  {
   "cell_type": "markdown",
   "metadata": {},
   "source": [
    "# Calculate mean, var of a big dataset\n",
    "#### Example 1: get mean, var along dim=2 (257)"
   ]
  },
  {
   "cell_type": "code",
   "execution_count": 20,
   "metadata": {},
   "outputs": [],
   "source": [
    "import torch\n",
    "from torch.utils.data import TensorDataset, DataLoader\n",
    "\n",
    "# Dataset\n",
    "N = 1000\n",
    "X = torch.randn(N, 1937, 257)\n",
    "y = torch.randn(N, 1)\n",
    "\n",
    "# Dataloader\n",
    "dataset = TensorDataset(X, y)\n",
    "loader = DataLoader(dataset, batch_size=8)\n",
    "\n",
    "# Calc mean, var\n",
    "mean = 0.0\n",
    "variance = 0.0\n",
    "N_ = 0\n",
    "for Xb, yb in loader:\n",
    "    N_ += Xb.size(0)\n",
    "    mean += Xb.mean(1).sum(0) \n",
    "    variance += Xb.var(1).sum(0)\n",
    "\n",
    "mean /= N_\n",
    "variance /= N_"
   ]
  },
  {
   "cell_type": "code",
   "execution_count": 21,
   "metadata": {},
   "outputs": [
    {
     "name": "stdout",
     "output_type": "stream",
     "text": [
      "torch.Size([257]) torch.Size([257])\n"
     ]
    }
   ],
   "source": [
    "print(mean.size(), variance.size())"
   ]
  },
  {
   "cell_type": "markdown",
   "metadata": {},
   "source": [
    "#### Example 2: get mean, var along C-dim of Image dataset (N, C, W, H)"
   ]
  },
  {
   "cell_type": "code",
   "execution_count": 22,
   "metadata": {},
   "outputs": [],
   "source": [
    "import torch\n",
    "from torch.utils.data import TensorDataset, DataLoader\n",
    "\n",
    "# Dataset\n",
    "N = 1000\n",
    "X = torch.randn(N, 3, 128, 128)\n",
    "y = torch.randn(N, 1)\n",
    "\n",
    "# Dataloader\n",
    "dataset = TensorDataset(X, y)\n",
    "loader = DataLoader(dataset, batch_size=8)\n",
    "\n",
    "# Calc mean, std\n",
    "mean = 0.0\n",
    "std = 0.0\n",
    "N_ = 0\n",
    "for Xb, yb in loader:\n",
    "    # Update total number of images\n",
    "    N_ += Xb.size(0)\n",
    "\n",
    "    # Rearrange batch to be the shape of [B, C, W * H]\n",
    "    Xb = Xb.view(Xb.size(0), Xb.size(1), -1)\n",
    "\n",
    "    # Compute mean and std here\n",
    "    mean += Xb.mean(2).sum(0) \n",
    "    std += Xb.std(2).sum(0)\n",
    "\n",
    "mean /= N_\n",
    "std /= N_"
   ]
  },
  {
   "cell_type": "code",
   "execution_count": 23,
   "metadata": {},
   "outputs": [
    {
     "name": "stdout",
     "output_type": "stream",
     "text": [
      "torch.Size([3]) torch.Size([3])\n"
     ]
    }
   ],
   "source": [
    "print(mean.size(), std.size())"
   ]
  }
 ],
 "metadata": {
  "kernelspec": {
   "display_name": "Python 3.7",
   "language": "python",
   "name": "py37"
  },
  "language_info": {
   "codemirror_mode": {
    "name": "ipython",
    "version": 3
   },
   "file_extension": ".py",
   "mimetype": "text/x-python",
   "name": "python",
   "nbconvert_exporter": "python",
   "pygments_lexer": "ipython3",
   "version": "3.7.9"
  }
 },
 "nbformat": 4,
 "nbformat_minor": 4
}
