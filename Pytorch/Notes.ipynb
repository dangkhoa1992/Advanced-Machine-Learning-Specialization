{
 "metadata": {
  "language_info": {
   "codemirror_mode": {
    "name": "ipython",
    "version": 3
   },
   "file_extension": ".py",
   "mimetype": "text/x-python",
   "name": "python",
   "nbconvert_exporter": "python",
   "pygments_lexer": "ipython3",
   "version": "3.7.7-final"
  },
  "orig_nbformat": 2,
  "kernelspec": {
   "name": "python_defaultSpec_1597500504228",
   "display_name": "Python 3.7.7 64-bit ('py37': conda)"
  }
 },
 "nbformat": 4,
 "nbformat_minor": 2,
 "cells": [
  {
   "cell_type": "code",
   "execution_count": 1,
   "metadata": {
    "tags": []
   },
   "outputs": [
    {
     "output_type": "stream",
     "name": "stdout",
     "text": "1.2.0\nTrue\n"
    }
   ],
   "source": [
    "import torch\n",
    "import torch.nn as nn\n",
    "from torch.utils.data import Dataset, DataLoader\n",
    "\n",
    "print(torch.__version__)\n",
    "print(torch.cuda.is_available())"
   ]
  },
  {
   "cell_type": "markdown",
   "metadata": {},
   "source": [
    "#### Sample Model"
   ]
  },
  {
   "cell_type": "code",
   "execution_count": 2,
   "metadata": {},
   "outputs": [],
   "source": [
    "class Model(nn.Module):\n",
    "    # Our model\n",
    "\n",
    "    def __init__(self, input_size, output_size):\n",
    "        super(Model, self).__init__()\n",
    "        self.fc = nn.Linear(input_size, output_size)\n",
    "\n",
    "    def forward(self, input):\n",
    "        output = self.fc(input)\n",
    "\n",
    "        gpu_id = torch.cuda.current_device()\n",
    "        gpu_name = torch.cuda.get_device_name()\n",
    "        print(f\"=== Using GPU{gpu_id} {gpu_name} ===\")\n",
    "        print(\"\\tIn Model: input size\", input.size(),\n",
    "              \"output size\", output.size())\n",
    "\n",
    "        return output"
   ]
  },
  {
   "cell_type": "code",
   "execution_count": 3,
   "metadata": {},
   "outputs": [],
   "source": [
    "input_size = 5\n",
    "output_size = 2\n",
    "model = Model(input_size, output_size)"
   ]
  },
  {
   "cell_type": "markdown",
   "metadata": {},
   "source": [
    "#### Sample Dataset"
   ]
  },
  {
   "cell_type": "code",
   "execution_count": 4,
   "metadata": {},
   "outputs": [],
   "source": [
    "class RandomDataset(Dataset):\n",
    "    def __init__(self, size, length):\n",
    "        self.len = length\n",
    "        self.data = torch.randn(length, size)\n",
    "\n",
    "    def __getitem__(self, index):\n",
    "        return self.data[index]\n",
    "\n",
    "    def __len__(self):\n",
    "        return self.len"
   ]
  },
  {
   "cell_type": "code",
   "execution_count": 5,
   "metadata": {},
   "outputs": [],
   "source": [
    "data_size = 100\n",
    "input_size = 5\n",
    "batch_size = 30\n",
    "\n",
    "random_dataset = RandomDataset(input_size, data_size)\n",
    "rand_loader = DataLoader(\n",
    "    dataset=random_dataset,\n",
    "    batch_size=batch_size, shuffle=True)"
   ]
  },
  {
   "cell_type": "code",
   "execution_count": 6,
   "metadata": {},
   "outputs": [
    {
     "output_type": "execute_result",
     "data": {
      "text/plain": "torch.Size([100, 5])"
     },
     "metadata": {},
     "execution_count": 6
    }
   ],
   "source": [
    "random_dataset.data.shape"
   ]
  },
  {
   "cell_type": "code",
   "execution_count": 7,
   "metadata": {
    "tags": []
   },
   "outputs": [
    {
     "output_type": "stream",
     "name": "stdout",
     "text": "4\ntorch.Size([30, 5])\ntorch.Size([30, 5])\ntorch.Size([30, 5])\ntorch.Size([10, 5])\n"
    }
   ],
   "source": [
    "print(len(rand_loader))\n",
    "for batch in rand_loader:\n",
    "    print(batch.shape)"
   ]
  },
  {
   "cell_type": "markdown",
   "metadata": {},
   "source": [
    "# Load to 1 GPU"
   ]
  },
  {
   "cell_type": "code",
   "execution_count": 8,
   "metadata": {
    "tags": []
   },
   "outputs": [
    {
     "output_type": "stream",
     "name": "stdout",
     "text": "Use cuda:0\nNumber of GPUs: 4\n"
    }
   ],
   "source": [
    "device = torch.device(\"cuda:0\" if torch.cuda.is_available() else \"cpu\")\n",
    "print(f\"Use {device}\")\n",
    "print(f\"Number of GPUs: {torch.cuda.device_count()}\")"
   ]
  },
  {
   "cell_type": "code",
   "execution_count": 9,
   "metadata": {
    "tags": []
   },
   "outputs": [
    {
     "output_type": "stream",
     "name": "stdout",
     "text": "=== Using GPU0 Tesla K40m ===\n\tIn Model: input size torch.Size([30, 5]) output size torch.Size([30, 2])\nOutside: input size torch.Size([30, 5]) output_size torch.Size([30, 2])\n=== Using GPU0 Tesla K40m ===\n\tIn Model: input size torch.Size([30, 5]) output size torch.Size([30, 2])\nOutside: input size torch.Size([30, 5]) output_size torch.Size([30, 2])\n=== Using GPU0 Tesla K40m ===\n\tIn Model: input size torch.Size([30, 5]) output size torch.Size([30, 2])\nOutside: input size torch.Size([30, 5]) output_size torch.Size([30, 2])\n=== Using GPU0 Tesla K40m ===\n\tIn Model: input size torch.Size([10, 5]) output size torch.Size([10, 2])\nOutside: input size torch.Size([10, 5]) output_size torch.Size([10, 2])\n"
    }
   ],
   "source": [
    "# Load model\n",
    "model.to(device)\n",
    "\n",
    "# Load data\n",
    "for batch in rand_loader:\n",
    "    # Load data\n",
    "    Xb = batch.to(device)\n",
    "\n",
    "    # Train\n",
    "    yb_ = model(Xb)\n",
    "    print(\"Outside: input size\", Xb.size(),\n",
    "            \"output_size\", yb_.size())"
   ]
  },
  {
   "cell_type": "markdown",
   "metadata": {},
   "source": [
    "#### Save model - 1 GPU"
   ]
  },
  {
   "cell_type": "code",
   "execution_count": 10,
   "metadata": {},
   "outputs": [
    {
     "output_type": "execute_result",
     "data": {
      "text/plain": "OrderedDict([('fc.weight',\n              tensor([[ 0.0215,  0.1493, -0.3619,  0.4006, -0.3169],\n                      [ 0.2177,  0.0907, -0.0291,  0.1594, -0.1887]], device='cuda:0')),\n             ('fc.bias', tensor([0.3982, 0.4082], device='cuda:0'))])"
     },
     "metadata": {},
     "execution_count": 10
    }
   ],
   "source": [
    "# Check params\n",
    "model.state_dict()"
   ]
  },
  {
   "cell_type": "code",
   "execution_count": 11,
   "metadata": {},
   "outputs": [],
   "source": [
    "# Save model\n",
    "torch.save(model.state_dict(), 'mymodel.pt')"
   ]
  },
  {
   "cell_type": "code",
   "execution_count": 12,
   "metadata": {},
   "outputs": [
    {
     "output_type": "execute_result",
     "data": {
      "text/plain": "<All keys matched successfully>"
     },
     "metadata": {},
     "execution_count": 12
    }
   ],
   "source": [
    "# Load model\n",
    "model_load = Model(input_size, output_size)\n",
    "model_load.load_state_dict(torch.load('mymodel.pt'))"
   ]
  },
  {
   "cell_type": "markdown",
   "metadata": {},
   "source": [
    "# Load to multi GPUs"
   ]
  },
  {
   "cell_type": "code",
   "execution_count": 13,
   "metadata": {
    "tags": []
   },
   "outputs": [
    {
     "output_type": "stream",
     "name": "stdout",
     "text": "Use cuda:1\nNumber of GPUs: 4\n"
    }
   ],
   "source": [
    "# cuda:<num> - GPU<num> must be used\n",
    "device = torch.device(\"cuda:1\" if torch.cuda.is_available() else \"cpu\")\n",
    "print(f\"Use {device}\")\n",
    "print(f\"Number of GPUs: {torch.cuda.device_count()}\")"
   ]
  },
  {
   "cell_type": "code",
   "execution_count": 14,
   "metadata": {
    "tags": []
   },
   "outputs": [
    {
     "output_type": "execute_result",
     "data": {
      "text/plain": "DataParallel(\n  (module): Model(\n    (fc): Linear(in_features=5, out_features=2, bias=True)\n  )\n)"
     },
     "metadata": {},
     "execution_count": 14
    }
   ],
   "source": [
    "# Load model\n",
    "if torch.cuda.device_count() > 1:\n",
    "    # Specify number of GPUs + GPU id by\n",
    "    #   model = nn.DataParallel(model, device_ids=[0,1,2,3]).cuda()\n",
    "    model = nn.DataParallel(model, device_ids=[1,2]).cuda()\n",
    "model.to(device)"
   ]
  },
  {
   "cell_type": "code",
   "execution_count": 15,
   "metadata": {
    "tags": []
   },
   "outputs": [
    {
     "output_type": "stream",
     "name": "stdout",
     "text": "=== Using GPU1 Tesla K40m ===\n\tIn Model: input size torch.Size([15, 5]) output size torch.Size([15, 2])\n=== Using GPU2 Tesla K20m ===\n\tIn Model: input size torch.Size([15, 5]) output size torch.Size([15, 2])\nOutside: input size torch.Size([30, 5]) output_size torch.Size([30, 2])\n=== Using GPU1 Tesla K40m ===\n\tIn Model: input size torch.Size([15, 5]) output size torch.Size([15, 2])\n=== Using GPU2 Tesla K20m ===\n\tIn Model: input size torch.Size([15, 5]) output size torch.Size([15, 2])\nOutside: input size torch.Size([30, 5]) output_size torch.Size([30, 2])\n=== Using GPU1 Tesla K40m ===\n\tIn Model: input size torch.Size([15, 5]) output size torch.Size([15, 2])\n=== Using GPU2 Tesla K20m ===\n\tIn Model: input size torch.Size([15, 5]) output size torch.Size([15, 2])\nOutside: input size torch.Size([30, 5]) output_size torch.Size([30, 2])\n=== Using GPU1 Tesla K40m ===\n\tIn Model: input size torch.Size([5, 5]) output size torch.Size([5, 2])\n=== Using GPU2 Tesla K20m ===\n\tIn Model: input size torch.Size([5, 5]) output size torch.Size([5, 2])\nOutside: input size torch.Size([10, 5]) output_size torch.Size([10, 2])\n"
    }
   ],
   "source": [
    "# Load 1 batch of data -> different GPU\n",
    "for batch in rand_loader:\n",
    "    # Load data\n",
    "    Xb = batch.to(device)\n",
    "\n",
    "    # Train\n",
    "    yb_ = model(Xb)\n",
    "    print(\"Outside: input size\", Xb.size(),\n",
    "            \"output_size\", yb_.size())"
   ]
  },
  {
   "cell_type": "markdown",
   "metadata": {},
   "source": [
    "#### Save model - multi GPU"
   ]
  },
  {
   "cell_type": "code",
   "execution_count": 16,
   "metadata": {},
   "outputs": [
    {
     "output_type": "execute_result",
     "data": {
      "text/plain": "OrderedDict([('module.fc.weight',\n              tensor([[ 0.0215,  0.1493, -0.3619,  0.4006, -0.3169],\n                      [ 0.2177,  0.0907, -0.0291,  0.1594, -0.1887]], device='cuda:1')),\n             ('module.fc.bias', tensor([0.3982, 0.4082], device='cuda:1'))])"
     },
     "metadata": {},
     "execution_count": 16
    }
   ],
   "source": [
    "# Check params\n",
    "model.state_dict()"
   ]
  },
  {
   "cell_type": "code",
   "execution_count": 17,
   "metadata": {},
   "outputs": [],
   "source": [
    "# Save model\n",
    "torch.save(model.state_dict(), 'mymodel.pt')"
   ]
  },
  {
   "cell_type": "code",
   "execution_count": 18,
   "metadata": {},
   "outputs": [
    {
     "output_type": "execute_result",
     "data": {
      "text/plain": "<All keys matched successfully>"
     },
     "metadata": {},
     "execution_count": 18
    }
   ],
   "source": [
    "# Load model\n",
    "model_load = Model(input_size, output_size)\n",
    "\n",
    "model_dic = torch.load('mymodel.pt')\n",
    "\n",
    "from collections import OrderedDict\n",
    "new_state_dict = OrderedDict() \n",
    "for k, v in model_dic.items(): \n",
    "    name = k.replace('module.', '')\n",
    "    new_state_dict[name] = v\n",
    "\n",
    "model_load.load_state_dict(new_state_dict)"
   ]
  }
 ]
}