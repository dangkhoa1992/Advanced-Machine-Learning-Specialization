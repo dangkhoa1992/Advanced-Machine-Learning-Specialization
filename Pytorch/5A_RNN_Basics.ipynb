{
 "metadata": {
  "language_info": {
   "codemirror_mode": {
    "name": "ipython",
    "version": 3
   },
   "file_extension": ".py",
   "mimetype": "text/x-python",
   "name": "python",
   "nbconvert_exporter": "python",
   "pygments_lexer": "ipython3",
   "version": 3
  },
  "orig_nbformat": 2,
  "kernelspec": {
   "name": "python_defaultSpec_1597124140701",
   "display_name": "Python 3.7.7 64-bit ('py37': conda)"
  }
 },
 "nbformat": 4,
 "nbformat_minor": 2,
 "cells": [
  {
   "cell_type": "code",
   "execution_count": 1,
   "metadata": {
    "tags": []
   },
   "outputs": [
    {
     "output_type": "stream",
     "name": "stdout",
     "text": "1.6.0\nTrue\n"
    }
   ],
   "source": [
    "import numpy as np\n",
    "import torch\n",
    "import matplotlib.pyplot as plt\n",
    "\n",
    "print(torch.__version__)\n",
    "print(torch.cuda.is_available())"
   ]
  },
  {
   "cell_type": "markdown",
   "metadata": {},
   "source": [
    "# Model - Manual\n",
    "- Cell: $y_t = tanh(W_x \\cdot X_t + W_y \\cdot y_{t-1} + b)$\n",
    "- System\n",
    "    - $y_0 = tanh(W_x \\cdot X_0 + b)$\n",
    "    - $y_1 = tanh(W_x \\cdot X_1 + W_y \\cdot y_0 + b)$\n",
    "\n",
    "<img src=\"./assets/1.png\" width=\"700\"/>\n"
   ]
  },
  {
   "cell_type": "code",
   "execution_count": 2,
   "metadata": {},
   "outputs": [],
   "source": [
    "import torch.nn as nn\n",
    "\n",
    "class SingleRNN(nn.Module):\n",
    "    def __init__(self, n_inputs, n_neurons):\n",
    "        super(SingleRNN, self).__init__()\n",
    "        \n",
    "        self.Wx = torch.randn(n_inputs, n_neurons)\n",
    "        self.Wy = torch.randn(n_neurons, n_neurons)\n",
    "        \n",
    "        self.b = torch.zeros(1, n_neurons)\n",
    "    \n",
    "    def forward(self, X0, X1):\n",
    "        self.y0 = torch.tanh(torch.mm(X0, self.Wx) + self.b)\n",
    "        \n",
    "        self.y1 = torch.tanh(torch.mm(self.y0, self.Wy) +\n",
    "            torch.mm(X1, self.Wx) + self.b)\n",
    "        \n",
    "        return self.y0, self.y1"
   ]
  },
  {
   "cell_type": "markdown",
   "metadata": {},
   "source": [
    "#### Fit test - 1 neuron"
   ]
  },
  {
   "cell_type": "code",
   "execution_count": 3,
   "metadata": {
    "tags": []
   },
   "outputs": [
    {
     "output_type": "stream",
     "name": "stdout",
     "text": "X0 shape: torch.Size([5, 4])\nX1 shape: torch.Size([5, 4])\ny0 shape: torch.Size([5, 1])\ny1 shape: torch.Size([5, 1])\n"
    }
   ],
   "source": [
    "# data\n",
    "X0 = torch.tensor([\n",
    "    [0,1,2,0],\n",
    "    [3,4,5,0], \n",
    "    [6,7,8,0],\n",
    "    [9,0,1,0],\n",
    "    [0,5,0,0]],\n",
    "        dtype = torch.float)\n",
    "\n",
    "X1 = torch.tensor([\n",
    "    [9,8,7,0],\n",
    "    [0,0,0,0], \n",
    "    [6,5,4,0],\n",
    "    [3,2,1,0],\n",
    "    [0,0,1,0]],\n",
    "        dtype = torch.float)\n",
    "\n",
    "print(\"X0 shape:\", X0.shape)\n",
    "print(\"X1 shape:\", X1.shape)\n",
    "\n",
    "# model\n",
    "N_INPUT = 4\n",
    "N_NEURONS = 1\n",
    "model = SingleRNN(N_INPUT, N_NEURONS)\n",
    "\n",
    "# fit\n",
    "y0, y1 = model(X0, X1)\n",
    "print(\"y0 shape:\", y0.shape)\n",
    "print(\"y1 shape:\", y1.shape)"
   ]
  },
  {
   "cell_type": "markdown",
   "metadata": {},
   "source": [
    "#### Fir test - 5 neurons"
   ]
  },
  {
   "cell_type": "code",
   "execution_count": 4,
   "metadata": {
    "tags": []
   },
   "outputs": [
    {
     "output_type": "stream",
     "name": "stdout",
     "text": "X0 shape: torch.Size([3, 4])\nX1 shape: torch.Size([3, 4])\ny0 shape: torch.Size([3, 5])\ny1 shape: torch.Size([3, 5])\n"
    }
   ],
   "source": [
    "# data\n",
    "X0 = torch.tensor([\n",
    "    [0,1,2,0],\n",
    "    [3,4,5,0], \n",
    "    [6,7,8,0]],\n",
    "        dtype = torch.float)\n",
    "\n",
    "X1 = torch.tensor([\n",
    "    [9,8,7,0],\n",
    "    [0,0,0,0], \n",
    "    [6,5,4,0]],\n",
    "        dtype = torch.float)\n",
    "\n",
    "print(\"X0 shape:\", X0.shape)\n",
    "print(\"X1 shape:\", X1.shape)\n",
    "\n",
    "# model\n",
    "N_INPUT = 4\n",
    "N_NEURONS = 5\n",
    "model = SingleRNN(N_INPUT, N_NEURONS)\n",
    "\n",
    "# fit\n",
    "y0, y1 = model(X0, X1)\n",
    "print(\"y0 shape:\", y0.shape)\n",
    "print(\"y1 shape:\", y1.shape)"
   ]
  },
  {
   "cell_type": "markdown",
   "metadata": {},
   "source": [
    "# 2. Model - Torch builtin\n",
    "- For dimensions reference"
   ]
  },
  {
   "cell_type": "code",
   "execution_count": 5,
   "metadata": {},
   "outputs": [],
   "source": [
    "import torch.nn as nn\n",
    "\n",
    "class SimpleRNN(nn.Module):\n",
    "    def __init__(self, n_inputs, n_hidden, n_outputs):\n",
    "        super(SimpleRNN, self).__init__()\n",
    "        self.D = n_inputs\n",
    "        self.M = n_hidden\n",
    "        self.K = n_outputs\n",
    "        self.rnn = nn.RNN(\n",
    "            input_size=self.D,\n",
    "            hidden_size=self.M,\n",
    "            nonlinearity='tanh',\n",
    "            batch_first=True)\n",
    "        self.fc = nn.Linear(self.M, self.K)\n",
    "    \n",
    "    def forward(self, X):\n",
    "        # initial hidden states\n",
    "        h0 = torch.zeros(1, X.size(0), self.M)\n",
    "\n",
    "        # get RNN unit output\n",
    "        out, _ = self.rnn(X, h0)\n",
    "\n",
    "        # we only want h(T) at the final time step\n",
    "        # out = self.fc(out[:, -1, :])\n",
    "        out = self.fc(out)\n",
    "        return out"
   ]
  },
  {
   "cell_type": "markdown",
   "metadata": {},
   "source": [
    "#### Data"
   ]
  },
  {
   "cell_type": "code",
   "execution_count": 6,
   "metadata": {},
   "outputs": [],
   "source": [
    "# N = number of samples\n",
    "N = 2\n",
    "\n",
    "# T = sequence length\n",
    "T = 10\n",
    "\n",
    "# D = number of input features\n",
    "D = 3"
   ]
  },
  {
   "cell_type": "code",
   "execution_count": 7,
   "metadata": {
    "tags": []
   },
   "outputs": [
    {
     "output_type": "stream",
     "name": "stdout",
     "text": "(2, 10, 3)\n[[[ 0.1706955  -2.29695842  0.91230445]\n  [-1.53087112 -0.69074048 -1.19712783]\n  [-0.42159724  0.40641852  1.43404623]\n  [-1.13516098  0.01772875  1.3762234 ]\n  [-0.70033141  0.75491229  0.75204473]\n  [-0.35577287 -1.34450075  0.18472382]\n  [ 0.87548254  0.01136089 -1.40143141]\n  [-1.55862468  1.07944178 -0.07798444]\n  [ 1.0169981  -0.52989027  1.27848187]\n  [ 0.07100154 -0.24537627 -1.74783699]]\n\n [[ 0.7511511  -0.17916863  0.8681013 ]\n  [ 1.41927339  0.82437428 -0.02838433]\n  [ 1.66097746  0.58767541 -1.03019043]\n  [-0.01291539 -0.4613855   0.38642644]\n  [ 0.19184805  2.08075249  0.69282578]\n  [-0.51960143  0.43121976 -0.40251135]\n  [ 0.71876054  0.10342423 -0.18991949]\n  [-0.55276993  0.49028931 -1.44007765]\n  [ 1.99447905  0.15674687  0.6834156 ]\n  [-0.23270923  0.50361823  0.26644075]]]\n"
    }
   ],
   "source": [
    "X = np.random.randn(N, T, D)\n",
    "\n",
    "print(X.shape)\n",
    "print(X)"
   ]
  },
  {
   "cell_type": "markdown",
   "metadata": {},
   "source": [
    "#### Model"
   ]
  },
  {
   "cell_type": "code",
   "execution_count": 8,
   "metadata": {},
   "outputs": [],
   "source": [
    "# M = number of hidden units\n",
    "M = 5\n",
    "\n",
    "# K = number of output units\n",
    "K = 2\n",
    "\n",
    "model = SimpleRNN(n_inputs=D, n_hidden=M, n_outputs=K)"
   ]
  },
  {
   "cell_type": "code",
   "execution_count": 9,
   "metadata": {
    "tags": []
   },
   "outputs": [
    {
     "output_type": "stream",
     "name": "stdout",
     "text": "torch.Size([5, 3])\ntorch.Size([5])\ntorch.Size([5, 5])\ntorch.Size([5])\n"
    }
   ],
   "source": [
    "W_xh, W_hh, b_xh, b_hh = model.rnn.parameters()\n",
    "\n",
    "print(W_xh.shape)\n",
    "print(b_xh.shape)\n",
    "\n",
    "print(W_hh.shape)\n",
    "print(b_hh.shape)"
   ]
  },
  {
   "cell_type": "markdown",
   "metadata": {},
   "source": [
    "#### Output"
   ]
  },
  {
   "cell_type": "code",
   "execution_count": 10,
   "metadata": {
    "tags": []
   },
   "outputs": [
    {
     "output_type": "stream",
     "name": "stdout",
     "text": "torch.Size([2, 10, 2])\ntensor([[[ 0.5546,  0.2103],\n         [ 0.4318,  0.1130],\n         [ 0.3528,  0.0670],\n         [ 0.3158, -0.0439],\n         [ 0.3097,  0.1653],\n         [ 0.4937,  0.2324],\n         [ 0.4285,  0.6639],\n         [ 0.3978,  0.1663],\n         [ 0.4321,  0.3142],\n         [ 0.5052,  0.6059]],\n\n        [[ 0.4192,  0.4413],\n         [ 0.3994,  0.7271],\n         [ 0.5058,  0.9120],\n         [ 0.5298,  0.3377],\n         [ 0.2733,  0.3987],\n         [ 0.4490,  0.4243],\n         [ 0.4561,  0.5455],\n         [ 0.4956,  0.5304],\n         [ 0.4282,  0.6489],\n         [ 0.4857,  0.3866]]], grad_fn=<AddBackward0>)\n"
    }
   ],
   "source": [
    "X_torch = torch.from_numpy(X.astype(np.float32))\n",
    "y_ = model(X_torch)\n",
    "\n",
    "print(y_.shape)\n",
    "print(y_)"
   ]
  }
 ]
}