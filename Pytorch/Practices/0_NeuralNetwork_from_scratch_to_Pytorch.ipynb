{
 "cells": [
  {
   "cell_type": "markdown",
   "metadata": {},
   "source": [
    "# 1. NeuralNetwork from scratch - numpy"
   ]
  },
  {
   "cell_type": "code",
   "execution_count": 1,
   "metadata": {},
   "outputs": [],
   "source": [
    "import numpy as np"
   ]
  },
  {
   "cell_type": "code",
   "execution_count": 2,
   "metadata": {},
   "outputs": [],
   "source": [
    "# N: batch size\n",
    "# D_in: input dimension\n",
    "# H: hidden dimension\n",
    "# D_out: output dimension.\n",
    "N, D_in, H, D_out = 64, 1000, 100, 10"
   ]
  },
  {
   "cell_type": "code",
   "execution_count": 3,
   "metadata": {},
   "outputs": [
    {
     "name": "stdout",
     "output_type": "stream",
     "text": [
      "(64, 1000)\n",
      "(64, 10)\n"
     ]
    }
   ],
   "source": [
    "# Create dummy input and output data\n",
    "X = np.random.randn(N, D_in)\n",
    "y = np.random.randn(N, D_out)\n",
    "\n",
    "print(X.shape)\n",
    "print(y.shape)"
   ]
  },
  {
   "cell_type": "markdown",
   "metadata": {},
   "source": [
    "#### Model\n",
    "- Forward\n",
    "\n",
    "$$\\begin{split}\n",
    "& h = X \\cdot w_1 \\\\\n",
    "& \\text{h_relu} = relu(h) \\\\\n",
    "& y\\_ = relu(\\text{h_relu} \\cdot w_2)\n",
    "\\end{split}$$\n",
    "\n",
    "- Loss function:\n",
    "\n",
    "$$loss = \\sum\\limits_{i=1}^n(y_i - \\hat{y}_i)^2 = (y - y\\_)^2.sum()$$\n",
    "\n",
    "- Backward\n",
    "\n",
    "$$\\begin{split}\n",
    "& \\text{grad_y_} = \\frac{\\delta\\ loss}{\\delta y\\_} = -2(y - y\\_) = 2(y\\_ - y) \\\\\n",
    "& \\text{grad_w}_2 = \\frac{\\delta\\ loss}{\\delta w_2} = \\frac{\\delta\\ y\\_}{\\delta w_2}\\ \\frac{\\delta\\ loss}{\\delta y\\_} = \\text{h_relu}^T \\cdot \\text{grad_y_} \\\\\n",
    "& \\text{grad_h_relu} = \\frac{\\delta\\ loss}{\\delta \\text{h_relu}} = \\frac{\\delta\\ loss}{\\delta y\\_}\\ \\frac{\\delta\\ y\\_}{\\delta \\text{h_relu}} = \\text{grad_y_} \\cdot w_2^T \\\\\n",
    "& \\cdots \\\\\n",
    "& \\text{grad_w}_1 = X^T \\cdot \\text{grad_h}\n",
    "\\end{split}$$"
   ]
  },
  {
   "cell_type": "code",
   "execution_count": 4,
   "metadata": {},
   "outputs": [],
   "source": [
    "def relu(x): return np.maximum(0, x)"
   ]
  },
  {
   "cell_type": "code",
   "execution_count": 5,
   "metadata": {
    "scrolled": false
   },
   "outputs": [
    {
     "name": "stdout",
     "output_type": "stream",
     "text": [
      "100 609.6494190370581\n",
      "200 3.423726164027128\n",
      "300 0.03603351480458575\n",
      "400 0.0004912619095656394\n",
      "500 7.551542582423114e-06\n",
      "CPU times: user 2.25 s, sys: 25.7 ms, total: 2.27 s\n",
      "Wall time: 287 ms\n"
     ]
    }
   ],
   "source": [
    "%%time\n",
    "# Randomly initialize params\n",
    "w1 = np.random.randn(D_in, H)\n",
    "w2 = np.random.randn(H, D_out)\n",
    "learning_rate = 1e-6\n",
    "\n",
    "for epoch in range(1, 501):\n",
    "    # Forward pass: compute y_\n",
    "    h = np.dot(X, w1)\n",
    "    h_relu = relu(h)\n",
    "    y_ = np.dot(h_relu, w2)\n",
    "\n",
    "    # Compute and print loss\n",
    "    loss = np.square(y_ - y).sum()\n",
    "    if epoch % 100 == 0: print(epoch, loss)\n",
    "\n",
    "    # Backprop to compute gradients of w1 and w2 with respect to loss\n",
    "    grad_y_ = 2.0 * (y_ - y)\n",
    "    grad_w2 = np.dot(h_relu.T, grad_y_)\n",
    "\n",
    "    grad_h_relu = np.dot(grad_y_, w2.T)\n",
    "    grad_h = grad_h_relu.copy()\n",
    "    grad_h[h < 0] = 0\n",
    "    grad_w1 = np.dot(X.T, grad_h)\n",
    "\n",
    "    # Update weights\n",
    "    w1 -= learning_rate * grad_w1\n",
    "    w2 -= learning_rate * grad_w2"
   ]
  },
  {
   "cell_type": "markdown",
   "metadata": {},
   "source": [
    "# 2. NeuralNetwork from scratch - torch tensor"
   ]
  },
  {
   "cell_type": "code",
   "execution_count": 6,
   "metadata": {},
   "outputs": [],
   "source": [
    "import torch\n",
    "\n",
    "device = torch.device('cpu')\n",
    "dtype=torch.float"
   ]
  },
  {
   "cell_type": "code",
   "execution_count": 7,
   "metadata": {},
   "outputs": [],
   "source": [
    "# N: batch size\n",
    "# D_in: input dimension\n",
    "# H: hidden dimension\n",
    "# D_out: output dimension.\n",
    "N, D_in, H, D_out = 64, 1000, 100, 10"
   ]
  },
  {
   "cell_type": "code",
   "execution_count": 8,
   "metadata": {},
   "outputs": [
    {
     "name": "stdout",
     "output_type": "stream",
     "text": [
      "torch.Size([64, 1000])\n",
      "torch.Size([64, 10])\n"
     ]
    }
   ],
   "source": [
    "# Create dummy input and output data\n",
    "X = torch.randn(N, D_in, device=device, dtype=dtype)\n",
    "y = torch.randn(N, D_out, device=device, dtype=dtype)\n",
    "\n",
    "print(X.size())\n",
    "print(y.size())"
   ]
  },
  {
   "cell_type": "code",
   "execution_count": 9,
   "metadata": {},
   "outputs": [
    {
     "name": "stdout",
     "output_type": "stream",
     "text": [
      "100 971.07470703125\n",
      "200 9.878978729248047\n",
      "300 0.16335122287273407\n",
      "400 0.0035316296853125095\n",
      "500 0.00021612788259517401\n",
      "CPU times: user 1.92 s, sys: 13.9 ms, total: 1.94 s\n",
      "Wall time: 243 ms\n"
     ]
    }
   ],
   "source": [
    "%%time\n",
    "# Randomly initialize weights\n",
    "w1 = torch.randn(D_in, H, device=device, dtype=dtype)\n",
    "w2 = torch.randn(H, D_out, device=device, dtype=dtype)\n",
    "\n",
    "learning_rate = 1e-6\n",
    "\n",
    "for epoch in range(1, 501):\n",
    "    # Forward\n",
    "    h = X.mm(w1)\n",
    "    h_relu = h.clamp(min=0)\n",
    "    y_ = h_relu.mm(w2)\n",
    "    \n",
    "    # Compute and print loss\n",
    "    loss = (y_ - y).pow(2).sum().item()\n",
    "    if epoch % 100 == 0: print(epoch, loss)\n",
    "    \n",
    "    # Backprop to compute gradients of w1 and w2 with respect to loss\n",
    "    grad_y_ = 2.0 * (y_ - y)\n",
    "    grad_w2 = h_relu.t().mm(grad_y_)\n",
    "\n",
    "    grad_h_relu = grad_y_.mm(w2.t())\n",
    "    grad_h = grad_h_relu.clone()\n",
    "    grad_h[h < 0] = 0\n",
    "    grad_w1 = X.t().mm(grad_h)\n",
    "    \n",
    "    # Update weights\n",
    "    w1 -= learning_rate * grad_w1\n",
    "    w2 -= learning_rate * grad_w2"
   ]
  },
  {
   "cell_type": "markdown",
   "metadata": {},
   "source": [
    "# 3. NeuralNetwork from scratch - torch Autograd"
   ]
  },
  {
   "cell_type": "code",
   "execution_count": 10,
   "metadata": {},
   "outputs": [],
   "source": [
    "import torch\n",
    "\n",
    "device = torch.device('cuda')\n",
    "dtype=torch.float"
   ]
  },
  {
   "cell_type": "code",
   "execution_count": 11,
   "metadata": {},
   "outputs": [],
   "source": [
    "# N: batch size\n",
    "# D_in: input dimension\n",
    "# H: hidden dimension\n",
    "# D_out: output dimension.\n",
    "N, D_in, H, D_out = 64, 1000, 100, 10"
   ]
  },
  {
   "cell_type": "code",
   "execution_count": 12,
   "metadata": {},
   "outputs": [
    {
     "name": "stdout",
     "output_type": "stream",
     "text": [
      "torch.Size([64, 1000])\n",
      "torch.Size([64, 10])\n"
     ]
    }
   ],
   "source": [
    "# Create dummy input and output data\n",
    "X = torch.randn(N, D_in, device=device, dtype=dtype)\n",
    "y = torch.randn(N, D_out, device=device, dtype=dtype)\n",
    "\n",
    "print(X.size())\n",
    "print(y.size())"
   ]
  },
  {
   "cell_type": "code",
   "execution_count": 13,
   "metadata": {},
   "outputs": [
    {
     "name": "stdout",
     "output_type": "stream",
     "text": [
      "100 742.392578125\n",
      "200 5.4352569580078125\n",
      "300 0.060981035232543945\n",
      "400 0.001105283503420651\n",
      "500 0.00011072327470174059\n",
      "CPU times: user 235 ms, sys: 36.1 ms, total: 271 ms\n",
      "Wall time: 271 ms\n"
     ]
    }
   ],
   "source": [
    "%%time\n",
    "# Randomly initialize weights\n",
    "# requires_grad=True indicates that we want to compute gradients\n",
    "w1 = torch.randn(D_in, H, device=device, dtype=dtype, requires_grad=True)\n",
    "w2 = torch.randn(H, D_out, device=device, dtype=dtype, requires_grad=True)\n",
    "\n",
    "learning_rate = 1e-6\n",
    "\n",
    "for epoch in range(1, 501):\n",
    "    # Forward\n",
    "    h = X.mm(w1)\n",
    "    h_relu = h.clamp(min=0)\n",
    "    y_ = h_relu.mm(w2)\n",
    "    \n",
    "    # Compute and print loss\n",
    "    loss = (y_ - y).pow(2).sum()\n",
    "    if epoch % 100 == 0: print(epoch, loss.item())\n",
    "    \n",
    "    # Backprop to compute gradients of w1 and w2 with respect to loss\n",
    "    loss.backward()\n",
    "\n",
    "    # Update weights\n",
    "    with torch.no_grad():\n",
    "        w1 -= learning_rate * w1.grad\n",
    "        w2 -= learning_rate * w2.grad\n",
    "        \n",
    "        # Manually zero the gradients after updating weights\n",
    "        w1.grad.zero_()\n",
    "        w2.grad.zero_()"
   ]
  },
  {
   "cell_type": "markdown",
   "metadata": {},
   "source": [
    "# 4. NeuralNetwork with Pytorch nn"
   ]
  },
  {
   "cell_type": "code",
   "execution_count": 14,
   "metadata": {},
   "outputs": [],
   "source": [
    "import torch\n",
    "\n",
    "device = torch.device('cpu')\n",
    "dtype=torch.float"
   ]
  },
  {
   "cell_type": "code",
   "execution_count": 15,
   "metadata": {},
   "outputs": [],
   "source": [
    "# N: batch size\n",
    "# D_in: input dimension\n",
    "# H: hidden dimension\n",
    "# D_out: output dimension.\n",
    "N, D_in, H, D_out = 64, 1000, 100, 10"
   ]
  },
  {
   "cell_type": "code",
   "execution_count": 16,
   "metadata": {},
   "outputs": [
    {
     "name": "stdout",
     "output_type": "stream",
     "text": [
      "torch.Size([64, 1000])\n",
      "torch.Size([64, 10])\n"
     ]
    }
   ],
   "source": [
    "# Create dummy input and output data\n",
    "X = torch.randn(N, D_in, device=device, dtype=dtype)\n",
    "y = torch.randn(N, D_out, device=device, dtype=dtype)\n",
    "\n",
    "print(X.size())\n",
    "print(y.size())"
   ]
  },
  {
   "cell_type": "code",
   "execution_count": 17,
   "metadata": {},
   "outputs": [
    {
     "name": "stdout",
     "output_type": "stream",
     "text": [
      "100 643.0660400390625\n",
      "200 597.5169677734375\n",
      "300 557.6885986328125\n",
      "400 522.0635986328125\n",
      "500 490.06805419921875\n",
      "CPU times: user 2.42 s, sys: 14 ms, total: 2.43 s\n",
      "Wall time: 305 ms\n"
     ]
    }
   ],
   "source": [
    "%%time\n",
    "model = torch.nn.Sequential(\n",
    "    torch.nn.Linear(D_in, H),\n",
    "    torch.nn.ReLU(),\n",
    "    torch.nn.Linear(H, D_out),\n",
    ")\n",
    "loss_fn = torch.nn.MSELoss(reduction='sum')\n",
    "learning_rate = 1e-6\n",
    "\n",
    "for epoch in range(1, 501):\n",
    "    # Forward\n",
    "    y_ = model(X)\n",
    "    \n",
    "    # Compute and print loss\n",
    "    loss = loss_fn(y_, y)\n",
    "    if epoch % 100 == 0: print(epoch, loss.item())\n",
    "    \n",
    "    # Backprop to compute gradients of w1 and w2 with respect to loss\n",
    "    model.zero_grad()\n",
    "    loss.backward()\n",
    "\n",
    "    # Update weights\n",
    "    with torch.no_grad():\n",
    "        for param in model.parameters():\n",
    "            param -= learning_rate * param.grad"
   ]
  },
  {
   "cell_type": "markdown",
   "metadata": {},
   "source": [
    "#### With PyTorch: optim"
   ]
  },
  {
   "cell_type": "code",
   "execution_count": 18,
   "metadata": {},
   "outputs": [
    {
     "name": "stdout",
     "output_type": "stream",
     "text": [
      "100 664.26708984375\n",
      "200 647.3447265625\n",
      "300 630.9163818359375\n",
      "400 615.0795288085938\n",
      "500 599.7923583984375\n",
      "CPU times: user 2.82 s, sys: 30.1 ms, total: 2.85 s\n",
      "Wall time: 356 ms\n"
     ]
    }
   ],
   "source": [
    "%%time\n",
    "model = torch.nn.Sequential(\n",
    "    torch.nn.Linear(D_in, H),\n",
    "    torch.nn.ReLU(),\n",
    "    torch.nn.Linear(H, D_out),\n",
    ")\n",
    "loss_fn = torch.nn.MSELoss(reduction='sum')\n",
    "learning_rate = 1e-6\n",
    "optimizer = torch.optim.Adam(model.parameters(), lr=learning_rate)\n",
    "\n",
    "for epoch in range(1, 501):\n",
    "    # Forward\n",
    "    y_ = model(X)\n",
    "    \n",
    "    # Compute and print loss\n",
    "    loss = loss_fn(y_, y)\n",
    "    if epoch % 100 == 0: print(epoch, loss.item())\n",
    "    \n",
    "    # Backprop to compute gradients of w1 and w2 with respect to loss\n",
    "    optimizer.zero_grad()\n",
    "    loss.backward()\n",
    "\n",
    "    # Update weights\n",
    "    optimizer.step()"
   ]
  },
  {
   "cell_type": "markdown",
   "metadata": {},
   "source": [
    "# 5. NeuralNetwork with Custom nn"
   ]
  },
  {
   "cell_type": "code",
   "execution_count": 19,
   "metadata": {},
   "outputs": [],
   "source": [
    "import torch\n",
    "\n",
    "device = torch.device('cpu')\n",
    "dtype=torch.float"
   ]
  },
  {
   "cell_type": "code",
   "execution_count": 20,
   "metadata": {},
   "outputs": [],
   "source": [
    "# N: batch size\n",
    "# D_in: input dimension\n",
    "# H: hidden dimension\n",
    "# D_out: output dimension.\n",
    "N, D_in, H, D_out = 64, 1000, 100, 10"
   ]
  },
  {
   "cell_type": "code",
   "execution_count": 21,
   "metadata": {},
   "outputs": [
    {
     "name": "stdout",
     "output_type": "stream",
     "text": [
      "torch.Size([64, 1000])\n",
      "torch.Size([64, 10])\n"
     ]
    }
   ],
   "source": [
    "# Create dummy input and output data\n",
    "X = torch.randn(N, D_in, device=device, dtype=dtype)\n",
    "y = torch.randn(N, D_out, device=device, dtype=dtype)\n",
    "\n",
    "print(X.size())\n",
    "print(y.size())"
   ]
  },
  {
   "cell_type": "code",
   "execution_count": 22,
   "metadata": {},
   "outputs": [],
   "source": [
    "class TwoLayerNet(torch.nn.Module):\n",
    "    def __init__(self, D_in, H, D_out):\n",
    "        super(TwoLayerNet, self).__init__()\n",
    "        self.linear1 = torch.nn.Linear(D_in, H)\n",
    "        self.linear2 = torch.nn.Linear(H, D_out)\n",
    "\n",
    "    def forward(self, X):\n",
    "        h_relu = self.linear1(X).clamp(min=0)\n",
    "        y_ = self.linear2(h_relu)\n",
    "        return y_"
   ]
  },
  {
   "cell_type": "code",
   "execution_count": 23,
   "metadata": {},
   "outputs": [
    {
     "name": "stdout",
     "output_type": "stream",
     "text": [
      "100 586.2449340820312\n",
      "200 570.69189453125\n",
      "300 555.6212768554688\n",
      "400 541.0654907226562\n",
      "500 527.0009765625\n",
      "CPU times: user 2.6 s, sys: 31.5 ms, total: 2.64 s\n",
      "Wall time: 330 ms\n"
     ]
    }
   ],
   "source": [
    "%%time\n",
    "model = TwoLayerNet(D_in, H, D_out)\n",
    "loss_fn = torch.nn.MSELoss(reduction='sum')\n",
    "learning_rate = 1e-6\n",
    "optimizer = torch.optim.Adam(model.parameters(), lr=learning_rate)\n",
    "\n",
    "for epoch in range(1, 501):\n",
    "    # Forward\n",
    "    y_ = model(X)\n",
    "    \n",
    "    # Compute and print loss\n",
    "    loss = loss_fn(y_, y)\n",
    "    if epoch % 100 == 0: print(epoch, loss.item())\n",
    "    \n",
    "    # Backprop to compute gradients of w1 and w2 with respect to loss\n",
    "    optimizer.zero_grad()\n",
    "    loss.backward()\n",
    "\n",
    "    # Update weights\n",
    "    optimizer.step()"
   ]
  }
 ],
 "metadata": {
  "kernelspec": {
   "display_name": "Python 3.7",
   "language": "python",
   "name": "py37"
  },
  "language_info": {
   "codemirror_mode": {
    "name": "ipython",
    "version": 3
   },
   "file_extension": ".py",
   "mimetype": "text/x-python",
   "name": "python",
   "nbconvert_exporter": "python",
   "pygments_lexer": "ipython3",
   "version": "3.7.9"
  }
 },
 "nbformat": 4,
 "nbformat_minor": 4
}
