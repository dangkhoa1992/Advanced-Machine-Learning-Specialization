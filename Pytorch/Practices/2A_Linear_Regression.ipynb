{
 "cells": [
  {
   "cell_type": "code",
   "execution_count": 1,
   "metadata": {
    "tags": []
   },
   "outputs": [
    {
     "name": "stdout",
     "output_type": "stream",
     "text": [
      "1.6.0\n",
      "True\n"
     ]
    }
   ],
   "source": [
    "import torch\n",
    "import numpy as np\n",
    "import matplotlib.pyplot as plt\n",
    "print(torch.__version__)\n",
    "print(torch.cuda.is_available())"
   ]
  },
  {
   "cell_type": "markdown",
   "metadata": {},
   "source": [
    "# 1. Dataset"
   ]
  },
  {
   "cell_type": "code",
   "execution_count": 2,
   "metadata": {
    "tags": []
   },
   "outputs": [
    {
     "name": "stdout",
     "output_type": "stream",
     "text": [
      "(20,)\n",
      "(20,)\n"
     ]
    },
    {
     "data": {
      "image/png": "[encoded data removed]",
      "text/plain": [
       "<Figure size 432x288 with 1 Axes>"
      ]
     },
     "metadata": {
      "needs_background": "light"
     },
     "output_type": "display_data"
    }
   ],
   "source": [
    "N = 20\n",
    "\n",
    "# X = 20x random in [-5, +5]\n",
    "X = np.random.random(N)*10 - 5\n",
    "print(X.shape)\n",
    "\n",
    "# y = A line plus some noise\n",
    "y = 0.5 * X - 1 + np.random.randn(N)\n",
    "plt.scatter(X, y);\n",
    "print(y.shape)"
   ]
  },
  {
   "cell_type": "code",
   "execution_count": 3,
   "metadata": {
    "tags": []
   },
   "outputs": [
    {
     "name": "stdout",
     "output_type": "stream",
     "text": [
      "torch.Size([20, 1])\n",
      "torch.Size([20, 1])\n"
     ]
    }
   ],
   "source": [
    "X = X.reshape(N, 1)\n",
    "y = y.reshape(N, 1)\n",
    "\n",
    "# Convert to pytorch tensors\n",
    "X_train = torch.from_numpy(X.astype(np.float32))\n",
    "y_train = torch.from_numpy(y.astype(np.float32))\n",
    "\n",
    "print(X_train.shape)\n",
    "print(y_train.shape)"
   ]
  },
  {
   "cell_type": "markdown",
   "metadata": {},
   "source": [
    "# 2. Model"
   ]
  },
  {
   "cell_type": "code",
   "execution_count": 4,
   "metadata": {},
   "outputs": [],
   "source": [
    "import torch.nn as nn\n",
    "\n",
    "# model\n",
    "lr_model = nn.Linear(1, 1)\n",
    "\n",
    "# loss function: MSE\n",
    "mse_loss = nn.MSELoss()\n",
    "\n",
    "# Optimizer: SGD\n",
    "sgd_opt = torch.optim.SGD(lr_model.parameters(), lr=0.05)"
   ]
  },
  {
   "cell_type": "markdown",
   "metadata": {},
   "source": [
    "# 3. Train"
   ]
  },
  {
   "cell_type": "code",
   "execution_count": 5,
   "metadata": {},
   "outputs": [],
   "source": [
    "def fit(X, y, model, loss_fn, optimizer, n_epochs):\n",
    "    losses = []\n",
    "    for i in range(n_epochs):\n",
    "        # zero the parameter gradients\n",
    "        optimizer.zero_grad()\n",
    "\n",
    "        # Forward\n",
    "        y_ = model(X)\n",
    "        loss = loss_fn(y_, y)\n",
    "\n",
    "        # Save loss\n",
    "        losses.append(loss.item())\n",
    "\n",
    "        # Backward\n",
    "        loss.backward()\n",
    "        optimizer.step()\n",
    "            \n",
    "        if (i+1)%10==0: print(f\"Epoch {i+1}/{n_epochs}, Loss: {loss.item():.4f}\")\n",
    "\n",
    "    # Plot losses\n",
    "    plt.plot(losses);"
   ]
  },
  {
   "cell_type": "code",
   "execution_count": 6,
   "metadata": {
    "tags": []
   },
   "outputs": [
    {
     "name": "stdout",
     "output_type": "stream",
     "text": [
      "Epoch 10/100, Loss: 1.9804\n",
      "Epoch 20/100, Loss: 1.4644\n",
      "Epoch 30/100, Loss: 1.4000\n",
      "Epoch 40/100, Loss: 1.3919\n",
      "Epoch 50/100, Loss: 1.3909\n",
      "Epoch 60/100, Loss: 1.3908\n",
      "Epoch 70/100, Loss: 1.3908\n",
      "Epoch 80/100, Loss: 1.3908\n",
      "Epoch 90/100, Loss: 1.3908\n",
      "Epoch 100/100, Loss: 1.3908\n"
     ]
    },
    {
     "data": {
      "image/png": "[encoded data removed]",
      "text/plain": [
       "<Figure size 432x288 with 1 Axes>"
      ]
     },
     "metadata": {
      "needs_background": "light"
     },
     "output_type": "display_data"
    }
   ],
   "source": [
    "fit(\n",
    "    X=X_train, y=y_train,\n",
    "    model=lr_model, loss_fn=mse_loss, optimizer=sgd_opt,\n",
    "    n_epochs=100)"
   ]
  },
  {
   "cell_type": "markdown",
   "metadata": {},
   "source": [
    "# 4. Test"
   ]
  },
  {
   "cell_type": "code",
   "execution_count": 7,
   "metadata": {
    "tags": []
   },
   "outputs": [
    {
     "name": "stdout",
     "output_type": "stream",
     "text": [
      "Final loss: 1.3908\n"
     ]
    }
   ],
   "source": [
    "# test = train to verify model\n",
    "X_test = X_train\n",
    "y_test = y_train\n",
    "\n",
    "y_test_ = lr_model(X_test)\n",
    "loss = mse_loss(y_test_, y_test)\n",
    "print(f\"Final loss: {loss:.4f}\")"
   ]
  },
  {
   "cell_type": "code",
   "execution_count": 8,
   "metadata": {},
   "outputs": [
    {
     "data": {
      "image/png": "[encoded data removed]",
      "text/plain": [
       "<Figure size 432x288 with 1 Axes>"
      ]
     },
     "metadata": {
      "needs_background": "light"
     },
     "output_type": "display_data"
    }
   ],
   "source": [
    "# Plot final prediction\n",
    "\n",
    "## convert pytorch tensor -> numpy\n",
    "X_test = X_test.detach().numpy()\n",
    "y_test_ = y_test_.detach().numpy()\n",
    "\n",
    "plt.scatter(X, y, label='Original data')\n",
    "plt.plot(X_test, y_test_, color='red', label='Fitted line')\n",
    "plt.legend()\n",
    "plt.show()"
   ]
  }
 ],
 "metadata": {
  "kernelspec": {
   "display_name": "Python 3.7",
   "language": "python",
   "name": "py37"
  },
  "language_info": {
   "codemirror_mode": {
    "name": "ipython",
    "version": 3
   },
   "file_extension": ".py",
   "mimetype": "text/x-python",
   "name": "python",
   "nbconvert_exporter": "python",
   "pygments_lexer": "ipython3",
   "version": "3.7.9"
  }
 },
 "nbformat": 4,
 "nbformat_minor": 2
}
