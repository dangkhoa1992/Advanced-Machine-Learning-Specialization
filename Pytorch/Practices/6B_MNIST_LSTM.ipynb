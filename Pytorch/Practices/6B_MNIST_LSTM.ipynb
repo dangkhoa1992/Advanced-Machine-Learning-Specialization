{
 "cells": [
  {
   "cell_type": "code",
   "execution_count": 1,
   "metadata": {
    "tags": []
   },
   "outputs": [
    {
     "name": "stdout",
     "output_type": "stream",
     "text": [
      "1.6.0\n",
      "True\n"
     ]
    }
   ],
   "source": [
    "import numpy as np\n",
    "import torch\n",
    "import matplotlib.pyplot as plt\n",
    "\n",
    "print(torch.__version__)\n",
    "print(torch.cuda.is_available())"
   ]
  },
  {
   "cell_type": "markdown",
   "metadata": {},
   "source": [
    "# 1. Dataset\n",
    "- MNIST"
   ]
  },
  {
   "cell_type": "code",
   "execution_count": 2,
   "metadata": {},
   "outputs": [],
   "source": [
    "%%capture\n",
    "import torchvision\n",
    "import torchvision.transforms as transforms\n",
    "\n",
    "train_dataset = torchvision.datasets.MNIST(\n",
    "    root='/tmp/mnist',\n",
    "    train=True,\n",
    "    transform=transforms.ToTensor(),\n",
    "    download=True)\n",
    "test_dataset = torchvision.datasets.MNIST(\n",
    "    root='/tmp/mnist',\n",
    "    train=False,\n",
    "    transform=transforms.ToTensor(),\n",
    "    download=True)"
   ]
  },
  {
   "cell_type": "markdown",
   "metadata": {},
   "source": [
    "#### DataLoader"
   ]
  },
  {
   "cell_type": "code",
   "execution_count": 3,
   "metadata": {},
   "outputs": [],
   "source": [
    "batch_size = 128\n",
    "train_loader = torch.utils.data.DataLoader(\n",
    "    dataset=train_dataset, \n",
    "    batch_size=batch_size, \n",
    "    shuffle=True)\n",
    "\n",
    "test_loader = torch.utils.data.DataLoader(\n",
    "    dataset=test_dataset, \n",
    "    batch_size=batch_size, \n",
    "    shuffle=False)"
   ]
  },
  {
   "cell_type": "code",
   "execution_count": 4,
   "metadata": {
    "tags": []
   },
   "outputs": [
    {
     "name": "stdout",
     "output_type": "stream",
     "text": [
      "469\n",
      "torch.Size([128, 1, 28, 28]) torch.Size([128])\n",
      "torch.Size([128, 28, 28]) torch.Size([128])\n"
     ]
    }
   ],
   "source": [
    "print(len(train_loader))\n",
    "for Xb_train, yb_train in train_loader:\n",
    "    print(Xb_train.shape, yb_train.shape)\n",
    "    Xb_train = Xb_train.view(-1, 28, 28)\n",
    "    print(Xb_train.shape, yb_train.shape)\n",
    "    break"
   ]
  },
  {
   "cell_type": "markdown",
   "metadata": {},
   "source": [
    "# 2. Model"
   ]
  },
  {
   "cell_type": "code",
   "execution_count": 5,
   "metadata": {},
   "outputs": [],
   "source": [
    "import torch.nn as nn\n",
    "\n",
    "class RNN(nn.Module):\n",
    "    def __init__(self, n_inputs, n_hidden, n_rnnlayers, n_outputs):\n",
    "        super(RNN, self).__init__()\n",
    "        self.input_size = n_inputs\n",
    "        self.hidden_size = n_hidden\n",
    "        self.output_dim = n_outputs\n",
    "        self.num_layers = n_rnnlayers\n",
    "\n",
    "        # LSTM layer\n",
    "        self.rnn = nn.LSTM(\n",
    "            input_size=self.input_size,\n",
    "            hidden_size=self.hidden_size,\n",
    "            num_layers=self.num_layers,\n",
    "            batch_first=True)\n",
    "\n",
    "        # Linear layer\n",
    "        self.fc =nn.Linear(self.hidden_size, self.output_dim)\n",
    "\n",
    "    def forward(self, X):\n",
    "        # initial hidden states: X.size(0) = batchsize\n",
    "        h0 = torch.zeros(self.num_layers, X.size(0), self.hidden_size).to(device)\n",
    "        c0 = torch.zeros(self.num_layers, X.size(0), self.hidden_size).to(device)\n",
    "\n",
    "        # get RNN unit output\n",
    "        out, _ = self.rnn(X, (h0, c0))\n",
    "\n",
    "        # we only want h(T) at the final time step\n",
    "        out = self.fc(out[:, -1, :])\n",
    "        return out"
   ]
  },
  {
   "cell_type": "code",
   "execution_count": 6,
   "metadata": {
    "tags": []
   },
   "outputs": [
    {
     "name": "stdout",
     "output_type": "stream",
     "text": [
      "cuda:0\n"
     ]
    }
   ],
   "source": [
    "device = torch.device(\"cuda:0\" if torch.cuda.is_available() else \"cpu\")\n",
    "print(device)"
   ]
  },
  {
   "cell_type": "code",
   "execution_count": 7,
   "metadata": {},
   "outputs": [],
   "source": [
    "# Model\n",
    "model = RNN(\n",
    "    n_inputs=28,\n",
    "    n_hidden=128,\n",
    "    n_rnnlayers=2,\n",
    "    n_outputs=10)\n",
    "model.to(device)\n",
    "\n",
    "# Loss\n",
    "ce_loss = nn.CrossEntropyLoss()\n",
    "\n",
    "# Optimizer\n",
    "adam_opt = torch.optim.Adam(model.parameters())"
   ]
  },
  {
   "cell_type": "markdown",
   "metadata": {},
   "source": [
    "# 3. Train"
   ]
  },
  {
   "cell_type": "code",
   "execution_count": 8,
   "metadata": {},
   "outputs": [],
   "source": [
    "def fit(train_loader, valid_loader, model, loss_fn, optimizer, n_epochs):\n",
    "    train_losses = np.zeros(n_epochs)\n",
    "    valid_losses = np.zeros(n_epochs)\n",
    "\n",
    "    for i in range(n_epochs):\n",
    "        # Train by batches\n",
    "        train_batch_loss = []\n",
    "        for X_b, y_b in train_loader:\n",
    "            # Load data to GPU\n",
    "            X_train, y_train = X_b.to(device), y_b.to(device)\n",
    "\n",
    "            # reshape the input\n",
    "            X_train = X_train.view(-1, 28, 28)\n",
    "\n",
    "            # zero the parameter gradients\n",
    "            optimizer.zero_grad()\n",
    "\n",
    "            # Forward\n",
    "            y_train_ = model(X_train)\n",
    "            loss = loss_fn(y_train_, y_train)\n",
    "\n",
    "            # Backward\n",
    "            loss.backward()\n",
    "            optimizer.step()\n",
    "\n",
    "            train_batch_loss.append(loss.item())\n",
    "\n",
    "        # Valid by batches\n",
    "        valid_batch_loss = []\n",
    "        for X_valid, y_valid in test_loader:\n",
    "            # Load data to GPU\n",
    "            X_valid, y_valid = X_valid.to(device), y_valid.to(device)\n",
    "\n",
    "            # reshape the input\n",
    "            X_valid = X_valid.view(-1, 28, 28)\n",
    "\n",
    "            # fit\n",
    "            y_valid_ = model(X_valid)\n",
    "            loss = loss_fn(y_valid_, y_valid)\n",
    "\n",
    "            valid_batch_loss.append(loss.item())\n",
    "\n",
    "\n",
    "        # Save losses\n",
    "        train_loss = np.mean(train_batch_loss)\n",
    "        valid_loss = np.mean(valid_batch_loss)\n",
    "        train_losses[i] = train_loss\n",
    "        valid_losses[i] = valid_loss\n",
    "            \n",
    "        if (i+1) % 2 == 0:\n",
    "            print(f'Epoch {i+1}/{n_epochs}, Train Loss: {train_loss:.4f}, Valid Loss: {valid_loss:.4f}')\n",
    "\n",
    "    # Plot\n",
    "    plt.plot(train_losses, label='train loss')\n",
    "    plt.plot(valid_losses, label='valid loss')\n",
    "    plt.legend()\n",
    "    plt.show()"
   ]
  },
  {
   "cell_type": "code",
   "execution_count": 9,
   "metadata": {
    "tags": []
   },
   "outputs": [
    {
     "name": "stdout",
     "output_type": "stream",
     "text": [
      "Epoch 2/20, Train Loss: 0.1276, Valid Loss: 0.1212\n",
      "Epoch 4/20, Train Loss: 0.0618, Valid Loss: 0.0723\n",
      "Epoch 6/20, Train Loss: 0.0422, Valid Loss: 0.0512\n",
      "Epoch 8/20, Train Loss: 0.0315, Valid Loss: 0.0411\n",
      "Epoch 10/20, Train Loss: 0.0254, Valid Loss: 0.0524\n",
      "Epoch 12/20, Train Loss: 0.0198, Valid Loss: 0.0378\n",
      "Epoch 14/20, Train Loss: 0.0169, Valid Loss: 0.0372\n",
      "Epoch 16/20, Train Loss: 0.0145, Valid Loss: 0.0414\n",
      "Epoch 18/20, Train Loss: 0.0117, Valid Loss: 0.0446\n",
      "Epoch 20/20, Train Loss: 0.0137, Valid Loss: 0.0321\n"
     ]
    },
    {
     "data": {
      "image/png": "[encoded data removed]",
      "text/plain": [
       "<Figure size 432x288 with 1 Axes>"
      ]
     },
     "metadata": {
      "needs_background": "light"
     },
     "output_type": "display_data"
    }
   ],
   "source": [
    "valid_loader = test_loader\n",
    "\n",
    "fit(train_loader, valid_loader,\n",
    "    model=model, loss_fn=ce_loss, optimizer=adam_opt,\n",
    "    n_epochs=20)"
   ]
  },
  {
   "cell_type": "markdown",
   "metadata": {},
   "source": [
    "# 4. Test\n",
    "#### Accuracy"
   ]
  },
  {
   "cell_type": "code",
   "execution_count": 10,
   "metadata": {
    "tags": []
   },
   "outputs": [
    {
     "name": "stdout",
     "output_type": "stream",
     "text": [
      "Test acc: 0.9907\n"
     ]
    }
   ],
   "source": [
    "n_correct = 0.\n",
    "n_total = 0.\n",
    "for Xb_test, yb_test in test_loader:\n",
    "    # Load data to GPU\n",
    "    Xb_test, yb_test = Xb_test.to(device), yb_test.to(device)\n",
    "\n",
    "    # reshape the input\n",
    "    Xb_test = Xb_test.view(-1, 28, 28)\n",
    "\n",
    "    # Fit\n",
    "    yb_test_ = model(Xb_test)\n",
    "\n",
    "    # Get prediction\n",
    "    # torch.max returns both max and argmax\n",
    "    _, predictions = torch.max(yb_test_, 1)\n",
    "  \n",
    "    # update counts\n",
    "    n_correct += (predictions == yb_test).sum().item()\n",
    "    n_total += yb_test.shape[0]\n",
    "\n",
    "test_acc = n_correct / n_total\n",
    "print(f\"Test acc: {test_acc:.4f}\")"
   ]
  },
  {
   "cell_type": "markdown",
   "metadata": {},
   "source": [
    "#### Confusion matrix"
   ]
  },
  {
   "cell_type": "code",
   "execution_count": 11,
   "metadata": {},
   "outputs": [],
   "source": [
    "from sklearn.metrics import confusion_matrix\n",
    "import itertools\n",
    "\n",
    "def plot_confusion_matrix(\n",
    "    cm, classes,\n",
    "    normalize=False,\n",
    "    title='Confusion matrix',\n",
    "    cmap=plt.cm.Blues):\n",
    "    \"\"\"\n",
    "    This function prints and plots the confusion matrix.\n",
    "    Normalization can be applied by setting `normalize=True`.\n",
    "    \"\"\"\n",
    "    if normalize:\n",
    "        cm = cm.astype('float') / cm.sum(axis=1)[:, np.newaxis]\n",
    "        print(\"Normalized confusion matrix\")\n",
    "    else:\n",
    "        print('Confusion matrix, without normalization')\n",
    "\n",
    "    print(cm)\n",
    "\n",
    "    plt.imshow(cm, interpolation='nearest', cmap=cmap)\n",
    "    plt.title(title)\n",
    "    plt.colorbar()\n",
    "    tick_marks = np.arange(len(classes))\n",
    "    plt.xticks(tick_marks, classes, rotation=45)\n",
    "    plt.yticks(tick_marks, classes)\n",
    "\n",
    "    fmt = '.2f' if normalize else 'd'\n",
    "    thresh = cm.max() / 2.\n",
    "    for i, j in itertools.product(range(cm.shape[0]), range(cm.shape[1])):\n",
    "        plt.text(j, i, format(cm[i, j], fmt),\n",
    "            horizontalalignment=\"center\",\n",
    "            color=\"white\" if cm[i, j] > thresh else \"black\")\n",
    "\n",
    "    plt.tight_layout()\n",
    "    plt.ylabel('True label')\n",
    "    plt.xlabel('Predicted label')\n",
    "    plt.show()"
   ]
  },
  {
   "cell_type": "code",
   "execution_count": 12,
   "metadata": {
    "tags": []
   },
   "outputs": [
    {
     "name": "stdout",
     "output_type": "stream",
     "text": [
      "Confusion matrix, without normalization\n",
      "[[ 976    0    0    0    0    0    2    1    1    0]\n",
      " [   0 1130    2    1    0    1    0    1    0    0]\n",
      " [   1    2 1022    1    1    0    0    5    0    0]\n",
      " [   0    0    1 1006    0    2    0    0    1    0]\n",
      " [   0    0    0    0  966    0    3    1    0   12]\n",
      " [   0    0    1    2    0  887    0    0    2    0]\n",
      " [   2    2    0    0    2    6  945    0    1    0]\n",
      " [   0    4    2    0    0    1    0 1019    1    1]\n",
      " [   0    1    0    5    1    3    0    3  960    1]\n",
      " [   0    0    0    0    7    2    0    3    1  996]]\n"
     ]
    },
    {
     "data": {
      "image/png": "[encoded data removed]",
      "text/plain": [
       "<Figure size 432x288 with 2 Axes>"
      ]
     },
     "metadata": {
      "needs_background": "light"
     },
     "output_type": "display_data"
    }
   ],
   "source": [
    "x_test = test_dataset.data.numpy()\n",
    "y_test = test_dataset.targets.numpy()\n",
    "p_test = np.array([])\n",
    "for Xb_test, yb_test in test_loader:\n",
    "    # Load data to GPU\n",
    "    Xb_test, yb_test = Xb_test.to(device), yb_test.to(device)\n",
    "\n",
    "    # reshape the input\n",
    "    Xb_test = Xb_test.view(-1, 28, 28)\n",
    "\n",
    "    # Fit\n",
    "    yb_test_ = model(Xb_test)\n",
    "\n",
    "    # Get prediction\n",
    "    # torch.max returns both max and argmax\n",
    "    _, predictions = torch.max(yb_test_, 1)\n",
    "  \n",
    "    # update p_test\n",
    "    p_test = np.concatenate((p_test, predictions.cpu().numpy()))\n",
    "\n",
    "cm = confusion_matrix(y_test, p_test)\n",
    "plot_confusion_matrix(cm, list(range(10)))"
   ]
  },
  {
   "cell_type": "code",
   "execution_count": 13,
   "metadata": {},
   "outputs": [
    {
     "data": {
      "image/png": "[encoded data removed]",
      "text/plain": [
       "<Figure size 432x288 with 1 Axes>"
      ]
     },
     "metadata": {
      "needs_background": "light"
     },
     "output_type": "display_data"
    }
   ],
   "source": [
    "# Show some misclassified examples\n",
    "misclassified_idx = np.where(p_test != y_test)[0]\n",
    "i = np.random.choice(misclassified_idx)\n",
    "plt.imshow(x_test[i], cmap='gray')\n",
    "plt.title(\"True label: %s Predicted: %s\" % (y_test[i], int(p_test[i])));"
   ]
  }
 ],
 "metadata": {
  "kernelspec": {
   "display_name": "Python 3.7",
   "language": "python",
   "name": "py37"
  },
  "language_info": {
   "codemirror_mode": {
    "name": "ipython",
    "version": 3
   },
   "file_extension": ".py",
   "mimetype": "text/x-python",
   "name": "python",
   "nbconvert_exporter": "python",
   "pygments_lexer": "ipython3",
   "version": "3.7.9"
  }
 },
 "nbformat": 4,
 "nbformat_minor": 2
}
