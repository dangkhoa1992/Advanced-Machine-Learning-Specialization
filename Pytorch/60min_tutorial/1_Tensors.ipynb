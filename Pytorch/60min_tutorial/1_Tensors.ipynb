{
 "cells": [
  {
   "cell_type": "code",
   "execution_count": 1,
   "metadata": {},
   "outputs": [],
   "source": [
    "import torch\n",
    "import numpy as np"
   ]
  },
  {
   "cell_type": "markdown",
   "metadata": {},
   "source": [
    "# 1. Create torch tensor"
   ]
  },
  {
   "cell_type": "code",
   "execution_count": 2,
   "metadata": {},
   "outputs": [
    {
     "name": "stdout",
     "output_type": "stream",
     "text": [
      "tensor([[0., 0., 0.],\n",
      "        [0., 0., 0.],\n",
      "        [0., 0., 0.],\n",
      "        [0., 0., 0.],\n",
      "        [0., 0., 0.]])\n"
     ]
    }
   ],
   "source": [
    "x = torch.empty(5, 3)\n",
    "print(x)"
   ]
  },
  {
   "cell_type": "code",
   "execution_count": 3,
   "metadata": {},
   "outputs": [
    {
     "name": "stdout",
     "output_type": "stream",
     "text": [
      "tensor([[0.6926, 0.5327, 0.4205],\n",
      "        [0.2039, 0.8113, 0.1510],\n",
      "        [0.5618, 0.6669, 0.2317],\n",
      "        [0.8417, 0.1594, 0.0145],\n",
      "        [0.8905, 0.0748, 0.3024]])\n"
     ]
    }
   ],
   "source": [
    "x = torch.rand(5, 3)\n",
    "print(x)"
   ]
  },
  {
   "cell_type": "code",
   "execution_count": 4,
   "metadata": {},
   "outputs": [
    {
     "name": "stdout",
     "output_type": "stream",
     "text": [
      "tensor([[0, 0, 0],\n",
      "        [0, 0, 0],\n",
      "        [0, 0, 0],\n",
      "        [0, 0, 0],\n",
      "        [0, 0, 0]])\n"
     ]
    }
   ],
   "source": [
    "x = torch.zeros(5, 3, dtype=torch.long)\n",
    "print(x)"
   ]
  },
  {
   "cell_type": "code",
   "execution_count": 5,
   "metadata": {},
   "outputs": [
    {
     "name": "stdout",
     "output_type": "stream",
     "text": [
      "tensor([5.5000, 3.0000])\n"
     ]
    }
   ],
   "source": [
    "x = torch.tensor([5.5, 3])\n",
    "print(x)"
   ]
  },
  {
   "cell_type": "markdown",
   "metadata": {},
   "source": [
    "#### Create based on existing tensors"
   ]
  },
  {
   "cell_type": "code",
   "execution_count": 6,
   "metadata": {},
   "outputs": [
    {
     "name": "stdout",
     "output_type": "stream",
     "text": [
      "tensor([[1., 1., 1.],\n",
      "        [1., 1., 1.],\n",
      "        [1., 1., 1.],\n",
      "        [1., 1., 1.],\n",
      "        [1., 1., 1.]], dtype=torch.float64)\n"
     ]
    }
   ],
   "source": [
    "x = x.new_ones(5, 3, dtype=torch.double)      # new_* methods take in sizes\n",
    "print(x)"
   ]
  },
  {
   "cell_type": "code",
   "execution_count": 7,
   "metadata": {},
   "outputs": [
    {
     "name": "stdout",
     "output_type": "stream",
     "text": [
      "tensor([[-1.0470, -0.1390, -0.6880],\n",
      "        [-0.2868, -1.7175, -0.2800],\n",
      "        [-0.2782, -1.0331, -0.2068],\n",
      "        [-0.2238, -0.7491, -0.4614],\n",
      "        [ 0.7169,  1.2641, -1.2818]])\n"
     ]
    }
   ],
   "source": [
    "x = torch.randn_like(x, dtype=torch.float)    # override dtype!\n",
    "print(x)                                      # result has the same size"
   ]
  },
  {
   "cell_type": "markdown",
   "metadata": {},
   "source": [
    "# 2. Attributes"
   ]
  },
  {
   "cell_type": "code",
   "execution_count": 8,
   "metadata": {},
   "outputs": [
    {
     "name": "stdout",
     "output_type": "stream",
     "text": [
      "torch.Size([5, 3])\n"
     ]
    }
   ],
   "source": [
    "# Get shape\n",
    "print(x.size())"
   ]
  },
  {
   "cell_type": "code",
   "execution_count": 9,
   "metadata": {},
   "outputs": [
    {
     "name": "stdout",
     "output_type": "stream",
     "text": [
      "tensor([-0.1390, -1.7175, -1.0331, -0.7491,  1.2641])\n"
     ]
    }
   ],
   "source": [
    "# slice\n",
    "print(x[:, 1])"
   ]
  },
  {
   "cell_type": "markdown",
   "metadata": {},
   "source": [
    "# 3. Operations"
   ]
  },
  {
   "cell_type": "code",
   "execution_count": 10,
   "metadata": {},
   "outputs": [],
   "source": [
    "x = torch.rand(5, 3)\n",
    "y = torch.rand(5, 3)"
   ]
  },
  {
   "cell_type": "markdown",
   "metadata": {},
   "source": [
    "#### ops"
   ]
  },
  {
   "cell_type": "code",
   "execution_count": 11,
   "metadata": {},
   "outputs": [
    {
     "name": "stdout",
     "output_type": "stream",
     "text": [
      "tensor([[1.7090, 0.6432, 1.1329],\n",
      "        [0.2694, 0.3478, 0.5612],\n",
      "        [1.3530, 1.1800, 0.5946],\n",
      "        [0.9444, 0.5512, 0.9898],\n",
      "        [1.0129, 1.4179, 1.1429]])\n",
      "tensor([[1.7090, 0.6432, 1.1329],\n",
      "        [0.2694, 0.3478, 0.5612],\n",
      "        [1.3530, 1.1800, 0.5946],\n",
      "        [0.9444, 0.5512, 0.9898],\n",
      "        [1.0129, 1.4179, 1.1429]])\n"
     ]
    }
   ],
   "source": [
    "print(x + y)\n",
    "print(torch.add(x, y))"
   ]
  },
  {
   "cell_type": "code",
   "execution_count": 12,
   "metadata": {},
   "outputs": [
    {
     "name": "stdout",
     "output_type": "stream",
     "text": [
      "tensor([[1.7090, 0.6432, 1.1329],\n",
      "        [0.2694, 0.3478, 0.5612],\n",
      "        [1.3530, 1.1800, 0.5946],\n",
      "        [0.9444, 0.5512, 0.9898],\n",
      "        [1.0129, 1.4179, 1.1429]])\n"
     ]
    }
   ],
   "source": [
    "result = torch.empty(5, 3)\n",
    "torch.add(x, y, out=result)\n",
    "print(result)"
   ]
  },
  {
   "cell_type": "markdown",
   "metadata": {},
   "source": [
    "#### inplace"
   ]
  },
  {
   "cell_type": "code",
   "execution_count": 13,
   "metadata": {},
   "outputs": [
    {
     "name": "stdout",
     "output_type": "stream",
     "text": [
      "tensor([[1.7090, 0.6432, 1.1329],\n",
      "        [0.2694, 0.3478, 0.5612],\n",
      "        [1.3530, 1.1800, 0.5946],\n",
      "        [0.9444, 0.5512, 0.9898],\n",
      "        [1.0129, 1.4179, 1.1429]])\n"
     ]
    }
   ],
   "source": [
    "# adds x to y\n",
    "y.add_(x)\n",
    "print(y)"
   ]
  },
  {
   "cell_type": "markdown",
   "metadata": {},
   "source": [
    "# 4. Manipulations"
   ]
  },
  {
   "cell_type": "code",
   "execution_count": 14,
   "metadata": {},
   "outputs": [
    {
     "data": {
      "text/plain": [
       "torch.Size([4, 4])"
      ]
     },
     "execution_count": 14,
     "metadata": {},
     "output_type": "execute_result"
    }
   ],
   "source": [
    "x = torch.randn(4, 4)\n",
    "x.size()"
   ]
  },
  {
   "cell_type": "markdown",
   "metadata": {},
   "source": [
    "#### Reshape"
   ]
  },
  {
   "cell_type": "code",
   "execution_count": 15,
   "metadata": {},
   "outputs": [
    {
     "name": "stdout",
     "output_type": "stream",
     "text": [
      "torch.Size([16])\n",
      "torch.Size([2, 8])\n"
     ]
    }
   ],
   "source": [
    "print(x.view(16).size())\n",
    "print(x.view(-1, 8).size())  # the size -1 is inferred from other dimensions"
   ]
  },
  {
   "cell_type": "markdown",
   "metadata": {},
   "source": [
    "#### 1 element tensor -> scalar"
   ]
  },
  {
   "cell_type": "code",
   "execution_count": 16,
   "metadata": {},
   "outputs": [
    {
     "name": "stdout",
     "output_type": "stream",
     "text": [
      "tensor([0.5307])\n",
      "0.5306511521339417\n"
     ]
    }
   ],
   "source": [
    "x = torch.randn(1)\n",
    "print(x)\n",
    "print(x.item())"
   ]
  },
  {
   "cell_type": "code",
   "execution_count": 17,
   "metadata": {},
   "outputs": [
    {
     "name": "stdout",
     "output_type": "stream",
     "text": [
      "tensor([[0.9868]])\n",
      "0.9867517352104187\n"
     ]
    }
   ],
   "source": [
    "x = torch.randn(1,1)\n",
    "print(x)\n",
    "print(x.item())"
   ]
  },
  {
   "cell_type": "markdown",
   "metadata": {},
   "source": [
    "# 5. Interact with numpy "
   ]
  },
  {
   "cell_type": "markdown",
   "metadata": {},
   "source": [
    "#### torch tensor -> numpy"
   ]
  },
  {
   "cell_type": "code",
   "execution_count": 18,
   "metadata": {},
   "outputs": [
    {
     "name": "stdout",
     "output_type": "stream",
     "text": [
      "torch.Size([5]) (5,)\n"
     ]
    }
   ],
   "source": [
    "a = torch.ones(5)\n",
    "b = a.numpy()\n",
    "\n",
    "print(a.size(), b.shape)"
   ]
  },
  {
   "cell_type": "markdown",
   "metadata": {},
   "source": [
    "#### numpy -> torch tensor"
   ]
  },
  {
   "cell_type": "code",
   "execution_count": 19,
   "metadata": {},
   "outputs": [
    {
     "name": "stdout",
     "output_type": "stream",
     "text": [
      "(5,) torch.Size([5])\n"
     ]
    }
   ],
   "source": [
    "a = np.ones(5)\n",
    "b = torch.from_numpy(a)\n",
    "\n",
    "print(a.shape, b.size())"
   ]
  },
  {
   "cell_type": "markdown",
   "metadata": {},
   "source": [
    "# 6. Cuda tensor"
   ]
  },
  {
   "cell_type": "code",
   "execution_count": 20,
   "metadata": {},
   "outputs": [
    {
     "name": "stdout",
     "output_type": "stream",
     "text": [
      "x is on: cpu\n",
      "y is on: cpu\n",
      "Now, x is on: cuda:0\n",
      "tensor([[ 1.8399, -1.2654, -0.4586],\n",
      "        [-0.1287,  1.9742,  2.8434],\n",
      "        [-0.2948,  3.1158,  0.4546],\n",
      "        [-0.3405,  0.8449,  1.0437],\n",
      "        [ 0.5920,  2.5526,  0.6229]], device='cuda:0')\n",
      "tensor([[ 1.8399, -1.2654, -0.4586],\n",
      "        [-0.1287,  1.9742,  2.8434],\n",
      "        [-0.2948,  3.1158,  0.4546],\n",
      "        [-0.3405,  0.8449,  1.0437],\n",
      "        [ 0.5920,  2.5526,  0.6229]], dtype=torch.float64)\n"
     ]
    }
   ],
   "source": [
    "# Create a tensor on cpu\n",
    "x = torch.randn(5, 3)\n",
    "\n",
    "# Check if tensor is in cpu or gpu\n",
    "print(f\"x is on: {x.device}\")\n",
    "\n",
    "# CUDA code\n",
    "if torch.cuda.is_available():\n",
    "    # a CUDA device object\n",
    "    device = torch.device(\"cuda\")\n",
    "\n",
    "    # Directly create a tensor on GPU\n",
    "    y = torch.ones_like(x, device=device)\n",
    "    print(f\"y is on: {x.device}\")\n",
    "\n",
    "    # Move from cpu -> gpu\n",
    "    x = x.to(device)\n",
    "    print(f\"Now, x is on: {x.device}\")\n",
    "\n",
    "    # Do ops\n",
    "    z = x + y\n",
    "    print(z)\n",
    "\n",
    "# Bring z to cpu\n",
    "z = z.to(\"cpu\", torch.double)\n",
    "print(z)"
   ]
  }
 ],
 "metadata": {
  "kernelspec": {
   "display_name": "Python 3.7",
   "language": "python",
   "name": "py37"
  },
  "language_info": {
   "codemirror_mode": {
    "name": "ipython",
    "version": 3
   },
   "file_extension": ".py",
   "mimetype": "text/x-python",
   "name": "python",
   "nbconvert_exporter": "python",
   "pygments_lexer": "ipython3",
   "version": "3.7.9"
  }
 },
 "nbformat": 4,
 "nbformat_minor": 4
}
