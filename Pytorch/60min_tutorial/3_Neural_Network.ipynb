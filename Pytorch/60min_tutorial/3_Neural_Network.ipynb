{
 "cells": [
  {
   "cell_type": "markdown",
   "metadata": {},
   "source": [
    "# 1. Create an NN \n",
    "\n",
    "Create a sample network\n",
    "\n",
    "<img src=\"https://pytorch.org/tutorials/_images/mnist.png\" width=\"700\"/>\n",
    "\n",
    "[Source](https://pytorch.org/tutorials/beginner/blitz/neural_networks_tutorial.html#sphx-glr-beginner-blitz-neural-networks-tutorial-py)\n",
    "\n"
   ]
  },
  {
   "cell_type": "code",
   "execution_count": 1,
   "metadata": {},
   "outputs": [],
   "source": [
    "import torch.nn as nn\n",
    "import torch.nn.functional as F\n",
    "\n",
    "\n",
    "class Net(nn.Module):\n",
    "    def __init__(self):\n",
    "        super(Net, self).__init__()\n",
    "        self.conv1 = nn.Conv2d(in_channels=1, out_channels=6, kernel_size=3)\n",
    "            # 1 input image channel, 6 output channels, 3x3 square convolution\n",
    "        self.conv2 = nn.Conv2d(in_channels=6, out_channels=16, kernel_size=3)\n",
    "        self.fc1 = nn.Linear(in_features=16 * 6 * 6, out_features=120)\n",
    "        self.fc2 = nn.Linear(in_features=120, out_features=84)\n",
    "        self.fc3 = nn.Linear(in_features=84, out_features=10)\n",
    "\n",
    "    def forward(self, x):\n",
    "        # x = [:, 1, 32, 32]\n",
    "\n",
    "        ## COnv Kernel\n",
    "        x = F.max_pool2d(F.relu(self.conv1(x)), (2, 2))\n",
    "            # [:, 6, 15, 15]\n",
    "        x = F.max_pool2d(F.relu(self.conv2(x)), 2)\n",
    "            # [:, 16, 6, 6]\n",
    "\n",
    "        ## Flatten\n",
    "        x = x.view(-1, self.num_flat_features(x))\n",
    "            # [:, 576]\n",
    "\n",
    "        ## Linear layers\n",
    "        x = F.relu(self.fc1(x))\n",
    "            # [:, 120]\n",
    "        x = F.relu(self.fc2(x))\n",
    "            # [:, 84]\n",
    "        x = self.fc3(x)\n",
    "            # [:, 10]\n",
    "        return x\n",
    "\n",
    "    def num_flat_features(self, x):\n",
    "        \"\"\"A Function to get the dimentsion of flatting feature\"\"\"\n",
    "        # x = [:, 16, 6, 6]\n",
    "\n",
    "        # Get all dimensions except the batch dimension\n",
    "        size = x.size()[1:]\n",
    "            # [16, 6, 6]\n",
    "\n",
    "        num_features = 1\n",
    "        for s in size:\n",
    "            num_features *= s\n",
    "            # 16*6*6\n",
    "        return num_features"
   ]
  },
  {
   "cell_type": "code",
   "execution_count": 2,
   "metadata": {},
   "outputs": [
    {
     "name": "stdout",
     "output_type": "stream",
     "text": [
      "Net(\n",
      "  (conv1): Conv2d(1, 6, kernel_size=(3, 3), stride=(1, 1))\n",
      "  (conv2): Conv2d(6, 16, kernel_size=(3, 3), stride=(1, 1))\n",
      "  (fc1): Linear(in_features=576, out_features=120, bias=True)\n",
      "  (fc2): Linear(in_features=120, out_features=84, bias=True)\n",
      "  (fc3): Linear(in_features=84, out_features=10, bias=True)\n",
      ")\n"
     ]
    }
   ],
   "source": [
    "net = Net()\n",
    "print(net)"
   ]
  },
  {
   "cell_type": "markdown",
   "metadata": {},
   "source": [
    "#### Check nn - weights and weight shape"
   ]
  },
  {
   "cell_type": "code",
   "execution_count": 3,
   "metadata": {},
   "outputs": [
    {
     "name": "stdout",
     "output_type": "stream",
     "text": [
      "torch.Size([6, 1, 3, 3])\n",
      "torch.Size([6])\n",
      "torch.Size([16, 6, 3, 3])\n",
      "torch.Size([16])\n",
      "torch.Size([120, 576])\n",
      "torch.Size([120])\n",
      "torch.Size([84, 120])\n",
      "torch.Size([84])\n",
      "torch.Size([10, 84])\n",
      "torch.Size([10])\n"
     ]
    }
   ],
   "source": [
    "params = list(net.parameters())\n",
    "for i in range(len(params)):\n",
    "    print(params[i].size())"
   ]
  },
  {
   "cell_type": "markdown",
   "metadata": {},
   "source": [
    "#### Try a forward fitting"
   ]
  },
  {
   "cell_type": "code",
   "execution_count": 4,
   "metadata": {},
   "outputs": [
    {
     "name": "stdout",
     "output_type": "stream",
     "text": [
      "tensor([[-0.1181, -0.0074,  0.0331, -0.0807,  0.0395,  0.0615,  0.0152,  0.0141,\n",
      "          0.0665, -0.0082],\n",
      "        [-0.1121, -0.0290,  0.0348, -0.0921,  0.0466,  0.0634,  0.0045,  0.0332,\n",
      "          0.0493, -0.0213],\n",
      "        [-0.1042, -0.0297,  0.0234, -0.0877,  0.0373,  0.0660,  0.0114,  0.0213,\n",
      "          0.0495, -0.0191]], grad_fn=<AddmmBackward>)\n"
     ]
    }
   ],
   "source": [
    "import torch\n",
    "\n",
    "X = torch.randn(3, 1, 32, 32)\n",
    "y_ = net(X)\n",
    "print(y_)"
   ]
  },
  {
   "cell_type": "markdown",
   "metadata": {},
   "source": [
    "# 2. Loss function"
   ]
  },
  {
   "cell_type": "code",
   "execution_count": 9,
   "metadata": {},
   "outputs": [
    {
     "name": "stdout",
     "output_type": "stream",
     "text": [
      "1.108247995376587\n"
     ]
    }
   ],
   "source": [
    "## Suppose batch_size=3\n",
    "# Get y_\n",
    "X = torch.randn(3, 1, 32, 32)\n",
    "y_ = net(X)\n",
    "    # y_.shape = [3, 10]\n",
    "\n",
    "# Get y: a dummy target, for example\n",
    "y = torch.randn(3, 10)\n",
    "\n",
    "# Calc loss\n",
    "criterion = nn.MSELoss()\n",
    "loss = criterion(y_, y)\n",
    "print(loss.item())"
   ]
  },
  {
   "cell_type": "markdown",
   "metadata": {},
   "source": [
    "# 3. Do a backprop with nn\n",
    "#### foward prop\n",
    "\n",
    "```\n",
    "input -> conv2d -> relu -> maxpool2d -> conv2d -> relu -> maxpool2d\n",
    "      -> view -> linear -> relu -> linear -> relu -> linear\n",
    "      -> MSELoss\n",
    "      -> loss\n",
    "```\n",
    "\n"
   ]
  },
  {
   "cell_type": "code",
   "execution_count": 10,
   "metadata": {},
   "outputs": [
    {
     "name": "stdout",
     "output_type": "stream",
     "text": [
      "conv1.bias.grad before backward\n",
      "tensor([0., 0., 0., 0., 0., 0.])\n",
      "conv1.bias.grad after backward\n",
      "tensor([ 0.0037,  0.0002,  0.0019, -0.0026, -0.0058, -0.0018])\n"
     ]
    }
   ],
   "source": [
    "# zeroes the gradient buffers of all parameters\n",
    "net.zero_grad()\n",
    "\n",
    "print('conv1.bias.grad before backward')\n",
    "print(net.conv1.bias.grad)\n",
    "\n",
    "# Do backward with loss\n",
    "loss.backward()\n",
    "\n",
    "print('conv1.bias.grad after backward')\n",
    "print(net.conv1.bias.grad)"
   ]
  },
  {
   "cell_type": "markdown",
   "metadata": {},
   "source": [
    "# 4. Optimizers - Update the weights\n",
    "#### SGD algo in manual\n",
    "\n",
    "```weight = weight - learning_rate * gradient\n",
    "```"
   ]
  },
  {
   "cell_type": "code",
   "execution_count": 7,
   "metadata": {},
   "outputs": [],
   "source": [
    "learning_rate = 0.01\n",
    "for f in net.parameters():\n",
    "    f.data.sub_(f.grad.data * learning_rate)"
   ]
  },
  {
   "cell_type": "markdown",
   "metadata": {},
   "source": [
    "#### Use torch optim"
   ]
  },
  {
   "cell_type": "code",
   "execution_count": 8,
   "metadata": {},
   "outputs": [],
   "source": [
    "import torch.optim as optim\n",
    "\n",
    "# create your optimizer\n",
    "optimizer = optim.SGD(net.parameters(), lr=0.01)\n",
    "\n",
    "#### Training steps ####\n",
    "# zero the gradient buffers\n",
    "optimizer.zero_grad()\n",
    "\n",
    "# forward\n",
    "y_ = net(X)\n",
    "\n",
    "# Calc loss and do backward\n",
    "loss = criterion(y_, y)\n",
    "loss.backward()\n",
    "\n",
    "# Update weights\n",
    "optimizer.step()"
   ]
  }
 ],
 "metadata": {
  "kernelspec": {
   "display_name": "Python 3.7",
   "language": "python",
   "name": "py37"
  },
  "language_info": {
   "codemirror_mode": {
    "name": "ipython",
    "version": 3
   },
   "file_extension": ".py",
   "mimetype": "text/x-python",
   "name": "python",
   "nbconvert_exporter": "python",
   "pygments_lexer": "ipython3",
   "version": "3.7.9"
  }
 },
 "nbformat": 4,
 "nbformat_minor": 4
}
